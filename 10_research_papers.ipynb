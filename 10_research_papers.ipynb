{
 "cells": [
  {
   "cell_type": "markdown",
   "id": "9ac89618-06f3-4d62-b95a-3592f30bef61",
   "metadata": {},
   "source": [
    "# Research papers\n",
    "* Load metadata, list articles related to machine learning\n",
    "* Load abstracts, keep only machine learning articles\n",
    "* Identify research (non-review) papers by looking into the abstracts\n",
    "* Save them as CSV"
   ]
  },
  {
   "cell_type": "code",
   "execution_count": 1,
   "id": "9822dbee-2a77-4e02-b335-ae42e0e96999",
   "metadata": {},
   "outputs": [],
   "source": [
    "import pandas as pd\n",
    "from matplotlib import pyplot as plt \n",
    "import numpy as np\n",
    "import zipfile as zf\n",
    "\n",
    "%matplotlib inline"
   ]
  },
  {
   "cell_type": "markdown",
   "id": "3831a558-1463-4e5c-ba63-2397fc128aaf",
   "metadata": {},
   "source": [
    "## Load metadata, list articles related to machine learning"
   ]
  },
  {
   "cell_type": "code",
   "execution_count": 2,
   "id": "f4ba9546-3a2d-4df3-8a62-da00027d6f28",
   "metadata": {},
   "outputs": [
    {
     "name": "stderr",
     "output_type": "stream",
     "text": [
      "<timed exec>:2: DtypeWarning: Columns (1) have mixed types. Specify dtype option on import or set low_memory=False.\n"
     ]
    },
    {
     "name": "stdout",
     "output_type": "stream",
     "text": [
      "CPU times: user 9.13 s, sys: 1.48 s, total: 10.6 s\n",
      "Wall time: 11.4 s\n"
     ]
    }
   ],
   "source": [
    "%%time\n",
    "\n",
    "# load metadata extracted data in notebook 00_load_metadata\n",
    "arxiv_metadata = pd.read_csv('data/arxiv_metadata.csv.zip', index_col=0)"
   ]
  },
  {
   "cell_type": "code",
   "execution_count": 3,
   "id": "071494c2-43c2-4123-85d8-fabff34eb6fa",
   "metadata": {},
   "outputs": [],
   "source": [
    "# list articles related to machine learning\n",
    "ml_categories = ['cs.AI', 'cs.LG']\n",
    "arxiv_cs_idx = arxiv_metadata['Computer Science'] == 1\n",
    "arxiv_cs = arxiv_metadata[arxiv_cs_idx]\n",
    "arxiv_ml_idx = []\n",
    "for paper_categories in arxiv_cs['categories']:\n",
    "    found = False\n",
    "    for ml_category in ml_categories:\n",
    "        if ml_category in paper_categories:\n",
    "            found = True\n",
    "            break\n",
    "    arxiv_ml_idx.append(found)\n",
    "\n",
    "arxiv_ml = arxiv_cs[arxiv_ml_idx]"
   ]
  },
  {
   "cell_type": "markdown",
   "id": "6a499490-cf41-407c-8492-7cb29c4e000f",
   "metadata": {},
   "source": [
    "## Load abstracts, keep only machine learning articles"
   ]
  },
  {
   "cell_type": "code",
   "execution_count": 4,
   "id": "45a8b9e0-69e7-48fa-99e4-cd61b351cf50",
   "metadata": {},
   "outputs": [
    {
     "name": "stdout",
     "output_type": "stream",
     "text": [
      "CPU times: user 9.52 s, sys: 1 s, total: 10.5 s\n",
      "Wall time: 11.5 s\n"
     ]
    },
    {
     "name": "stderr",
     "output_type": "stream",
     "text": [
      "<timed exec>:2: DtypeWarning: Columns (1) have mixed types. Specify dtype option on import or set low_memory=False.\n"
     ]
    }
   ],
   "source": [
    "%%time\n",
    "\n",
    "# load abstracts extracted data in notebook 00_load_abstracts\n",
    "arxiv_abstracts = pd.read_csv('data/arxiv_abstracts.csv.zip', index_col=0)"
   ]
  },
  {
   "cell_type": "markdown",
   "id": "0a7e1a16-ff01-4845-9eba-bdfe2948eaca",
   "metadata": {},
   "source": [
    "Merge the metadata and abstracts into one dataframe, based on arxiv id."
   ]
  },
  {
   "cell_type": "code",
   "execution_count": 5,
   "id": "2e018ddb-1566-46db-b751-20ac23b832c9",
   "metadata": {},
   "outputs": [],
   "source": [
    "arxiv_abstracts_ml = arxiv_abstracts[arxiv_abstracts.id.isin(arxiv_ml.id)]\n",
    "arxiv_ml_merged = pd.merge(arxiv_ml, arxiv_abstracts_ml, on='id')"
   ]
  },
  {
   "cell_type": "markdown",
   "id": "826a72f9-967d-4162-ae15-70c9fad7230d",
   "metadata": {},
   "source": [
    "## Identify research (non-review) papers by looking into the abstracts"
   ]
  },
  {
   "cell_type": "code",
   "execution_count": 6,
   "id": "082a29bb-5500-4268-bce5-82a1fad07ba4",
   "metadata": {},
   "outputs": [
    {
     "name": "stdout",
     "output_type": "stream",
     "text": [
      "Found 207226 research (non-review) machine learning papers.\n"
     ]
    }
   ],
   "source": [
    "research_paper_idx = ['systematic literature review' not in abstract.lower() for abstract in arxiv_ml_merged.abstract]\n",
    "print(f\"Found {sum(research_paper_idx)} research (non-review) machine learning papers.\")"
   ]
  },
  {
   "cell_type": "code",
   "execution_count": 7,
   "id": "987d2d3b-d27b-4bb6-82d1-9244d490d602",
   "metadata": {},
   "outputs": [],
   "source": [
    "arxiv_ml_research = arxiv_ml_merged[research_paper_idx]"
   ]
  },
  {
   "cell_type": "markdown",
   "id": "eaf721a6-a9e0-4b02-8a92-aabc58935c9b",
   "metadata": {},
   "source": [
    "## Save as compressed CSV"
   ]
  },
  {
   "cell_type": "code",
   "execution_count": 8,
   "id": "bf70f2f6-187b-42f8-87de-a192eceb948f",
   "metadata": {},
   "outputs": [],
   "source": [
    "with zf.ZipFile('data/arxiv_ml_research.csv.zip', 'w') as ziparchive:\n",
    "    ziparchive.writestr('arxiv_ml_research.csv', arxiv_ml_research.to_csv())"
   ]
  },
  {
   "cell_type": "code",
   "execution_count": null,
   "id": "c65ac15a-5551-4df4-9297-ee95a86d6375",
   "metadata": {},
   "outputs": [],
   "source": []
  }
 ],
 "metadata": {
  "kernelspec": {
   "display_name": "Python 3 (ipykernel)",
   "language": "python",
   "name": "python3"
  },
  "language_info": {
   "codemirror_mode": {
    "name": "ipython",
    "version": 3
   },
   "file_extension": ".py",
   "mimetype": "text/x-python",
   "name": "python",
   "nbconvert_exporter": "python",
   "pygments_lexer": "ipython3",
   "version": "3.12.2"
  }
 },
 "nbformat": 4,
 "nbformat_minor": 5
}
