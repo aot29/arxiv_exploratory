{
 "cells": [
  {
   "cell_type": "markdown",
   "id": "ef9058bb-31e0-492a-bbf2-34a5af139ae2",
   "metadata": {},
   "source": [
    "# Impact EDA\n",
    "Exploratory data analysis focused on researcher impact\n",
    "\n",
    "__See__: \n",
    "* https://guides.library.cornell.edu/impact/tracking"
   ]
  },
  {
   "cell_type": "code",
   "execution_count": 59,
   "id": "ec3cd125-b3f1-47dc-8358-ebae5270cfbe",
   "metadata": {},
   "outputs": [],
   "source": [
    "import pandas as pd\n",
    "from matplotlib import pyplot as plt \n",
    "import numpy as np\n",
    "import urllib.request, json \n",
    "\n",
    "%matplotlib inline"
   ]
  },
  {
   "cell_type": "code",
   "execution_count": 108,
   "id": "8a714376-9638-4150-afc0-50ee027bcebe",
   "metadata": {},
   "outputs": [
    {
     "name": "stderr",
     "output_type": "stream",
     "text": [
      "<timed exec>:3: DtypeWarning: Columns (1) have mixed types. Specify dtype option on import or set low_memory=False.\n"
     ]
    },
    {
     "name": "stdout",
     "output_type": "stream",
     "text": [
      "CPU times: user 13.2 s, sys: 960 ms, total: 14.2 s\n",
      "Wall time: 14.2 s\n"
     ]
    }
   ],
   "source": [
    "%%time\n",
    "\n",
    "# load metadata extracted data in notebook 00_load_metadata\n",
    "# parse the author_parsed entries into a list of authors for each paper\n",
    "arxiv_metadata = pd.read_csv('data/arxiv_metadata.zip', converters={\"authors_parsed\": lambda x:[entry.strip('[]') for entry in  x.split(\"], \")]})"
   ]
  },
  {
   "cell_type": "markdown",
   "id": "abab0592-eb0b-4ef3-9c87-ff362401e45b",
   "metadata": {},
   "source": [
    "## Filter papers\n",
    "* Keep only papers in date range, as years older than 1993 and younger than 2023 are incomplete,\n",
    "* Keep only papers about gravitational waves (\"gr-qc\") and artificial intelligence (\"cs.AI\")"
   ]
  },
  {
   "cell_type": "code",
   "execution_count": 109,
   "id": "491921d8-a6fe-423f-bc50-a6e3fcb94eeb",
   "metadata": {},
   "outputs": [],
   "source": [
    "# keep only papers in this date range, as older years are incomplete\n",
    "min_year = 1993  # arxiv_metadata.year.min()\n",
    "max_year = 2023  # arxiv_metadata.year.max()\n",
    "arxiv_metadata = arxiv_metadata[(arxiv_metadata['year'] >= min_year)]\n",
    "arxiv_metadata = arxiv_metadata[(arxiv_metadata['year'] <= max_year)]"
   ]
  },
  {
   "cell_type": "code",
   "execution_count": 110,
   "id": "4a1a250d-4a7c-4d48-90b0-be52d8d380a2",
   "metadata": {},
   "outputs": [],
   "source": [
    "idx = ['gr-qc' in categories for categories in arxiv_metadata['categories']]\n",
    "arxiv_grav_waves = arxiv_metadata[idx]\n",
    "idx = ['cs.AI' in categories for categories in arxiv_metadata['categories']]\n",
    "arxiv_cs_ai = arxiv_metadata[idx]"
   ]
  },
  {
   "cell_type": "code",
   "execution_count": 111,
   "id": "a46878b6-867a-4aa9-becc-0d7d1d3cb0aa",
   "metadata": {},
   "outputs": [],
   "source": [
    "# Keep only papers from mathematics and Physics\n",
    "#idx_math = arxiv_metadata['Mathematics'] == 1\n",
    "#arxiv_math = arxiv_metadata[idx_math]\n",
    "#idx_phys = arxiv_metadata['Physics'] == 1\n",
    "#arxiv_phys = arxiv_metadata[idx_phys]"
   ]
  },
  {
   "cell_type": "code",
   "execution_count": 112,
   "id": "2943d9a6-722c-49a5-8be3-907befec83b2",
   "metadata": {},
   "outputs": [
    {
     "name": "stdout",
     "output_type": "stream",
     "text": [
      "Number of papers in artificial intelligence: 78510\n",
      "Number of papers in gravitational waves: 104100\n"
     ]
    }
   ],
   "source": [
    "print(f\"Number of papers in artificial intelligence: {arxiv_cs_ai.shape[0]}\")\n",
    "print(f\"Number of papers in gravitational waves: {arxiv_grav_waves.shape[0]}\")"
   ]
  },
  {
   "cell_type": "markdown",
   "id": "4be87990-12ed-4d0c-8389-bb0c6fbfd471",
   "metadata": {},
   "source": [
    "## Filter authors\n",
    "* Find the 10 most prolific authors in these two subjects"
   ]
  },
  {
   "cell_type": "code",
   "execution_count": 113,
   "id": "be64c259-1131-4f5e-adc8-65310867c3dc",
   "metadata": {},
   "outputs": [],
   "source": [
    "def flatten(xss):\n",
    "    \"\"\"Flatten a list of lists\"\"\"\n",
    "    return [x for xs in xss for x in xs]\n",
    "\n",
    "def get_unique_authors(df):\n",
    "    \"\"\"Given a dataframe, return unique authors\"\"\"\n",
    "    authors = flatten(df['authors_parsed'])\n",
    "    return list(set(authors))\n",
    "\n",
    "def count_authors(df):\n",
    "    \"\"\"Given a dataframe, return count of unique authors\"\"\"\n",
    "    return len(get_unique_authors(df))"
   ]
  },
  {
   "cell_type": "code",
   "execution_count": 121,
   "id": "3a301166-55f8-4a2f-87ca-0e7dc2ff582c",
   "metadata": {},
   "outputs": [],
   "source": [
    "unique_authors_cs_ai = get_unique_authors(arxiv_cs_ai)\n",
    "unique_authors_grav_waves = get_unique_authors(arxiv_grav_waves)"
   ]
  },
  {
   "cell_type": "code",
   "execution_count": 123,
   "id": "c4942c95-0e01-49b1-b6f7-0fafe05276b9",
   "metadata": {},
   "outputs": [
    {
     "name": "stdout",
     "output_type": "stream",
     "text": [
      "Number of unique authors in AI: 145559\n",
      "Number of unique authors in gravitational waves: 73689\n"
     ]
    }
   ],
   "source": [
    "print(f\"Number of unique authors in AI: {len(unique_authors_cs_ai)}\")\n",
    "print(f\"Number of unique authors in gravitational waves: {len(unique_authors_grav_waves)}\")"
   ]
  },
  {
   "cell_type": "code",
   "execution_count": 118,
   "id": "a3b90ebc-1dd3-4892-b08a-ab636b7655a0",
   "metadata": {},
   "outputs": [],
   "source": [
    "def count_papers_per_author(unique_authors, papers_df):\n",
    "    num_papers = []\n",
    "    author_counter = 0\n",
    "    total_authors = len(unique_authors)\n",
    "    for author in unique_authors:\n",
    "        author_counter += 1\n",
    "        if author_counter % 5000 == 0: print(f\"Processing {author_counter}/{total_authors} authors\")\n",
    "        papers_count = 0    \n",
    "        for paper in papers_df['authors_parsed']:\n",
    "            papers_count += author in paper\n",
    "        num_papers.append(papers_count)\n",
    "    return num_papers"
   ]
  },
  {
   "cell_type": "code",
   "execution_count": 119,
   "id": "f89db1de-c816-4e99-903c-79cecb647972",
   "metadata": {},
   "outputs": [
    {
     "name": "stdout",
     "output_type": "stream",
     "text": [
      "Processing 5000/73689 authors\n",
      "Processing 10000/73689 authors\n",
      "Processing 15000/73689 authors\n",
      "Processing 20000/73689 authors\n",
      "Processing 25000/73689 authors\n",
      "Processing 30000/73689 authors\n",
      "Processing 35000/73689 authors\n",
      "Processing 40000/73689 authors\n",
      "Processing 45000/73689 authors\n",
      "Processing 50000/73689 authors\n",
      "Processing 55000/73689 authors\n",
      "Processing 60000/73689 authors\n",
      "Processing 65000/73689 authors\n",
      "Processing 70000/73689 authors\n",
      "CPU times: user 37min 57s, sys: 356 ms, total: 37min 57s\n",
      "Wall time: 37min 57s\n"
     ]
    }
   ],
   "source": [
    "%%time\n",
    "\n",
    "num_papers = count_papers_per_author(unique_authors_grav_waves, arxiv_grav_waves)"
   ]
  },
  {
   "cell_type": "code",
   "execution_count": 122,
   "id": "7bb54759-8dfd-4759-9cfd-95eea58ee84f",
   "metadata": {},
   "outputs": [
    {
     "data": {
      "text/html": [
       "<div>\n",
       "<style scoped>\n",
       "    .dataframe tbody tr th:only-of-type {\n",
       "        vertical-align: middle;\n",
       "    }\n",
       "\n",
       "    .dataframe tbody tr th {\n",
       "        vertical-align: top;\n",
       "    }\n",
       "\n",
       "    .dataframe thead th {\n",
       "        text-align: right;\n",
       "    }\n",
       "</style>\n",
       "<table border=\"1\" class=\"dataframe\">\n",
       "  <thead>\n",
       "    <tr style=\"text-align: right;\">\n",
       "      <th></th>\n",
       "      <th>author</th>\n",
       "      <th>paper_count</th>\n",
       "    </tr>\n",
       "  </thead>\n",
       "  <tbody>\n",
       "    <tr>\n",
       "      <th>0</th>\n",
       "      <td>'Sharif', 'M.', ''</td>\n",
       "      <td>287</td>\n",
       "    </tr>\n",
       "    <tr>\n",
       "      <th>1</th>\n",
       "      <td>'Cardoso', 'Vitor', ''</td>\n",
       "      <td>273</td>\n",
       "    </tr>\n",
       "    <tr>\n",
       "      <th>2</th>\n",
       "      <td>'Iorio', 'Lorenzo', ''</td>\n",
       "      <td>270</td>\n",
       "    </tr>\n",
       "    <tr>\n",
       "      <th>3</th>\n",
       "      <td>'Capozziello', 'Salvatore', ''</td>\n",
       "      <td>257</td>\n",
       "    </tr>\n",
       "    <tr>\n",
       "      <th>4</th>\n",
       "      <td>'Mann', 'Robert B.', ''</td>\n",
       "      <td>246</td>\n",
       "    </tr>\n",
       "    <tr>\n",
       "      <th>5</th>\n",
       "      <td>'Jing', 'Jiliang', ''</td>\n",
       "      <td>239</td>\n",
       "    </tr>\n",
       "    <tr>\n",
       "      <th>6</th>\n",
       "      <td>'Mukohyama', 'Shinji', ''</td>\n",
       "      <td>239</td>\n",
       "    </tr>\n",
       "    <tr>\n",
       "      <th>7</th>\n",
       "      <td>'Wang', 'Anzhong', ''</td>\n",
       "      <td>237</td>\n",
       "    </tr>\n",
       "    <tr>\n",
       "      <th>8</th>\n",
       "      <td>'Cai', 'Rong-Gen', ''</td>\n",
       "      <td>226</td>\n",
       "    </tr>\n",
       "    <tr>\n",
       "      <th>9</th>\n",
       "      <td>'Lobo', 'Francisco S. N.', ''</td>\n",
       "      <td>221</td>\n",
       "    </tr>\n",
       "  </tbody>\n",
       "</table>\n",
       "</div>"
      ],
      "text/plain": [
       "                           author  paper_count\n",
       "0              'Sharif', 'M.', ''          287\n",
       "1          'Cardoso', 'Vitor', ''          273\n",
       "2          'Iorio', 'Lorenzo', ''          270\n",
       "3  'Capozziello', 'Salvatore', ''          257\n",
       "4         'Mann', 'Robert B.', ''          246\n",
       "5           'Jing', 'Jiliang', ''          239\n",
       "6       'Mukohyama', 'Shinji', ''          239\n",
       "7           'Wang', 'Anzhong', ''          237\n",
       "8           'Cai', 'Rong-Gen', ''          226\n",
       "9   'Lobo', 'Francisco S. N.', ''          221"
      ]
     },
     "execution_count": 122,
     "metadata": {},
     "output_type": "execute_result"
    }
   ],
   "source": [
    "papers_count = pd.DataFrame({'author': unique_authors_grav_waves, 'paper_count': num_papers})\n",
    "papers_count.sort_values('paper_count', ascending=False, inplace=True, ignore_index=True)\n",
    "papers_count.head(10)"
   ]
  },
  {
   "cell_type": "markdown",
   "id": "bde10a55-0cc6-4d1c-8f67-a6e766bad4f6",
   "metadata": {},
   "source": [
    "## Compute h-index for each top author\n",
    "\n",
    "h-index see: https://guides.library.cornell.edu/c.php?g=32272&p=203391\n",
    "\n",
    "* For each author, get all papers authored\n",
    "* get DOI of paper\n",
    "* Get citation count from  https://opencitations.net/\n",
    "* Using citation count, compute h-index of author and store it in unique_authors_grav_waves"
   ]
  },
  {
   "cell_type": "code",
   "execution_count": 148,
   "id": "5bcbc660-f89c-4287-8ee6-51165d58e947",
   "metadata": {},
   "outputs": [],
   "source": [
    "# For each author, get all papers authored\n",
    "idx = [papers_count.iloc[0]['author'] in paper for paper in arxiv_grav_waves['authors_parsed']]\n",
    "papers_by_author = arxiv_grav_waves[idx]"
   ]
  },
  {
   "cell_type": "code",
   "execution_count": 177,
   "id": "164c6eaf-e6d1-4ecd-a842-d0cdec89947c",
   "metadata": {},
   "outputs": [],
   "source": [
    "# keep only papers with DOI\n",
    "idx = papers_by_author['doi'].isna()\n",
    "papers_by_author = papers_by_author[~idx]"
   ]
  },
  {
   "cell_type": "code",
   "execution_count": 161,
   "id": "2cda63aa-5f00-4294-854f-2c173dd23d2b",
   "metadata": {},
   "outputs": [],
   "source": [
    "doi = papers_by_author.iloc[0]['doi']"
   ]
  },
  {
   "cell_type": "markdown",
   "id": "65eb9971-6913-439d-be86-6064ddca3a0d",
   "metadata": {},
   "source": [
    "Get citation count from https://opencitations.net/"
   ]
  },
  {
   "cell_type": "code",
   "execution_count": 194,
   "id": "9316e748-498f-40a9-82cf-6e6378cd094c",
   "metadata": {},
   "outputs": [],
   "source": [
    "def get_citation_count(doi):\n",
    "    with urllib.request.urlopen(f\"https://opencitations.net/index/api/v2/citation-count/doi:{doi}\") as url:\n",
    "        data = json.load(url)\n",
    "        if data:\n",
    "            citation_count = int(data[0]['count'])\n",
    "        else:\n",
    "            citation_count = 0\n",
    "    return citation_count"
   ]
  },
  {
   "cell_type": "code",
   "execution_count": 198,
   "id": "d30941b2-d12b-4f7f-8fdd-166995cdaf5e",
   "metadata": {},
   "outputs": [],
   "source": [
    "dois = [doi for doi in papers_by_author['doi']]\n",
    "citation_counts = []\n",
    "for doi in dois:\n",
    "    try:\n",
    "        citation_counts.append(get_citation_count(doi))\n",
    "    except:\n",
    "        citation_counts.append(0)"
   ]
  },
  {
   "cell_type": "code",
   "execution_count": 199,
   "id": "4e94bb5f-a5c3-4db1-bfb8-f5d2a1010714",
   "metadata": {},
   "outputs": [],
   "source": [
    "papers_by_author['citation_count'] = citation_counts"
   ]
  },
  {
   "cell_type": "markdown",
   "id": "d5e885b6-0080-40ee-a17f-c27aebcab81e",
   "metadata": {},
   "source": [
    "Using citation count, compute h-index of author"
   ]
  },
  {
   "cell_type": "code",
   "execution_count": 202,
   "id": "99c768ad-fefc-427b-b880-b1c2ba94c3fd",
   "metadata": {},
   "outputs": [],
   "source": [
    "def hIndex(citations):\n",
    "    \"\"\"\n",
    "    https://github.com/kamyu104/LeetCode/blob/master/Python/h-index.py\n",
    "    :type citations: List[int]\n",
    "    :rtype: int\n",
    "    \n",
    "    # Given an array of citations (each citation is a non-negative integer)\n",
    "    # of a researcher, write a function to compute the researcher's h-index.\n",
    "    #\n",
    "    # According to the definition of h-index on Wikipedia: \n",
    "    # \"A scientist has index h if h of his/her N papers have\n",
    "    # at least h citations each, and the other N − h papers have\n",
    "    # no more than h citations each.\"\n",
    "    #\n",
    "    # For example, given citations = [3, 0, 6, 1, 5], \n",
    "    # which means the researcher has 5 papers in total\n",
    "    # and each of them had received 3, 0, 6, 1, 5 citations respectively. \n",
    "    # Since the researcher has 3 papers with at least 3 citations each and \n",
    "    # the remaining two with no more than 3 citations each, his h-index is 3.\n",
    "    #\n",
    "    # Note: If there are several possible values for h, the maximum one is taken as the h-index.\n",
    "    \"\"\"\n",
    "    return sum(x >= i + 1 for i, x in enumerate(sorted(  list(citations), reverse=True)))"
   ]
  },
  {
   "cell_type": "code",
   "execution_count": 203,
   "id": "75f283fa-038e-4227-afbf-966c0aa2ca5a",
   "metadata": {},
   "outputs": [
    {
     "data": {
      "text/plain": [
       "38"
      ]
     },
     "execution_count": 203,
     "metadata": {},
     "output_type": "execute_result"
    }
   ],
   "source": [
    "hIndex(citation_counts)"
   ]
  },
  {
   "cell_type": "code",
   "execution_count": 205,
   "id": "5ebaad3c-5382-4b3a-8d53-b1fdce5b65be",
   "metadata": {},
   "outputs": [],
   "source": [
    "citation_counts.sort(reverse=True)"
   ]
  },
  {
   "cell_type": "code",
   "execution_count": null,
   "id": "f65f434e-bd74-410d-b1f7-54fa1cb6cbe0",
   "metadata": {},
   "outputs": [],
   "source": []
  }
 ],
 "metadata": {
  "kernelspec": {
   "display_name": "Python 3 (ipykernel)",
   "language": "python",
   "name": "python3"
  },
  "language_info": {
   "codemirror_mode": {
    "name": "ipython",
    "version": 3
   },
   "file_extension": ".py",
   "mimetype": "text/x-python",
   "name": "python",
   "nbconvert_exporter": "python",
   "pygments_lexer": "ipython3",
   "version": "3.12.2"
  }
 },
 "nbformat": 4,
 "nbformat_minor": 5
}
