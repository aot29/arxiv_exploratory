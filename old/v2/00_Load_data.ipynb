{
 "cells": [
  {
   "cell_type": "markdown",
   "id": "848c4c35-d848-4587-be23-a22f642c4c5a",
   "metadata": {},
   "source": [
    "# Load and clean the data\n",
    "\n",
    "* Load the metadata prepared in `../00_load_metadata.ipynb`\n",
    "* Keep only papers on natural language processing: original category 'cs.CL' (Computation and Language)\n",
    "* Load abstracts prepared in `../00_load_abstracts.ipynb`, merge with metadata dataframe\n",
    "* Check that all entries have an abstract\n",
    "* Keep only research papers (research papers are papers that are not review papers)."
   ]
  },
  {
   "cell_type": "code",
   "execution_count": 1,
   "id": "1f4dbed2-647d-436d-b08a-6e07b31674f1",
   "metadata": {},
   "outputs": [],
   "source": [
    "import pandas as pd\n",
    "from sklearn.model_selection import train_test_split\n"
   ]
  },
  {
   "cell_type": "code",
   "execution_count": 2,
   "id": "45a8c852-a313-4882-a469-316a9c1cf18f",
   "metadata": {},
   "outputs": [
    {
     "name": "stderr",
     "output_type": "stream",
     "text": [
      "<timed exec>:2: DtypeWarning: Columns (1) have mixed types. Specify dtype option on import or set low_memory=False.\n"
     ]
    },
    {
     "name": "stdout",
     "output_type": "stream",
     "text": [
      "CPU times: user 8.99 s, sys: 1.11 s, total: 10.1 s\n",
      "Wall time: 10.1 s\n"
     ]
    }
   ],
   "source": [
    "%%time\n",
    "\n",
    "# Load the metadata downloaded from archive\n",
    "arxiv_metadata = pd.read_csv('../data/arxiv_metadata.csv.zip', index_col=0)"
   ]
  },
  {
   "cell_type": "code",
   "execution_count": 3,
   "id": "daf09b7c-c571-46c7-9cd3-8cb5084e4f95",
   "metadata": {},
   "outputs": [],
   "source": [
    "# Keep only papers on natural language processing: original category 'cs.CL' (Computation and Language)\n",
    "nlp_idx = ['cs.CL' in subject for subject in arxiv_metadata['categories']]\n",
    "arxiv_nlp = arxiv_metadata[nlp_idx]"
   ]
  },
  {
   "cell_type": "code",
   "execution_count": 4,
   "id": "eda3d476-44e7-4222-98c8-805878cf9ff2",
   "metadata": {},
   "outputs": [
    {
     "name": "stdout",
     "output_type": "stream",
     "text": [
      "CPU times: user 9.62 s, sys: 1.14 s, total: 10.8 s\n",
      "Wall time: 12.1 s\n"
     ]
    },
    {
     "name": "stderr",
     "output_type": "stream",
     "text": [
      "<timed exec>:2: DtypeWarning: Columns (1) have mixed types. Specify dtype option on import or set low_memory=False.\n"
     ]
    }
   ],
   "source": [
    "%%time\n",
    "\n",
    "# load abstracts extracted data in notebook 00_load_abstracts\n",
    "arxiv_abstracts = pd.read_csv('../data/arxiv_abstracts.csv.zip', index_col=0)"
   ]
  },
  {
   "cell_type": "code",
   "execution_count": 5,
   "id": "1250eba1-791b-49c3-a4b1-1f26c8e65ca4",
   "metadata": {},
   "outputs": [],
   "source": [
    "# merge with metadata dataframe\n",
    "arxiv_abstracts_nlp = arxiv_abstracts[arxiv_abstracts.id.isin(arxiv_nlp.id)]\n",
    "arxiv_nlp_merged = pd.merge(arxiv_nlp, arxiv_abstracts_nlp, on='id')"
   ]
  },
  {
   "cell_type": "code",
   "execution_count": 6,
   "id": "bafa63b5-b863-4da1-8bb4-43a4e61bd174",
   "metadata": {},
   "outputs": [],
   "source": [
    "# check that all entries have an abstract\n",
    "idx = arxiv_nlp_merged['abstract'].isna()\n",
    "arxiv_nlp_merged = arxiv_nlp_merged[~idx]"
   ]
  },
  {
   "cell_type": "code",
   "execution_count": 7,
   "id": "188e72d4-187d-4c7f-83f2-6d2a446ff074",
   "metadata": {},
   "outputs": [],
   "source": [
    "# Keep only research papers (research papers are papers that are not review papers).\n",
    "research_paper_idx = ['systematic literature review' not in abstract.lower() for abstract in arxiv_nlp_merged.abstract]\n",
    "arxiv_nlp_merged = arxiv_nlp_merged[research_paper_idx]"
   ]
  },
  {
   "cell_type": "code",
   "execution_count": 8,
   "id": "78628d4b-547f-4d3a-9064-5c71e7c309a2",
   "metadata": {},
   "outputs": [
    {
     "name": "stdout",
     "output_type": "stream",
     "text": [
      "There are 55943 research papers on NLP with an abstract in the dataset.\n"
     ]
    }
   ],
   "source": [
    "print(f\"There are {len(arxiv_nlp_merged)} research papers on NLP with an abstract in the dataset.\")"
   ]
  },
  {
   "cell_type": "markdown",
   "id": "762e023b-f356-4f42-afc6-fb59d26537a9",
   "metadata": {},
   "source": [
    "## Save"
   ]
  },
  {
   "cell_type": "code",
   "execution_count": 11,
   "id": "55162e94-e1f1-4d16-a6c1-28b99d1c2e79",
   "metadata": {},
   "outputs": [],
   "source": [
    "import zipfile as zf\n",
    "\n",
    "with zf.ZipFile('../data/arxiv_nlp.csv.zip', 'w') as ziparchive:\n",
    "    ziparchive.writestr('arxiv_nlp.csv', arxiv_nlp_merged.to_csv())\n"
   ]
  },
  {
   "cell_type": "code",
   "execution_count": null,
   "id": "3b259dca-26b9-474b-93c4-fed1e675a488",
   "metadata": {},
   "outputs": [],
   "source": []
  }
 ],
 "metadata": {
  "kernelspec": {
   "display_name": "Python 3 (ipykernel)",
   "language": "python",
   "name": "python3"
  },
  "language_info": {
   "codemirror_mode": {
    "name": "ipython",
    "version": 3
   },
   "file_extension": ".py",
   "mimetype": "text/x-python",
   "name": "python",
   "nbconvert_exporter": "python",
   "pygments_lexer": "ipython3",
   "version": "3.12.2"
  }
 },
 "nbformat": 4,
 "nbformat_minor": 5
}
