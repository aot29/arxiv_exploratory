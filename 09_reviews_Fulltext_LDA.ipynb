{
 "cells": [
  {
   "cell_type": "markdown",
   "id": "9b6b07fc-1a81-47ec-9221-c4e64ef7fe22",
   "metadata": {},
   "source": [
    "# Fulltext LDA\n",
    "\n",
    "* Load the fulltexts from the review articles identified in 05_benchmark_articles and downloaded in 08_Download_papers.\n",
    "* Create a corpus with the texts\n",
    "* Tokenize\n",
    "* Apply single LDA\n",
    "* Apply ensemble LDA\n",
    "\n",
    "## Conclusion"
   ]
  },
  {
   "cell_type": "code",
   "execution_count": 79,
   "id": "953cee1d-757b-43f3-a96a-c6881f80235a",
   "metadata": {},
   "outputs": [],
   "source": [
    "import pandas as pd\n",
    "import os\n",
    "import PyPDF2\n",
    "from collections import defaultdict\n",
    "from gensim import corpora\n",
    "from gensim.models import LdaModel\n",
    "from gensim.models import EnsembleLda\n",
    "import numpy as np"
   ]
  },
  {
   "cell_type": "code",
   "execution_count": 93,
   "id": "1e6cc96e-04bb-443e-a2ab-cab0b1e64d5c",
   "metadata": {},
   "outputs": [],
   "source": [
    "from matplotlib import pyplot as plt \n",
    "\n",
    "%matplotlib inline"
   ]
  },
  {
   "cell_type": "markdown",
   "id": "3b79b3b5-fda4-4046-9a1f-fd8faf43d56d",
   "metadata": {},
   "source": [
    "## Load the texts \n",
    "* Load the metadata from the review articles\n",
    "* Load the PDFs downloaded in 08_Download_papers\n",
    "* Extract the texts\n",
    "* make a Dataframe with arxiv_id and fulltexts, keep only papers that have a fulltext"
   ]
  },
  {
   "cell_type": "code",
   "execution_count": 8,
   "id": "2f524134-9b9e-42c3-95d6-37b574f2da53",
   "metadata": {},
   "outputs": [
    {
     "name": "stdout",
     "output_type": "stream",
     "text": [
      "CPU times: user 2.17 ms, sys: 3.97 ms, total: 6.14 ms\n",
      "Wall time: 5.9 ms\n"
     ]
    }
   ],
   "source": [
    "%%time\n",
    "\n",
    "# load metadata extracted data in notebook 00_load_metadata\n",
    "arxiv_ml_reviews = pd.read_csv('data/arxiv_ml_reviews.csv.zip')"
   ]
  },
  {
   "cell_type": "code",
   "execution_count": 49,
   "id": "c94e9f8f-697e-4f37-99dd-5acfc1317759",
   "metadata": {
    "collapsed": true,
    "jupyter": {
     "outputs_hidden": true
    }
   },
   "outputs": [
    {
     "name": "stderr",
     "output_type": "stream",
     "text": [
      "unknown widths : \n",
      "[0, IndirectObject(273, 0, 127360606748496)]\n",
      "unknown widths : \n",
      "[0, IndirectObject(275, 0, 127360606748496)]\n",
      "unknown widths : \n",
      "[0, IndirectObject(277, 0, 127360606748496)]\n",
      "unknown widths : \n",
      "[0, IndirectObject(279, 0, 127360606748496)]\n",
      "unknown widths : \n",
      "[0, IndirectObject(281, 0, 127360606748496)]\n",
      "unknown widths : \n",
      "[0, IndirectObject(283, 0, 127360606748496)]\n",
      "unknown widths : \n",
      "[0, IndirectObject(285, 0, 127360606748496)]\n",
      "unknown widths : \n",
      "[0, IndirectObject(287, 0, 127360606748496)]\n",
      "unknown widths : \n",
      "[0, IndirectObject(289, 0, 127360606748496)]\n",
      "unknown widths : \n",
      "[0, IndirectObject(291, 0, 127360606748496)]\n",
      "unknown widths : \n",
      "[0, IndirectObject(293, 0, 127360606748496)]\n",
      "unknown widths : \n",
      "[0, IndirectObject(295, 0, 127360606748496)]\n",
      "unknown widths : \n",
      "[0, IndirectObject(297, 0, 127360606748496)]\n",
      "unknown widths : \n",
      "[0, IndirectObject(299, 0, 127360606748496)]\n",
      "unknown widths : \n",
      "[0, IndirectObject(301, 0, 127360606748496)]\n",
      "FloatObject (b'0.000000000000-2842171') invalid; use 0.0 instead\n",
      "FloatObject (b'0.000000000000-60063045') invalid; use 0.0 instead\n",
      "FloatObject (b'0.0000000000000-16098124') invalid; use 0.0 instead\n",
      "FloatObject (b'0.0000000000000-16098124') invalid; use 0.0 instead\n",
      "FloatObject (b'0.0000000000000-16098124') invalid; use 0.0 instead\n",
      "FloatObject (b'0.0000000000000-16098124') invalid; use 0.0 instead\n",
      "FloatObject (b'0.0000000000000-16098124') invalid; use 0.0 instead\n",
      "FloatObject (b'0.0000000000000-16098124') invalid; use 0.0 instead\n",
      "FloatObject (b'0.0000000000000-16098124') invalid; use 0.0 instead\n",
      "FloatObject (b'0.0000000000000-16098124') invalid; use 0.0 instead\n",
      "FloatObject (b'0.0000000000000-16098124') invalid; use 0.0 instead\n",
      "FloatObject (b'0.0000000000000-16098124') invalid; use 0.0 instead\n",
      "FloatObject (b'0.0000000000000-16098124') invalid; use 0.0 instead\n",
      "FloatObject (b'0.0000000000000-16098124') invalid; use 0.0 instead\n",
      "FloatObject (b'0.0000000000000-16098124') invalid; use 0.0 instead\n",
      "FloatObject (b'0.0000000000000-16098124') invalid; use 0.0 instead\n",
      "FloatObject (b'0.0000000000000-16098124') invalid; use 0.0 instead\n",
      "FloatObject (b'0.0000000000000-16098124') invalid; use 0.0 instead\n",
      "FloatObject (b'0.0000000000000-16098124') invalid; use 0.0 instead\n",
      "FloatObject (b'0.0000000000000-16098124') invalid; use 0.0 instead\n",
      "FloatObject (b'0.0000000000000-16098124') invalid; use 0.0 instead\n",
      "FloatObject (b'0.00000000000-22737368') invalid; use 0.0 instead\n",
      "FloatObject (b'0.0000000000000-16098124') invalid; use 0.0 instead\n",
      "FloatObject (b'0.0000000000000-16098124') invalid; use 0.0 instead\n",
      "FloatObject (b'0.0000000000000-16098124') invalid; use 0.0 instead\n",
      "FloatObject (b'0.0000000000000-16098124') invalid; use 0.0 instead\n",
      "FloatObject (b'0.0000000000000-16098124') invalid; use 0.0 instead\n",
      "FloatObject (b'0.0000000000000-16098124') invalid; use 0.0 instead\n",
      "FloatObject (b'0.00000000000-22737368') invalid; use 0.0 instead\n",
      "FloatObject (b'0.0000000000000-16098124') invalid; use 0.0 instead\n",
      "FloatObject (b'0.0000000000000-16098124') invalid; use 0.0 instead\n",
      "FloatObject (b'0.0000000000000-16098124') invalid; use 0.0 instead\n",
      "FloatObject (b'0.00000000000-22737368') invalid; use 0.0 instead\n",
      "FloatObject (b'0.0000000000000-16098124') invalid; use 0.0 instead\n",
      "FloatObject (b'0.0000000000000-16098124') invalid; use 0.0 instead\n",
      "FloatObject (b'0.0000000000000-16098124') invalid; use 0.0 instead\n",
      "FloatObject (b'0.00000000000-22737368') invalid; use 0.0 instead\n",
      "FloatObject (b'0.0000000000000-16098124') invalid; use 0.0 instead\n",
      "FloatObject (b'0.0000000000000-16098124') invalid; use 0.0 instead\n",
      "FloatObject (b'0.00000000000-22737368') invalid; use 0.0 instead\n",
      "FloatObject (b'0.0000000000000-16098124') invalid; use 0.0 instead\n",
      "FloatObject (b'0.0000000000000-16098124') invalid; use 0.0 instead\n",
      "FloatObject (b'0.0000000000000-16098124') invalid; use 0.0 instead\n",
      "FloatObject (b'0.0000000000000-16098124') invalid; use 0.0 instead\n",
      "FloatObject (b'0.00000000000-22737368') invalid; use 0.0 instead\n",
      "FloatObject (b'0.0000000000000-16098124') invalid; use 0.0 instead\n",
      "FloatObject (b'0.00000000000-22737368') invalid; use 0.0 instead\n",
      "FloatObject (b'0.0000000000000-16098124') invalid; use 0.0 instead\n",
      "FloatObject (b'0.00000000000-22737368') invalid; use 0.0 instead\n",
      "FloatObject (b'0.0000000000000-16098124') invalid; use 0.0 instead\n",
      "FloatObject (b'0.00000000000-22737368') invalid; use 0.0 instead\n",
      "FloatObject (b'0.0000000000000-16098124') invalid; use 0.0 instead\n",
      "FloatObject (b'0.00000000000-22737368') invalid; use 0.0 instead\n",
      "FloatObject (b'0.0000000000000-16098124') invalid; use 0.0 instead\n",
      "FloatObject (b'0.00000000000-22737368') invalid; use 0.0 instead\n",
      "FloatObject (b'0.0000000000000-16098124') invalid; use 0.0 instead\n",
      "FloatObject (b'0.00000000000-22737368') invalid; use 0.0 instead\n",
      "FloatObject (b'0.0000000000000-16098124') invalid; use 0.0 instead\n",
      "FloatObject (b'0.00000000000-22737368') invalid; use 0.0 instead\n",
      "FloatObject (b'0.0000000000000-16098124') invalid; use 0.0 instead\n",
      "FloatObject (b'0.0000000000000-16098124') invalid; use 0.0 instead\n",
      "FloatObject (b'0.00000000000-22737368') invalid; use 0.0 instead\n",
      "FloatObject (b'0.0000000000000-16098124') invalid; use 0.0 instead\n",
      "FloatObject (b'0.0000000000000-16098124') invalid; use 0.0 instead\n",
      "FloatObject (b'0.0000000000000-16098124') invalid; use 0.0 instead\n",
      "FloatObject (b'0.00000000000-22737368') invalid; use 0.0 instead\n",
      "FloatObject (b'0.0000000000000-16098124') invalid; use 0.0 instead\n",
      "FloatObject (b'0.00000000000-22737368') invalid; use 0.0 instead\n",
      "FloatObject (b'0.0000000000000-16098124') invalid; use 0.0 instead\n",
      "FloatObject (b'0.0000000000000-16098124') invalid; use 0.0 instead\n",
      "FloatObject (b'0.00000000000-22737368') invalid; use 0.0 instead\n",
      "FloatObject (b'0.0000000000000-16098124') invalid; use 0.0 instead\n",
      "FloatObject (b'0.00000000000-22737368') invalid; use 0.0 instead\n",
      "FloatObject (b'0.0000000000000-16098124') invalid; use 0.0 instead\n",
      "FloatObject (b'0.0000000000000-16098124') invalid; use 0.0 instead\n",
      "FloatObject (b'0.00000000000-22737368') invalid; use 0.0 instead\n",
      "FloatObject (b'0.0000000000000-16098124') invalid; use 0.0 instead\n",
      "FloatObject (b'0.00000000000-22737368') invalid; use 0.0 instead\n",
      "FloatObject (b'0.0000000000000-16098124') invalid; use 0.0 instead\n",
      "FloatObject (b'0.0000000000000-16098124') invalid; use 0.0 instead\n",
      "FloatObject (b'0.00000000000-22737368') invalid; use 0.0 instead\n",
      "FloatObject (b'0.0000000000000-16098124') invalid; use 0.0 instead\n",
      "FloatObject (b'0.00000000000-22737368') invalid; use 0.0 instead\n",
      "FloatObject (b'0.0000000000000-16098124') invalid; use 0.0 instead\n",
      "FloatObject (b'0.0000000000000-16098124') invalid; use 0.0 instead\n",
      "FloatObject (b'0.00000000000-22737368') invalid; use 0.0 instead\n",
      "FloatObject (b'0.0000000000000-16098124') invalid; use 0.0 instead\n",
      "FloatObject (b'0.00000000000-22737368') invalid; use 0.0 instead\n",
      "FloatObject (b'0.0000000000000-16098124') invalid; use 0.0 instead\n",
      "FloatObject (b'0.0000000000000-16098124') invalid; use 0.0 instead\n",
      "FloatObject (b'0.00000000000-22737368') invalid; use 0.0 instead\n",
      "FloatObject (b'0.0000000000000-16098124') invalid; use 0.0 instead\n",
      "FloatObject (b'0.00000000000-22737368') invalid; use 0.0 instead\n",
      "FloatObject (b'0.0000000000000-16098124') invalid; use 0.0 instead\n",
      "FloatObject (b'0.0000000000000-16098124') invalid; use 0.0 instead\n",
      "FloatObject (b'0.00000000000-22737368') invalid; use 0.0 instead\n",
      "FloatObject (b'0.0000000000000-16098124') invalid; use 0.0 instead\n",
      "FloatObject (b'0.00000000000-22737368') invalid; use 0.0 instead\n",
      "FloatObject (b'0.0000000000000-16098124') invalid; use 0.0 instead\n",
      "FloatObject (b'0.0000000000000-16098124') invalid; use 0.0 instead\n",
      "FloatObject (b'0.00000000000-22737368') invalid; use 0.0 instead\n",
      "FloatObject (b'0.00000000000-22737368') invalid; use 0.0 instead\n"
     ]
    }
   ],
   "source": [
    "fulltexts = {}\n",
    "input_dir = \"fulltexts\"\n",
    "\n",
    "def open_PDF(path):\n",
    "    \"\"\"Opens a PDF file, returns its content as plain text.\"\"\"\n",
    "    fulltext = \"\"\n",
    "    with open(path, \"rb\") as pdf_file:\n",
    "        read_pdf = PyPDF2.PdfFileReader(pdf_file, strict=False)\n",
    "        number_of_pages = read_pdf.getNumPages()\n",
    "        for page in read_pdf.pages:\n",
    "            page_text = page.extractText()\n",
    "            fulltext = ' '.join([fulltext, page_text])\n",
    "    return fulltext\n",
    "\n",
    "for arxiv_id in arxiv_ml_reviews.arxiv_id:\n",
    "    in_path = os.path.join(input_dir, f\"{arxiv_id}.pdf\")\n",
    "    if os.path.isfile(in_path):\n",
    "        text = open_PDF(in_path)\n",
    "        fulltexts[arxiv_id] = text"
   ]
  },
  {
   "cell_type": "markdown",
   "id": "bbd75552-375d-40c6-8bb8-d5131d69163c",
   "metadata": {},
   "source": [
    "## Create a corpus with the abstracts"
   ]
  },
  {
   "cell_type": "code",
   "execution_count": 50,
   "id": "3245d805-178d-4a31-b7e4-c82d0f99ecf6",
   "metadata": {},
   "outputs": [],
   "source": [
    "documents = fulltexts.values()"
   ]
  },
  {
   "cell_type": "markdown",
   "id": "bbe61c75-eb22-44c7-9c5b-edb88cdca65e",
   "metadata": {},
   "source": [
    "### Tokenize"
   ]
  },
  {
   "cell_type": "code",
   "execution_count": 52,
   "id": "64e46d15-11d9-4bf6-b13c-d62bc30f020b",
   "metadata": {
    "scrolled": true
   },
   "outputs": [],
   "source": [
    "from gensim.parsing.preprocessing import preprocess_string\n",
    "\n",
    "# remove common words and tokenize\n",
    "texts = [\n",
    "    preprocess_string(document)\n",
    "    for document in documents\n",
    "]"
   ]
  },
  {
   "cell_type": "code",
   "execution_count": 53,
   "id": "b255b393-f084-47c8-8ec6-1d5cc1ab2789",
   "metadata": {},
   "outputs": [],
   "source": [
    "# remove words that appear only once\n",
    "frequency = defaultdict(int)\n",
    "for text in texts:\n",
    "    for token in text:\n",
    "        frequency[token] += 1\n",
    "\n",
    "texts = [\n",
    "    [token for token in text if frequency[token] > 1]\n",
    "    for text in texts\n",
    "]"
   ]
  },
  {
   "cell_type": "code",
   "execution_count": 54,
   "id": "3c6f24cd-f37f-430a-a813-0a7e725feae8",
   "metadata": {},
   "outputs": [],
   "source": [
    "dictionary = corpora.Dictionary(texts)\n",
    "corpus = [dictionary.doc2bow(text) for text in texts]"
   ]
  },
  {
   "cell_type": "markdown",
   "id": "a3f57594-c4ff-40c0-9441-e9b6f296a679",
   "metadata": {},
   "source": [
    "## Apply single LDA"
   ]
  },
  {
   "cell_type": "code",
   "execution_count": 62,
   "id": "03e0ee3d-89b1-4aed-803e-946bac0e0a26",
   "metadata": {},
   "outputs": [],
   "source": [
    "lda_model = LdaModel(corpus, id2word=dictionary, num_topics=1)\n",
    "corpus_lda = lda_model[corpus]"
   ]
  },
  {
   "cell_type": "code",
   "execution_count": 63,
   "id": "18a951dc-810f-4c15-91e8-5f1df40e8e22",
   "metadata": {},
   "outputs": [
    {
     "data": {
      "text/plain": [
       "[(0,\n",
       "  '0.012*\"model\" + 0.010*\"data\" + 0.008*\"base\" + 0.008*\"learn\" + 0.007*\"studi\" + 0.006*\"research\" + 0.005*\"process\" + 0.005*\"gener\" + 0.004*\"method\" + 0.004*\"review\"')]"
      ]
     },
     "execution_count": 63,
     "metadata": {},
     "output_type": "execute_result"
    }
   ],
   "source": [
    "lda_model.print_topics()"
   ]
  },
  {
   "cell_type": "markdown",
   "id": "8b0df52d-94bf-4bc3-8e53-1f1a40309a22",
   "metadata": {},
   "source": [
    "## Apply ensemble LDA"
   ]
  },
  {
   "cell_type": "code",
   "execution_count": 116,
   "id": "a5157f4f-3d06-4f2b-94b5-2ab1350def1b",
   "metadata": {},
   "outputs": [],
   "source": [
    "topic_model_class = LdaModel\n",
    "ensemble_workers = 4\n",
    "num_models = ensemble_workers * 4\n",
    "distance_workers = 4\n",
    "num_topics = 100\n",
    "passes = 2"
   ]
  },
  {
   "cell_type": "code",
   "execution_count": 117,
   "id": "8fa376c9-98c5-4c8c-8352-5d6b8c1ccd6e",
   "metadata": {},
   "outputs": [],
   "source": [
    "ensemble = EnsembleLda(\n",
    "    corpus=corpus,\n",
    "    id2word=dictionary,\n",
    "    num_topics=num_topics,\n",
    "    passes=passes,\n",
    "    num_models=num_models,\n",
    "    topic_model_class=topic_model_class,\n",
    "    ensemble_workers=ensemble_workers,\n",
    "    distance_workers=distance_workers\n",
    ")"
   ]
  },
  {
   "cell_type": "markdown",
   "id": "dec9a19b-a573-4973-aad2-719ad54dffe3",
   "metadata": {},
   "source": [
    "* Compute all the topics. In this setup: num_topics * num_workers\n",
    "* Compute the stable topics"
   ]
  },
  {
   "cell_type": "code",
   "execution_count": 118,
   "id": "774a8dd7-b556-422f-924e-ac69c89dce05",
   "metadata": {},
   "outputs": [
    {
     "name": "stdout",
     "output_type": "stream",
     "text": [
      "Total number of topics computed: 1600\n",
      "Total number of stable topics:20\n"
     ]
    }
   ],
   "source": [
    "print(f\"Total number of topics computed: {len(ensemble.ttda)}\")\n",
    "print(f\"Total number of stable topics:{len(ensemble.get_topics())}\")"
   ]
  },
  {
   "cell_type": "markdown",
   "id": "7ac20665-3c57-4a05-8d19-7654713b1724",
   "metadata": {},
   "source": [
    "## Tuning"
   ]
  },
  {
   "cell_type": "code",
   "execution_count": 119,
   "id": "f7efe118-5407-478d-b7b4-eeea11fe8fe9",
   "metadata": {},
   "outputs": [
    {
     "data": {
      "text/plain": [
       "(1600, 1600)"
      ]
     },
     "execution_count": 119,
     "metadata": {},
     "output_type": "execute_result"
    }
   ],
   "source": [
    "shape = ensemble.asymmetric_distance_matrix.shape\n",
    "shape"
   ]
  },
  {
   "cell_type": "code",
   "execution_count": 120,
   "id": "5d746753-a251-4e3f-b843-0698d372ed7c",
   "metadata": {},
   "outputs": [
    {
     "name": "stdout",
     "output_type": "stream",
     "text": [
      "0.0006840117649287158 0.22533576342900255 0.7946941906284888\n"
     ]
    }
   ],
   "source": [
    "without_diagonal = ensemble.asymmetric_distance_matrix[~np.eye(shape[0], dtype=bool)].reshape(shape[0], -1)\n",
    "print(without_diagonal.min(), without_diagonal.mean(), without_diagonal.max())"
   ]
  },
  {
   "cell_type": "code",
   "execution_count": 122,
   "id": "559fe490-e62c-4bd1-aac8-f786a9eeeaf4",
   "metadata": {},
   "outputs": [
    {
     "name": "stdout",
     "output_type": "stream",
     "text": [
      "eps: 0.0006840117649287158 stable number of topics: 0\n",
      "eps: 0.03376776921757705 stable number of topics: 33\n",
      "eps: 0.06685152667022538 stable number of topics: 63\n",
      "eps: 0.09993528412287372 stable number of topics: 49\n",
      "eps: 0.13301904157552205 stable number of topics: 25\n",
      "eps: 0.16610279902817038 stable number of topics: 16\n",
      "eps: 0.19918655648081873 stable number of topics: 9\n",
      "eps: 0.23227031393346706 stable number of topics: 4\n",
      "eps: 0.2653540713861154 stable number of topics: 4\n",
      "eps: 0.29843782883876374 stable number of topics: 2\n",
      "eps: 0.33152158629141204 stable number of topics: 1\n",
      "eps: 0.3646053437440604 stable number of topics: 1\n",
      "eps: 0.39768910119670875 stable number of topics: 1\n",
      "eps: 0.43077285864935705 stable number of topics: 1\n",
      "eps: 0.4638566161020054 stable number of topics: 1\n",
      "eps: 0.4969403735546537 stable number of topics: 1\n",
      "eps: 0.5300241310073021 stable number of topics: 1\n",
      "eps: 0.5631078884599504 stable number of topics: 1\n",
      "eps: 0.5961916459125988 stable number of topics: 1\n",
      "eps: 0.629275403365247 stable number of topics: 1\n",
      "eps: 0.6623591608178954 stable number of topics: 1\n",
      "eps: 0.6954429182705437 stable number of topics: 1\n",
      "eps: 0.7285266757231921 stable number of topics: 1\n",
      "eps: 0.7616104331758404 stable number of topics: 1\n",
      "eps: 0.7946941906284888 stable number of topics: 1\n"
     ]
    }
   ],
   "source": [
    "num_topics = []\n",
    "eps = np.linspace(without_diagonal.min(), without_diagonal.max(), num=25)\n",
    "for val in eps:\n",
    "    ensemble.recluster(eps=val, min_samples=2, min_cores=2)\n",
    "    topics = len(ensemble.get_topics())\n",
    "    num_topics.append(topics)\n",
    "    print(f\"eps: {val} stable number of topics: {topics}\")"
   ]
  },
  {
   "cell_type": "code",
   "execution_count": 123,
   "id": "809445b5-76d4-46ff-8bde-99727b6453f2",
   "metadata": {},
   "outputs": [
    {
     "data": {
      "image/png": "[encoded data removed]",
      "text/plain": [
       "<Figure size 640x480 with 1 Axes>"
      ]
     },
     "metadata": {},
     "output_type": "display_data"
    }
   ],
   "source": [
    "plt.plot(eps, num_topics)\n",
    "plt.show()"
   ]
  },
  {
   "cell_type": "code",
   "execution_count": 130,
   "id": "3a51ddbc-2798-490a-9c5d-a26d269d11be",
   "metadata": {},
   "outputs": [],
   "source": [
    "eps =  0.23227031393346706\n",
    "ensemble.recluster(eps=eps, min_samples=2, min_cores=2)"
   ]
  },
  {
   "cell_type": "code",
   "execution_count": 131,
   "id": "12dfd9d9-057c-4118-bd4b-de53a819a765",
   "metadata": {},
   "outputs": [
    {
     "data": {
      "text/plain": [
       "[(0,\n",
       "  '0.035*\"queri\" + 0.024*\"search\" + 0.023*\"code\" + 0.021*\"studi\" + 0.018*\"reformul\" + 0.009*\"primari\" + 0.008*\"softwar\" + 0.007*\"base\" + 0.007*\"bug\" + 0.007*\"sourc\"'),\n",
       " (1,\n",
       "  '0.031*\"polici\" + 0.017*\"access\" + 0.014*\"control\" + 0.011*\"gener\" + 0.010*\"base\" + 0.008*\"tool\" + 0.008*\"data\" + 0.008*\"extract\" + 0.007*\"author\" + 0.006*\"model\"'),\n",
       " (2,\n",
       "  '0.025*\"decis\" + 0.014*\"risk\" + 0.010*\"make\" + 0.009*\"prefer\" + 0.008*\"seek\" + 0.008*\"approach\" + 0.007*\"research\" + 0.007*\"model\" + 0.007*\"valu\" + 0.006*\"abi\"'),\n",
       " (3,\n",
       "  '0.021*\"social\" + 0.019*\"media\" + 0.015*\"epidem\" + 0.013*\"covid\" + 0.010*\"twitter\" + 0.009*\"health\" + 0.009*\"model\" + 0.008*\"studi\" + 0.008*\"data\" + 0.006*\"research\"')]"
      ]
     },
     "execution_count": 131,
     "metadata": {},
     "output_type": "execute_result"
    }
   ],
   "source": [
    "ensemble.print_topics()"
   ]
  },
  {
   "cell_type": "markdown",
   "id": "fbc252fb-d5cf-4585-b989-872ac7f3b195",
   "metadata": {},
   "source": []
  }
 ],
 "metadata": {
  "kernelspec": {
   "display_name": "Python 3 (ipykernel)",
   "language": "python",
   "name": "python3"
  },
  "language_info": {
   "codemirror_mode": {
    "name": "ipython",
    "version": 3
   },
   "file_extension": ".py",
   "mimetype": "text/x-python",
   "name": "python",
   "nbconvert_exporter": "python",
   "pygments_lexer": "ipython3",
   "version": "3.12.2"
  }
 },
 "nbformat": 4,
 "nbformat_minor": 5
}
