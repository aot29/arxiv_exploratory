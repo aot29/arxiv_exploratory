{
 "cells": [
  {
   "cell_type": "markdown",
   "id": "1b6a1178-62cb-40fc-bbec-3c48a7a3b569",
   "metadata": {},
   "source": [
    "# Fit LDA ensemble\n",
    "\n",
    "see: https://radimrehurek.com/gensim/auto_examples/tutorials/run_ensemblelda.html"
   ]
  },
  {
   "cell_type": "code",
   "execution_count": 1,
   "id": "7296fec0-c923-4b7b-a548-01468d821f23",
   "metadata": {},
   "outputs": [],
   "source": [
    "#import gensim\n",
    "#from gensim import corpora\n",
    "#from gensim.parsing.preprocessing import preprocess_string\n",
    "#import pandas as pd\n",
    "#from matplotlib import pyplot as plt \n",
    "import pickle\n",
    "#import numpy as np\n",
    "    \n",
    "#%matplotlib inline"
   ]
  },
  {
   "cell_type": "code",
   "execution_count": 2,
   "id": "1d545df8-a8f5-4f6f-9fbd-50f943cacb3f",
   "metadata": {},
   "outputs": [],
   "source": [
    "import pandas as pd\n",
    "#import os\n",
    "#import PyPDF2\n",
    "#from collections import defaultdict\n",
    "#from gensim import corpora\n",
    "\n",
    "from gensim.models import LdaModel\n",
    "from gensim.models import EnsembleLda\n",
    "#from gensim.parsing.preprocessing import preprocess_string\n",
    "\n",
    "import numpy as np\n",
    "#from random import sample "
   ]
  },
  {
   "cell_type": "code",
   "execution_count": 3,
   "id": "5e9223e3-3002-4d19-9eb9-89850f76ec52",
   "metadata": {},
   "outputs": [],
   "source": [
    "from matplotlib import pyplot as plt \n",
    "\n",
    "%matplotlib inline"
   ]
  },
  {
   "cell_type": "markdown",
   "id": "6d6b82af-41bc-412c-9452-c92a23a61aa7",
   "metadata": {},
   "source": [
    "## Load dictionary and corpus\n",
    "Load the dictionary, tokenized train- and validate-corpus."
   ]
  },
  {
   "cell_type": "code",
   "execution_count": 4,
   "id": "2310a446-490d-4f00-95bf-5759ffedd524",
   "metadata": {},
   "outputs": [],
   "source": [
    "with open('../data/dictionary_gw.pickle', 'rb') as handle:\n",
    "    dictionary_gw = pickle.load(handle)\n",
    "\n",
    "with open('../data/corpus_train_gw.pickle', 'rb') as handle:\n",
    "    corpus_train_gw = pickle.load(handle)\n",
    "\n",
    "with open('../data/corpus_validate_gw.pickle', 'rb') as handle:\n",
    "    corpus_validate_gw = pickle.load(handle)"
   ]
  },
  {
   "cell_type": "markdown",
   "id": "b1de6a3a-027a-4942-9317-28843029b195",
   "metadata": {},
   "source": [
    "## Fit ensemble LDA"
   ]
  },
  {
   "cell_type": "markdown",
   "id": "452a5ee6-437e-4771-bb6c-8d733c339e28",
   "metadata": {},
   "source": [
    "### Training"
   ]
  },
  {
   "cell_type": "code",
   "execution_count": 29,
   "id": "90f8c390-8c17-4077-8596-5aa82daf1622",
   "metadata": {},
   "outputs": [],
   "source": [
    "topic_model_class = LdaModel\n",
    "ensemble_workers = 6\n",
    "num_models = ensemble_workers * 2\n",
    "distance_workers = 12\n",
    "num_topics = 100\n",
    "passes = 2"
   ]
  },
  {
   "cell_type": "code",
   "execution_count": 30,
   "id": "75c2929d-c52a-4f5f-9b61-45509a1bec01",
   "metadata": {},
   "outputs": [],
   "source": [
    "def fit_ensemble_lda():\n",
    "    \"\"\"A function to train an ensemble LDA\"\"\"\n",
    "    ensemble = EnsembleLda(\n",
    "        corpus=corpus_train_gw,\n",
    "        id2word=dictionary_gw,\n",
    "        num_topics=num_topics,\n",
    "        passes=passes,\n",
    "        num_models=num_models,\n",
    "        topic_model_class=topic_model_class,\n",
    "        ensemble_workers=ensemble_workers,\n",
    "        distance_workers=distance_workers\n",
    "    )\n",
    "    return(ensemble)"
   ]
  },
  {
   "cell_type": "markdown",
   "id": "0939f3ad-87b1-4889-94f2-4b01af1569ab",
   "metadata": {},
   "source": [
    "### Optimize the epsilon parameter"
   ]
  },
  {
   "cell_type": "code",
   "execution_count": 31,
   "id": "c7aaf007-628e-4985-8513-ed1933d0e1ca",
   "metadata": {},
   "outputs": [],
   "source": [
    "def get_shape_range(ensemble, steps=25):\n",
    "    \"\"\"Get the range of epsilon values for this ensemble\"\"\"\n",
    "    shape = ensemble.asymmetric_distance_matrix.shape\n",
    "    without_diagonal = ensemble.asymmetric_distance_matrix[~np.eye(shape[0], dtype=bool)].reshape(shape[0], -1)\n",
    "    return(np.linspace(without_diagonal.min(), without_diagonal.max(), num=steps))"
   ]
  },
  {
   "cell_type": "code",
   "execution_count": 26,
   "id": "014285b1-1e72-4378-b460-356e37c1377e",
   "metadata": {},
   "outputs": [
    {
     "name": "stdout",
     "output_type": "stream",
     "text": [
      "Run 1 / 5\n",
      "eps: 0.08333103623997525 stable number of topics: 2, perplexity: 2607.156495172417\n",
      "eps: 0.12064513630458457 stable number of topics: 4, perplexity: 1710.4792629504725\n",
      "eps: 0.15795923636919387 stable number of topics: 3, perplexity: 1660.207631451364\n",
      "eps: 0.19527333643380318 stable number of topics: 2, perplexity: 1749.9495423752935\n",
      "eps: 0.2699015365630218 stable number of topics: 2, perplexity: 1688.7397408395088\n",
      "eps: 0.30721563662763113 stable number of topics: 2, perplexity: 1709.6522420791482\n",
      "Run 2 / 5\n",
      "eps: 0.11854690811987965 stable number of topics: 3, perplexity: 1861.3703444994949\n",
      "eps: 0.15557971647261554 stable number of topics: 3, perplexity: 1672.5213249442709\n",
      "eps: 0.1926125248253514 stable number of topics: 3, perplexity: 1656.5385351703794\n",
      "Run 3 / 5\n",
      "eps: 0.08793568844099464 stable number of topics: 2, perplexity: 2517.6861182445473\n",
      "eps: 0.12491934628003115 stable number of topics: 3, perplexity: 1744.238138695201\n",
      "eps: 0.16190300411906766 stable number of topics: 4, perplexity: 1653.657135450445\n",
      "eps: 0.19888666195810417 stable number of topics: 2, perplexity: 1763.6782333671513\n",
      "eps: 0.23587031979714068 stable number of topics: 2, perplexity: 1749.310097211336\n",
      "eps: 0.2728539776361772 stable number of topics: 2, perplexity: 1752.810188857368\n",
      "eps: 0.3838049511532867 stable number of topics: 3, perplexity: 1845.5157406716305\n",
      "Run 4 / 5\n",
      "eps: 0.0812196563648369 stable number of topics: 3, perplexity: 2103.069321953631\n",
      "eps: 0.11786098421243923 stable number of topics: 5, perplexity: 1691.4421145147446\n",
      "eps: 0.15450231206004159 stable number of topics: 4, perplexity: 1655.7467821873956\n",
      "eps: 0.19114363990764394 stable number of topics: 4, perplexity: 1664.1738228733514\n",
      "eps: 0.22778496775524626 stable number of topics: 3, perplexity: 1716.4381392134342\n",
      "eps: 0.26442629560284864 stable number of topics: 2, perplexity: 2116.4344092832935\n",
      "eps: 0.30106762345045096 stable number of topics: 2, perplexity: 1756.6700940611904\n",
      "eps: 0.3377089512980533 stable number of topics: 2, perplexity: 1724.6946669231713\n",
      "eps: 0.410991606993258 stable number of topics: 2, perplexity: 2325.8889053709004\n",
      "Run 5 / 5\n",
      "eps: 0.12289673108322074 stable number of topics: 5, perplexity: 1705.7166335719692\n",
      "eps: 0.160668160962241 stable number of topics: 3, perplexity: 1655.0354208046922\n",
      "eps: 0.19843959084126128 stable number of topics: 4, perplexity: 1643.8217025310887\n",
      "eps: 0.23621102072028155 stable number of topics: 3, perplexity: 1767.0255042811189\n",
      "eps: 0.2739824505993018 stable number of topics: 2, perplexity: 1863.44708195066\n",
      "CPU times: user 31.9 s, sys: 1.92 s, total: 33.8 s\n",
      "Wall time: 4min 24s\n"
     ]
    }
   ],
   "source": [
    "%%time\n",
    "\n",
    "perplexity = []\n",
    "max_runs = 5\n",
    "for run in range(max_runs):\n",
    "    print(f\"Run {run + 1} / {max_runs}\")\n",
    "    eps = []\n",
    "    num_topics_eps = []\n",
    "    px = []\n",
    "    ensemble = fit_ensemble_lda()\n",
    "    shape_range = get_shape_range(ensemble)\n",
    "    for val in shape_range:\n",
    "        ensemble.recluster(eps=val)\n",
    "        len_topics = len(ensemble.get_topics())\n",
    "        num_topics_eps.append(len_topics)\n",
    "        eps.append(val)\n",
    "        if len_topics > 1:\n",
    "            # compute the perplexity for this value of epsilon\n",
    "            log_perplexity = ensemble.log_perplexity(corpus_validate_gw)\n",
    "            perplexity_eps = np.exp(-log_perplexity)\n",
    "            px.append(perplexity_eps)\n",
    "            print(f\"eps: {val} stable number of topics: {len_topics}, perplexity: {perplexity_eps}\")\n",
    "        else:\n",
    "            # there's 1 or no stable topics, perplexity is infinite\n",
    "            px.append(np.inf)\n",
    "    perplexity.append(pd.DataFrame.from_dict({'k': num_topics_eps, 'eps': eps, 'val': px}))\n"
   ]
  },
  {
   "cell_type": "code",
   "execution_count": 28,
   "id": "9412a05c-061e-409a-943b-c5ea624d3cc4",
   "metadata": {},
   "outputs": [
    {
     "data": {
      "image/png": "[encoded data removed]",
      "text/plain": [
       "<Figure size 640x480 with 1 Axes>"
      ]
     },
     "metadata": {},
     "output_type": "display_data"
    }
   ],
   "source": [
    "for run in range(max_runs):\n",
    "    plt.plot(perplexity[run].eps, perplexity[run].val)\n",
    "plt.title(\"Perplexity by value of epsilon\")\n",
    "plt.xlabel(\"Epsilon\")\n",
    "plt.ylabel(\"Perplexity\")\n",
    "plt.show()"
   ]
  },
  {
   "cell_type": "code",
   "execution_count": 52,
   "id": "6b025c18-48b5-41e7-92ae-6cab493a74bb",
   "metadata": {},
   "outputs": [],
   "source": [
    "perplexity = [p for p in perplexity if p > -np.inf]\n",
    "best_eps = eps[perplexity.index(min(perplexity))]"
   ]
  },
  {
   "cell_type": "code",
   "execution_count": 53,
   "id": "b48fd62b-b855-4161-a09d-73f23e50454b",
   "metadata": {},
   "outputs": [
    {
     "name": "stdout",
     "output_type": "stream",
     "text": [
      "Found 10 stable topics\n"
     ]
    },
    {
     "data": {
      "text/plain": [
       "[(0,\n",
       "  '0.194*\"pulsar\" + 0.097*\"timing\" + 0.053*\"array\" + 0.023*\"millisecond\" + 0.015*\"ptas\"'),\n",
       " (1,\n",
       "  '0.096*\"phase\" + 0.084*\"transition\" + 0.026*\"order\" + 0.020*\"model\" + 0.019*\"bubble\"'),\n",
       " (2,\n",
       "  '0.052*\"star\" + 0.044*\"neutrino\" + 0.040*\"neutron\" + 0.025*\"collapse\" + 0.024*\"core\"'),\n",
       " (3,\n",
       "  '0.056*\"ray\" + 0.050*\"gamma\" + 0.030*\"burst\" + 0.019*\"energy\" + 0.017*\"emission\"'),\n",
       " (4,\n",
       "  '0.026*\"equation\" + 0.019*\"solution\" + 0.014*\"distance\" + 0.014*\"field\" + 0.011*\"general\"'),\n",
       " (5,\n",
       "  '0.157*\"string\" + 0.078*\"cosmic\" + 0.023*\"tension\" + 0.022*\"background\" + 0.018*\"asymmetry\"'),\n",
       " (6,\n",
       "  '0.047*\"lisa\" + 0.020*\"space\" + 0.020*\"dwarf\" + 0.018*\"white\" + 0.012*\"interferometer\"'),\n",
       " (7,\n",
       "  '0.121*\"mathrm\" + 0.032*\"lesssim\" + 0.011*\"ell\" + 0.009*\"time\" + 0.008*\"classification\"'),\n",
       " (8,\n",
       "  '0.173*\"mode\" + 0.032*\"polarization\" + 0.011*\"amplitude\" + 0.008*\"damping\" + 0.008*\"frequency\"'),\n",
       " (9,\n",
       "  '0.113*\"smbh\" + 0.033*\"rho\" + 0.027*\"edge\" + 0.022*\"amplitude\" + 0.017*\"parameterized\"')]"
      ]
     },
     "execution_count": 53,
     "metadata": {},
     "output_type": "execute_result"
    }
   ],
   "source": [
    "ensemble.recluster(eps=best_eps, min_samples=2, min_cores=2)\n",
    "print(f\"Found {len(ensemble.print_topics())} stable topics\")\n",
    "ensemble.print_topics(num_words=5)"
   ]
  },
  {
   "cell_type": "code",
   "execution_count": null,
   "id": "1d4be2c2-5482-4117-b167-35b1ce8faff2",
   "metadata": {},
   "outputs": [],
   "source": []
  }
 ],
 "metadata": {
  "kernelspec": {
   "display_name": "Python 3 (ipykernel)",
   "language": "python",
   "name": "python3"
  },
  "language_info": {
   "codemirror_mode": {
    "name": "ipython",
    "version": 3
   },
   "file_extension": ".py",
   "mimetype": "text/x-python",
   "name": "python",
   "nbconvert_exporter": "python",
   "pygments_lexer": "ipython3",
   "version": "3.12.2"
  }
 },
 "nbformat": 4,
 "nbformat_minor": 5
}
