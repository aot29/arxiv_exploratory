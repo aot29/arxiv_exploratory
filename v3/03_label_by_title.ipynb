{
 "cells": [
  {
   "cell_type": "markdown",
   "id": "30e1b8e8-4f98-4bec-a237-a01fee009169",
   "metadata": {},
   "source": [
    "Load the topic models fitted in a previous notebook.\n",
    "* lda_gw: Gravitational Waves topics\n",
    "\n",
    "Load the train dataset\n",
    "\n",
    "Load the tokenized train dataset\n",
    "\n",
    "4. Assign topics to all entries in the test dataset\n",
    "5. Save the assigned topics to a CSV file"
   ]
  },
  {
   "cell_type": "code",
   "execution_count": 2,
   "id": "10aec855-23a5-44a5-81ca-d7123fa8cc59",
   "metadata": {},
   "outputs": [],
   "source": [
    "import pickle\n",
    "from transformers import pipeline\n",
    "import pandas as pd\n",
    "from transformers import pipeline\n"
   ]
  },
  {
   "cell_type": "code",
   "execution_count": 3,
   "id": "2a7e8bfc-bc33-4a4e-b1cb-0c882457252d",
   "metadata": {},
   "outputs": [],
   "source": [
    "gw_train = pd.read_csv('../data/gw_train.csv.zip', index_col=0)"
   ]
  },
  {
   "cell_type": "code",
   "execution_count": 4,
   "id": "34730abc-fb59-4ee7-9166-edff9862a756",
   "metadata": {},
   "outputs": [],
   "source": [
    "with open('../models/lda_gw.pickle', 'rb') as handle:\n",
    "    lda_gw = pickle.load(handle)"
   ]
  },
  {
   "cell_type": "code",
   "execution_count": 5,
   "id": "1066e0a9-a186-4b04-a164-4d31ec886851",
   "metadata": {},
   "outputs": [],
   "source": [
    "with open('../data/corpus_train_gw.pickle', 'rb') as handle:\n",
    "    corpus_train_gw = pickle.load(handle)"
   ]
  },
  {
   "cell_type": "code",
   "execution_count": null,
   "id": "adc53202-7501-4adb-807b-a85f6cbd0be3",
   "metadata": {},
   "outputs": [],
   "source": []
  },
  {
   "cell_type": "markdown",
   "id": "e92b937a-1b47-4bde-bf29-877adee9ebbd",
   "metadata": {},
   "source": [
    "## Assign topics to the data\n",
    "\n",
    "Aggregate topic information in a dataframe (see: https://campus.datacamp.com/courses/fraud-detection-in-python/fraud-detection-using-text?ex=11)"
   ]
  },
  {
   "cell_type": "code",
   "execution_count": 6,
   "id": "415588e8-cb6e-4a61-8f1d-ea67c32830c2",
   "metadata": {},
   "outputs": [],
   "source": [
    "def get_topic_details(ldamodel, corpus):\n",
    "    topic_details_list = []\n",
    "    for i, row in enumerate(ldamodel[corpus]):\n",
    "        row = sorted(row, key=lambda x: (x[1]), reverse=True)\n",
    "        for j, (topic_num, prop_topic) in enumerate(row):\n",
    "            if j == 0:  # dominant topic\n",
    "                wp = ldamodel.show_topic(topic_num)\n",
    "                topic_details_list.append([topic_num, prop_topic, row])\n",
    "    topic_details_df = pd.DataFrame(topic_details_list)\n",
    "    topic_details_df.columns = ['Dominant_Topic', '% Score', 'Topics']\n",
    "    return topic_details_df"
   ]
  },
  {
   "cell_type": "code",
   "execution_count": 7,
   "id": "a8112744-ffc8-4d7f-8fd5-0c220d49a143",
   "metadata": {},
   "outputs": [],
   "source": [
    "def assign_topics(ldamodel, corpus, df):\n",
    "    # put the arxiv id, original categories data and creation date in a dataframe\n",
    "    # combine with result of topic details function\n",
    "    topics_df = pd.DataFrame()\n",
    "    topic_details = get_topic_details(ldamodel, corpus)\n",
    "    topics_df['id'] = list(df['id'])\n",
    "    topics_df['title'] = list(df['title'])\n",
    "    topics_df['year'] = list(df['year'])\n",
    "    topics_df['month'] = list(df['month'])\n",
    "    topics_df['Dominant Topic'] = topic_details['Dominant_Topic']\n",
    "    topics_df['% Score'] = topic_details['% Score']\n",
    "    topics_df['Topics'] = topic_details['Topics']\n",
    "    return topics_df"
   ]
  },
  {
   "cell_type": "code",
   "execution_count": 8,
   "id": "f49eecb1-8f1a-4106-9960-a246024abba4",
   "metadata": {},
   "outputs": [],
   "source": [
    "topics_gw_train = assign_topics(lda_gw, corpus_train_gw, gw_train)"
   ]
  },
  {
   "cell_type": "code",
   "execution_count": 9,
   "id": "282634b5-66a6-40c0-b61c-9480ac138c72",
   "metadata": {},
   "outputs": [
    {
     "data": {
      "text/html": [
       "<div>\n",
       "<style scoped>\n",
       "    .dataframe tbody tr th:only-of-type {\n",
       "        vertical-align: middle;\n",
       "    }\n",
       "\n",
       "    .dataframe tbody tr th {\n",
       "        vertical-align: top;\n",
       "    }\n",
       "\n",
       "    .dataframe thead th {\n",
       "        text-align: right;\n",
       "    }\n",
       "</style>\n",
       "<table border=\"1\" class=\"dataframe\">\n",
       "  <thead>\n",
       "    <tr style=\"text-align: right;\">\n",
       "      <th></th>\n",
       "      <th>id</th>\n",
       "      <th>title</th>\n",
       "      <th>year</th>\n",
       "      <th>month</th>\n",
       "      <th>Dominant Topic</th>\n",
       "      <th>% Score</th>\n",
       "      <th>Topics</th>\n",
       "    </tr>\n",
       "  </thead>\n",
       "  <tbody>\n",
       "    <tr>\n",
       "      <th>0</th>\n",
       "      <td>2401.02604</td>\n",
       "      <td>Precision constraints on the neutron star equa...</td>\n",
       "      <td>2024</td>\n",
       "      <td>1</td>\n",
       "      <td>4</td>\n",
       "      <td>0.670213</td>\n",
       "      <td>[(4, 0.670213), (1, 0.17013457), (0, 0.15641485)]</td>\n",
       "    </tr>\n",
       "    <tr>\n",
       "      <th>1</th>\n",
       "      <td>2112.01979</td>\n",
       "      <td>Multi-Messenger Constraints on Magnetic Fields...</td>\n",
       "      <td>2021</td>\n",
       "      <td>12</td>\n",
       "      <td>4</td>\n",
       "      <td>0.825816</td>\n",
       "      <td>[(4, 0.8258161), (0, 0.16997717)]</td>\n",
       "    </tr>\n",
       "    <tr>\n",
       "      <th>2</th>\n",
       "      <td>1810.09764</td>\n",
       "      <td>On the post-common-envelope central star of th...</td>\n",
       "      <td>2018</td>\n",
       "      <td>10</td>\n",
       "      <td>4</td>\n",
       "      <td>0.910031</td>\n",
       "      <td>[(4, 0.9100307), (0, 0.084191985)]</td>\n",
       "    </tr>\n",
       "    <tr>\n",
       "      <th>3</th>\n",
       "      <td>2106.06209</td>\n",
       "      <td>Analytical computation of quasi-normal modes o...</td>\n",
       "      <td>2021</td>\n",
       "      <td>6</td>\n",
       "      <td>3</td>\n",
       "      <td>0.530750</td>\n",
       "      <td>[(3, 0.53075004), (0, 0.23554358), (2, 0.23075...</td>\n",
       "    </tr>\n",
       "    <tr>\n",
       "      <th>4</th>\n",
       "      <td>astro-ph/0511394</td>\n",
       "      <td>Non-linear axisymmetric pulsations of rotating...</td>\n",
       "      <td>2005</td>\n",
       "      <td>11</td>\n",
       "      <td>0</td>\n",
       "      <td>0.874086</td>\n",
       "      <td>[(0, 0.8740861), (3, 0.08919316), (1, 0.033166...</td>\n",
       "    </tr>\n",
       "  </tbody>\n",
       "</table>\n",
       "</div>"
      ],
      "text/plain": [
       "                 id                                              title  year  \\\n",
       "0        2401.02604  Precision constraints on the neutron star equa...  2024   \n",
       "1        2112.01979  Multi-Messenger Constraints on Magnetic Fields...  2021   \n",
       "2        1810.09764  On the post-common-envelope central star of th...  2018   \n",
       "3        2106.06209  Analytical computation of quasi-normal modes o...  2021   \n",
       "4  astro-ph/0511394  Non-linear axisymmetric pulsations of rotating...  2005   \n",
       "\n",
       "   month  Dominant Topic   % Score  \\\n",
       "0      1               4  0.670213   \n",
       "1     12               4  0.825816   \n",
       "2     10               4  0.910031   \n",
       "3      6               3  0.530750   \n",
       "4     11               0  0.874086   \n",
       "\n",
       "                                              Topics  \n",
       "0  [(4, 0.670213), (1, 0.17013457), (0, 0.15641485)]  \n",
       "1                  [(4, 0.8258161), (0, 0.16997717)]  \n",
       "2                 [(4, 0.9100307), (0, 0.084191985)]  \n",
       "3  [(3, 0.53075004), (0, 0.23554358), (2, 0.23075...  \n",
       "4  [(0, 0.8740861), (3, 0.08919316), (1, 0.033166...  "
      ]
     },
     "execution_count": 9,
     "metadata": {},
     "output_type": "execute_result"
    }
   ],
   "source": [
    "topics_gw_train.head()"
   ]
  },
  {
   "cell_type": "markdown",
   "id": "6369979a-6920-41af-ad63-f792c455b821",
   "metadata": {},
   "source": [
    "Concatenate all the titles by dominant topic"
   ]
  },
  {
   "cell_type": "code",
   "execution_count": 10,
   "id": "16982f3b-cc4f-44bd-af9c-091c9f22c7a6",
   "metadata": {},
   "outputs": [],
   "source": [
    "import random\n",
    "\n",
    "idx = topics_gw_train['Dominant Topic'] == 4\n",
    "topics_gw_train_0 = topics_gw_train[idx]\n",
    "topics_gw_train_0 = topics_gw_train_0.reset_index()\n",
    "topics_gw_train_0 = topics_gw_train_0.sample(frac=1)  # shuffle\n",
    "all_titles = '. '.join(topics_gw_train_0['title'])"
   ]
  },
  {
   "cell_type": "code",
   "execution_count": null,
   "id": "ca8ac14b-5c85-40bc-9031-5eae8ddb8044",
   "metadata": {},
   "outputs": [],
   "source": []
  },
  {
   "cell_type": "code",
   "execution_count": 11,
   "id": "23464820-144a-40cc-9254-0564db6b9110",
   "metadata": {},
   "outputs": [
    {
     "name": "stderr",
     "output_type": "stream",
     "text": [
      "[nltk_data] Downloading package punkt to /home/atroncos/nltk_data...\n",
      "[nltk_data]   Package punkt is already up-to-date!\n"
     ]
    },
    {
     "name": "stdout",
     "output_type": "stream",
     "text": [
      "Gravitational waves from supermassive black holes\n"
     ]
    }
   ],
   "source": [
    "from transformers import AutoTokenizer, AutoModelForSeq2SeqLM\n",
    "import nltk\n",
    "nltk.download('punkt')\n",
    "\n",
    "#model_name = 'fabiochiu/t5-small-medium-title-generation'\n",
    "#model_name = 'deep-learning-analytics/automatic-title-generation'\n",
    "model_name = 'google-t5/t5-small'\n",
    "#model_name = 'sshleifer/distilbart-cnn-12-6'\n",
    "\n",
    "tokenizer = AutoTokenizer.from_pretrained(model_name)\n",
    "model = AutoModelForSeq2SeqLM.from_pretrained(model_name)\n",
    "\n",
    "#inputs = [f\"Select a suitable label for these keywords: {all_titles}\"]\n",
    "#inputs = [f\"Which topic is described by these keywords (response should be between 1 and 12 words): {all_titles}\"]\n",
    "inputs = [f\"summarize: {all_titles}\"]\n",
    "#inputs = all_titles\n",
    "\n",
    "inputs = tokenizer(inputs, max_length=1024*10, truncation=True, return_tensors=\"pt\")\n",
    "output = model.generate(**inputs, num_beams=8, do_sample=True, min_length=1, max_length=12)\n",
    "decoded_output = tokenizer.batch_decode(output, skip_special_tokens=True)[0]\n",
    "predicted_title = nltk.sent_tokenize(decoded_output.strip())[0]\n",
    "\n",
    "print(predicted_title)"
   ]
  },
  {
   "cell_type": "code",
   "execution_count": null,
   "id": "c7962f6a-87ee-4eee-93cd-bc5fb2b7b228",
   "metadata": {},
   "outputs": [],
   "source": []
  }
 ],
 "metadata": {
  "kernelspec": {
   "display_name": "Python 3 (ipykernel)",
   "language": "python",
   "name": "python3"
  },
  "language_info": {
   "codemirror_mode": {
    "name": "ipython",
    "version": 3
   },
   "file_extension": ".py",
   "mimetype": "text/x-python",
   "name": "python",
   "nbconvert_exporter": "python",
   "pygments_lexer": "ipython3",
   "version": "3.12.2"
  }
 },
 "nbformat": 4,
 "nbformat_minor": 5
}
