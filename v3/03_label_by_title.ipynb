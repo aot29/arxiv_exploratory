{
 "cells": [
  {
   "cell_type": "markdown",
   "id": "30e1b8e8-4f98-4bec-a237-a01fee009169",
   "metadata": {},
   "source": [
    "Load the train dataset, and the train corpus\n",
    "\n",
    "Load the topic models fitted in a previous notebook.\n",
    "* lda_gw: Gravitational Waves topics\n",
    "\n",
    "Load the tokenized train dataset\n",
    "\n",
    "4. Assign topics to all entries in the test dataset\n",
    "5. Save the assigned topics to a CSV file"
   ]
  },
  {
   "cell_type": "code",
   "execution_count": 1,
   "id": "10aec855-23a5-44a5-81ca-d7123fa8cc59",
   "metadata": {},
   "outputs": [
    {
     "name": "stderr",
     "output_type": "stream",
     "text": [
      "/home/atroncos/anaconda3/envs/arxiv_exp/lib/python3.12/site-packages/tqdm/auto.py:21: TqdmWarning: IProgress not found. Please update jupyter and ipywidgets. See https://ipywidgets.readthedocs.io/en/stable/user_install.html\n",
      "  from .autonotebook import tqdm as notebook_tqdm\n",
      "[nltk_data] Downloading package punkt to /home/atroncos/nltk_data...\n",
      "[nltk_data]   Package punkt is already up-to-date!\n"
     ]
    },
    {
     "data": {
      "text/plain": [
       "True"
      ]
     },
     "execution_count": 1,
     "metadata": {},
     "output_type": "execute_result"
    }
   ],
   "source": [
    "import pickle\n",
    "from transformers import pipeline\n",
    "import pandas as pd\n",
    "from transformers import pipeline\n",
    "import random\n",
    "from transformers import AutoTokenizer, AutoModelForSeq2SeqLM\n",
    "import nltk\n",
    "nltk.download('punkt')\n"
   ]
  },
  {
   "cell_type": "markdown",
   "id": "0cfea5be-324a-4f77-883e-173e298a01c7",
   "metadata": {},
   "source": [
    "Load the topic models fitted in a previous notebook.\n",
    "* lda_gw: Gravitational Waves topics\n"
   ]
  },
  {
   "cell_type": "code",
   "execution_count": 2,
   "id": "34730abc-fb59-4ee7-9166-edff9862a756",
   "metadata": {},
   "outputs": [],
   "source": [
    "with open('../models/lda_gw.pickle', 'rb') as handle:\n",
    "    lda_gw = pickle.load(handle)"
   ]
  },
  {
   "cell_type": "markdown",
   "id": "cad0a400-890a-4154-aa21-2da708df8abc",
   "metadata": {},
   "source": [
    "Load the train dataset, and the train corpus"
   ]
  },
  {
   "cell_type": "code",
   "execution_count": 3,
   "id": "2a7e8bfc-bc33-4a4e-b1cb-0c882457252d",
   "metadata": {},
   "outputs": [],
   "source": [
    "gw_train = pd.read_csv('../data/gw_train.csv.zip', index_col=0)"
   ]
  },
  {
   "cell_type": "code",
   "execution_count": 4,
   "id": "1066e0a9-a186-4b04-a164-4d31ec886851",
   "metadata": {},
   "outputs": [],
   "source": [
    "with open('../data/corpus_train_gw.pickle', 'rb') as handle:\n",
    "    corpus_train_gw = pickle.load(handle)"
   ]
  },
  {
   "cell_type": "markdown",
   "id": "e92b937a-1b47-4bde-bf29-877adee9ebbd",
   "metadata": {},
   "source": [
    "## Assign topics to the data\n",
    "\n",
    "Aggregate topic information in a dataframe (see: https://campus.datacamp.com/courses/fraud-detection-in-python/fraud-detection-using-text?ex=11)"
   ]
  },
  {
   "cell_type": "code",
   "execution_count": 5,
   "id": "415588e8-cb6e-4a61-8f1d-ea67c32830c2",
   "metadata": {},
   "outputs": [],
   "source": [
    "def get_topic_details(ldamodel, corpus):\n",
    "    topic_details_list = []\n",
    "    for i, row in enumerate(ldamodel[corpus]):\n",
    "        row = sorted(row, key=lambda x: (x[1]), reverse=True)\n",
    "        for j, (topic_num, prop_topic) in enumerate(row):\n",
    "            if j == 0:  # dominant topic\n",
    "                wp = ldamodel.show_topic(topic_num)\n",
    "                topic_details_list.append([topic_num, prop_topic, row])\n",
    "    topic_details_df = pd.DataFrame(topic_details_list)\n",
    "    topic_details_df.columns = ['Dominant_Topic', '% Score', 'Topics']\n",
    "    return topic_details_df"
   ]
  },
  {
   "cell_type": "code",
   "execution_count": 6,
   "id": "a8112744-ffc8-4d7f-8fd5-0c220d49a143",
   "metadata": {},
   "outputs": [],
   "source": [
    "def assign_topics(ldamodel, corpus, df):\n",
    "    # put the arxiv id, original categories data and creation date in a dataframe\n",
    "    # combine with result of topic details function\n",
    "    topics_df = pd.DataFrame()\n",
    "    topic_details = get_topic_details(ldamodel, corpus)\n",
    "    topics_df['id'] = list(df['id'])\n",
    "    topics_df['title'] = list(df['title'])\n",
    "    topics_df['year'] = list(df['year'])\n",
    "    topics_df['month'] = list(df['month'])\n",
    "    topics_df['Dominant Topic'] = topic_details['Dominant_Topic']\n",
    "    topics_df['% Score'] = topic_details['% Score']\n",
    "    topics_df['Topics'] = topic_details['Topics']\n",
    "    return topics_df"
   ]
  },
  {
   "cell_type": "code",
   "execution_count": 7,
   "id": "f49eecb1-8f1a-4106-9960-a246024abba4",
   "metadata": {},
   "outputs": [],
   "source": [
    "topics_gw_train = assign_topics(lda_gw, corpus_train_gw, gw_train)"
   ]
  },
  {
   "cell_type": "code",
   "execution_count": 8,
   "id": "282634b5-66a6-40c0-b61c-9480ac138c72",
   "metadata": {},
   "outputs": [
    {
     "data": {
      "text/html": [
       "<div>\n",
       "<style scoped>\n",
       "    .dataframe tbody tr th:only-of-type {\n",
       "        vertical-align: middle;\n",
       "    }\n",
       "\n",
       "    .dataframe tbody tr th {\n",
       "        vertical-align: top;\n",
       "    }\n",
       "\n",
       "    .dataframe thead th {\n",
       "        text-align: right;\n",
       "    }\n",
       "</style>\n",
       "<table border=\"1\" class=\"dataframe\">\n",
       "  <thead>\n",
       "    <tr style=\"text-align: right;\">\n",
       "      <th></th>\n",
       "      <th>id</th>\n",
       "      <th>title</th>\n",
       "      <th>year</th>\n",
       "      <th>month</th>\n",
       "      <th>Dominant Topic</th>\n",
       "      <th>% Score</th>\n",
       "      <th>Topics</th>\n",
       "    </tr>\n",
       "  </thead>\n",
       "  <tbody>\n",
       "    <tr>\n",
       "      <th>0</th>\n",
       "      <td>711.025</td>\n",
       "      <td>Tail effects in the third post-Newtonian gravi...</td>\n",
       "      <td>2007</td>\n",
       "      <td>11</td>\n",
       "      <td>1</td>\n",
       "      <td>0.394228</td>\n",
       "      <td>[(1, 0.39422807), (3, 0.35740227), (0, 0.24538...</td>\n",
       "    </tr>\n",
       "    <tr>\n",
       "      <th>1</th>\n",
       "      <td>2009.08103</td>\n",
       "      <td>The Advanced Virgo Photon Calibrators</td>\n",
       "      <td>2020</td>\n",
       "      <td>9</td>\n",
       "      <td>0</td>\n",
       "      <td>0.970369</td>\n",
       "      <td>[(0, 0.9703692), (3, 0.022496346)]</td>\n",
       "    </tr>\n",
       "    <tr>\n",
       "      <th>2</th>\n",
       "      <td>1905.08286</td>\n",
       "      <td>Listening to the sound of dark sector interact...</td>\n",
       "      <td>2019</td>\n",
       "      <td>5</td>\n",
       "      <td>2</td>\n",
       "      <td>0.721912</td>\n",
       "      <td>[(2, 0.7219119), (0, 0.2207775), (3, 0.05395951)]</td>\n",
       "    </tr>\n",
       "    <tr>\n",
       "      <th>3</th>\n",
       "      <td>2004.06503</td>\n",
       "      <td>Computationally efficient models for the domin...</td>\n",
       "      <td>2020</td>\n",
       "      <td>4</td>\n",
       "      <td>1</td>\n",
       "      <td>0.358168</td>\n",
       "      <td>[(1, 0.35816848), (3, 0.34653628), (0, 0.29264...</td>\n",
       "    </tr>\n",
       "    <tr>\n",
       "      <th>4</th>\n",
       "      <td>2212.05291</td>\n",
       "      <td>Probing Minimal Grand Unification through Grav...</td>\n",
       "      <td>2022</td>\n",
       "      <td>12</td>\n",
       "      <td>2</td>\n",
       "      <td>0.715022</td>\n",
       "      <td>[(2, 0.71502197), (1, 0.10800291), (0, 0.10706...</td>\n",
       "    </tr>\n",
       "  </tbody>\n",
       "</table>\n",
       "</div>"
      ],
      "text/plain": [
       "           id                                              title  year  month  \\\n",
       "0     711.025  Tail effects in the third post-Newtonian gravi...  2007     11   \n",
       "1  2009.08103              The Advanced Virgo Photon Calibrators  2020      9   \n",
       "2  1905.08286  Listening to the sound of dark sector interact...  2019      5   \n",
       "3  2004.06503  Computationally efficient models for the domin...  2020      4   \n",
       "4  2212.05291  Probing Minimal Grand Unification through Grav...  2022     12   \n",
       "\n",
       "   Dominant Topic   % Score                                             Topics  \n",
       "0               1  0.394228  [(1, 0.39422807), (3, 0.35740227), (0, 0.24538...  \n",
       "1               0  0.970369                 [(0, 0.9703692), (3, 0.022496346)]  \n",
       "2               2  0.721912  [(2, 0.7219119), (0, 0.2207775), (3, 0.05395951)]  \n",
       "3               1  0.358168  [(1, 0.35816848), (3, 0.34653628), (0, 0.29264...  \n",
       "4               2  0.715022  [(2, 0.71502197), (1, 0.10800291), (0, 0.10706...  "
      ]
     },
     "execution_count": 8,
     "metadata": {},
     "output_type": "execute_result"
    }
   ],
   "source": [
    "topics_gw_train.head()"
   ]
  },
  {
   "cell_type": "markdown",
   "id": "6369979a-6920-41af-ad63-f792c455b821",
   "metadata": {},
   "source": [
    "Concatenate all the titles by dominant topic"
   ]
  },
  {
   "cell_type": "code",
   "execution_count": 9,
   "id": "16982f3b-cc4f-44bd-af9c-091c9f22c7a6",
   "metadata": {},
   "outputs": [],
   "source": [
    "def shuffle_titles(dominant_topic):\n",
    "    \"\"\"\n",
    "    Concatenates all the titles for papers about this topic,\n",
    "    the dominant topic is used to filter the papers. Paper titles are shuffled.\n",
    "    \n",
    "    dominant_topic: int id of the dominant topic for a paper\n",
    "    returns: string\n",
    "    \"\"\"\n",
    "    idx = topics_gw_train['Dominant Topic'] == dominant_topic\n",
    "    topics_gw_train_0 = topics_gw_train[idx]\n",
    "    topics_gw_train_0 = topics_gw_train_0.reset_index()\n",
    "    topics_gw_train_0 = topics_gw_train_0.sample(frac=1)  # shuffle\n",
    "    all_titles = '. '.join(topics_gw_train_0['title'])\n",
    "    return all_titles"
   ]
  },
  {
   "cell_type": "code",
   "execution_count": 10,
   "id": "23464820-144a-40cc-9254-0564db6b9110",
   "metadata": {},
   "outputs": [],
   "source": [
    "def predict_label_ALT(all_titles, min_length=1, max_length=12):\n",
    "    \"\"\"\n",
    "    Predict a label for a given concatenation of titles.\n",
    "    \"\"\"\n",
    "    #model_name = 'fabiochiu/t5-small-medium-title-generation'\n",
    "    #model_name = 'deep-learning-analytics/automatic-title-generation'\n",
    "    model_name = 'google-t5/t5-small'\n",
    "    #model_name = 'sshleifer/distilbart-cnn-12-6'\n",
    "    \n",
    "    tokenizer = AutoTokenizer.from_pretrained(model_name)\n",
    "    model = AutoModelForSeq2SeqLM.from_pretrained(model_name)\n",
    "    \n",
    "    #inputs = [f\"Select a suitable label for these keywords: {all_titles}\"]\n",
    "    #inputs = [f\"Which topic is described by these keywords (response should be between 1 and 12 words): {all_titles}\"]\n",
    "    inputs = [f\"summarize: {all_titles}\"]\n",
    "    #inputs = all_titles\n",
    "    \n",
    "    inputs = tokenizer(inputs, max_length=512, truncation=True, return_tensors=\"pt\")\n",
    "    output = model.generate(**inputs, num_beams=8, do_sample=True, min_length=1, max_length=12)\n",
    "    decoded_output = tokenizer.batch_decode(output, skip_special_tokens=True)[0]\n",
    "    predicted_label = nltk.sent_tokenize(decoded_output.strip())[0]\n",
    "    return(predicted_label)\n"
   ]
  },
  {
   "cell_type": "code",
   "execution_count": 35,
   "id": "58ae5379-e6b9-4c60-a034-a309abee83c3",
   "metadata": {},
   "outputs": [],
   "source": [
    "from transformers import T5Tokenizer, T5ForConditionalGeneration\n",
    "\n",
    "def predict_label(all_titles, min_length=1, max_length=12):\n",
    "    tokenizer = T5Tokenizer.from_pretrained(\"google/flan-t5-small\")\n",
    "    model = T5ForConditionalGeneration.from_pretrained(\"google/flan-t5-small\")\n",
    "\n",
    "    input_text = [f\"summarize: {all_titles}\"]\n",
    "    input_ids = tokenizer(input_text, max_length=512, truncation=True, return_tensors=\"pt\").input_ids.to('cpu')\n",
    "\n",
    "    outputs = model.generate(input_ids, num_beams=8, do_sample=True, min_length=min_length, max_length=max_length)\n",
    "    decoded_outputs = tokenizer.batch_decode(outputs, skip_special_tokens=True)[0]\n",
    "    predicted_label = nltk.sent_tokenize(decoded_outputs.strip())[0]\n",
    "\n",
    "    return(predicted_label)  "
   ]
  },
  {
   "cell_type": "code",
   "execution_count": 33,
   "id": "c7962f6a-87ee-4eee-93cd-bc5fb2b7b228",
   "metadata": {},
   "outputs": [],
   "source": [
    "def predict_topic_labels(df, min_length, max_length):\n",
    "    topics_range = set(df['Dominant Topic'])\n",
    "    labels = []\n",
    "    topics = []\n",
    "    for topic in topics_range:\n",
    "        print(f\"Processing topic {topic} / {len(topics_range)}\")\n",
    "        all_titles = shuffle_titles(topic)\n",
    "        label = predict_label(all_titles, min_length, max_length)\n",
    "        topics.append(topic)\n",
    "        labels.append(label)\n",
    "        print(f\"label: {label}\")\n",
    "    return(pd.DataFrame.from_dict({'topic': topics, 'label': labels}))"
   ]
  },
  {
   "cell_type": "code",
   "execution_count": 36,
   "id": "8b9741ae-747a-420e-9710-3d9dd73aec2d",
   "metadata": {},
   "outputs": [
    {
     "name": "stdout",
     "output_type": "stream",
     "text": [
      "Processing topic 0 / 4\n"
     ]
    },
    {
     "name": "stderr",
     "output_type": "stream",
     "text": [
      "Special tokens have been added in the vocabulary, make sure the associated word embeddings are fine-tuned or trained.\n"
     ]
    },
    {
     "name": "stdout",
     "output_type": "stream",
     "text": [
      "label: Detection\n",
      "Processing topic 1 / 4\n"
     ]
    },
    {
     "name": "stderr",
     "output_type": "stream",
     "text": [
      "Special tokens have been added in the vocabulary, make sure the associated word embeddings are fine-tuned or trained.\n",
      "Special tokens have been added in the vocabulary, make sure the associated word embeddings are fine-tuned or trained.\n"
     ]
    },
    {
     "name": "stdout",
     "output_type": "stream",
     "text": [
      "label: The Golden Era\n",
      "Processing topic 2 / 4\n",
      "label: Observational\n",
      "Processing topic 3 / 4\n"
     ]
    },
    {
     "name": "stderr",
     "output_type": "stream",
     "text": [
      "Special tokens have been added in the vocabulary, make sure the associated word embeddings are fine-tuned or trained.\n",
      "Special tokens have been added in the vocabulary, make sure the associated word embeddings are fine-tuned or trained.\n"
     ]
    },
    {
     "name": "stdout",
     "output_type": "stream",
     "text": [
      "label: Summary: Theory of\n",
      "Processing topic 0 / 4\n",
      "label: Search for gravitation\n",
      "Processing topic 1 / 4\n"
     ]
    },
    {
     "name": "stderr",
     "output_type": "stream",
     "text": [
      "Special tokens have been added in the vocabulary, make sure the associated word embeddings are fine-tuned or trained.\n"
     ]
    },
    {
     "name": "stdout",
     "output_type": "stream",
     "text": [
      "label: Summary: Gravitati\n",
      "Processing topic 2 / 4\n"
     ]
    },
    {
     "name": "stderr",
     "output_type": "stream",
     "text": [
      "Special tokens have been added in the vocabulary, make sure the associated word embeddings are fine-tuned or trained.\n"
     ]
    },
    {
     "name": "stdout",
     "output_type": "stream",
     "text": [
      "label: Summary: Gravitati\n",
      "Processing topic 3 / 4\n"
     ]
    },
    {
     "name": "stderr",
     "output_type": "stream",
     "text": [
      "Special tokens have been added in the vocabulary, make sure the associated word embeddings are fine-tuned or trained.\n"
     ]
    },
    {
     "name": "stdout",
     "output_type": "stream",
     "text": [
      "label: Review of gravitation\n",
      "CPU times: user 26 s, sys: 2.02 s, total: 28 s\n",
      "Wall time: 9.71 s\n"
     ]
    }
   ],
   "source": [
    "%%time\n",
    "\n",
    "\n",
    "df1 = predict_topic_labels(topics_gw_train, 1, 5)\n",
    "df2 = predict_topic_labels(topics_gw_train, 1, 5)"
   ]
  },
  {
   "cell_type": "code",
   "execution_count": 28,
   "id": "6c4517a6-1b17-4de6-bada-9704037d030b",
   "metadata": {},
   "outputs": [
    {
     "data": {
      "text/html": [
       "<div>\n",
       "<style scoped>\n",
       "    .dataframe tbody tr th:only-of-type {\n",
       "        vertical-align: middle;\n",
       "    }\n",
       "\n",
       "    .dataframe tbody tr th {\n",
       "        vertical-align: top;\n",
       "    }\n",
       "\n",
       "    .dataframe thead th {\n",
       "        text-align: right;\n",
       "    }\n",
       "</style>\n",
       "<table border=\"1\" class=\"dataframe\">\n",
       "  <thead>\n",
       "    <tr style=\"text-align: right;\">\n",
       "      <th></th>\n",
       "      <th>topic</th>\n",
       "      <th>label</th>\n",
       "    </tr>\n",
       "  </thead>\n",
       "  <tbody>\n",
       "    <tr>\n",
       "      <th>0</th>\n",
       "      <td>0</td>\n",
       "      <td>Detecting a stochastic gravitational wave from...</td>\n",
       "    </tr>\n",
       "    <tr>\n",
       "      <th>1</th>\n",
       "      <td>1</td>\n",
       "      <td>GW190425 Using Astrophysical Argument</td>\n",
       "    </tr>\n",
       "    <tr>\n",
       "      <th>2</th>\n",
       "      <td>2</td>\n",
       "      <td>X-ray model</td>\n",
       "    </tr>\n",
       "    <tr>\n",
       "      <th>3</th>\n",
       "      <td>3</td>\n",
       "      <td>Observation of polarized gravitational waves i...</td>\n",
       "    </tr>\n",
       "  </tbody>\n",
       "</table>\n",
       "</div>"
      ],
      "text/plain": [
       "   topic                                              label\n",
       "0      0  Detecting a stochastic gravitational wave from...\n",
       "1      1              GW190425 Using Astrophysical Argument\n",
       "2      2                                        X-ray model\n",
       "3      3  Observation of polarized gravitational waves i..."
      ]
     },
     "execution_count": 28,
     "metadata": {},
     "output_type": "execute_result"
    }
   ],
   "source": [
    "df1"
   ]
  },
  {
   "cell_type": "code",
   "execution_count": 29,
   "id": "cb46089f-f011-4e2c-b65d-7984203f9a0c",
   "metadata": {},
   "outputs": [
    {
     "data": {
      "text/html": [
       "<div>\n",
       "<style scoped>\n",
       "    .dataframe tbody tr th:only-of-type {\n",
       "        vertical-align: middle;\n",
       "    }\n",
       "\n",
       "    .dataframe tbody tr th {\n",
       "        vertical-align: top;\n",
       "    }\n",
       "\n",
       "    .dataframe thead th {\n",
       "        text-align: right;\n",
       "    }\n",
       "</style>\n",
       "<table border=\"1\" class=\"dataframe\">\n",
       "  <thead>\n",
       "    <tr style=\"text-align: right;\">\n",
       "      <th></th>\n",
       "      <th>topic</th>\n",
       "      <th>label</th>\n",
       "    </tr>\n",
       "  </thead>\n",
       "  <tbody>\n",
       "    <tr>\n",
       "      <th>0</th>\n",
       "      <td>0</td>\n",
       "      <td>Detecting Gravitational Waves from Binary Neut...</td>\n",
       "    </tr>\n",
       "    <tr>\n",
       "      <th>1</th>\n",
       "      <td>1</td>\n",
       "      <td>Observational</td>\n",
       "    </tr>\n",
       "    <tr>\n",
       "      <th>2</th>\n",
       "      <td>2</td>\n",
       "      <td>Gravitational Waves from a universe filled wit...</td>\n",
       "    </tr>\n",
       "    <tr>\n",
       "      <th>3</th>\n",
       "      <td>3</td>\n",
       "      <td>Quantity</td>\n",
       "    </tr>\n",
       "  </tbody>\n",
       "</table>\n",
       "</div>"
      ],
      "text/plain": [
       "   topic                                              label\n",
       "0      0  Detecting Gravitational Waves from Binary Neut...\n",
       "1      1                                      Observational\n",
       "2      2  Gravitational Waves from a universe filled wit...\n",
       "3      3                                           Quantity"
      ]
     },
     "execution_count": 29,
     "metadata": {},
     "output_type": "execute_result"
    }
   ],
   "source": [
    "df2"
   ]
  },
  {
   "cell_type": "code",
   "execution_count": 39,
   "id": "1a6068d7-f4da-4581-8586-a83e88db2ecb",
   "metadata": {},
   "outputs": [
    {
     "data": {
      "text/html": [
       "<div>\n",
       "<style scoped>\n",
       "    .dataframe tbody tr th:only-of-type {\n",
       "        vertical-align: middle;\n",
       "    }\n",
       "\n",
       "    .dataframe tbody tr th {\n",
       "        vertical-align: top;\n",
       "    }\n",
       "\n",
       "    .dataframe thead th {\n",
       "        text-align: right;\n",
       "    }\n",
       "</style>\n",
       "<table border=\"1\" class=\"dataframe\">\n",
       "  <thead>\n",
       "    <tr style=\"text-align: right;\">\n",
       "      <th></th>\n",
       "      <th>index</th>\n",
       "      <th>topic</th>\n",
       "      <th>label</th>\n",
       "    </tr>\n",
       "  </thead>\n",
       "  <tbody>\n",
       "    <tr>\n",
       "      <th>0</th>\n",
       "      <td>0</td>\n",
       "      <td>0</td>\n",
       "      <td>Detection</td>\n",
       "    </tr>\n",
       "    <tr>\n",
       "      <th>1</th>\n",
       "      <td>1</td>\n",
       "      <td>1</td>\n",
       "      <td>The Golden Era</td>\n",
       "    </tr>\n",
       "    <tr>\n",
       "      <th>2</th>\n",
       "      <td>2</td>\n",
       "      <td>2</td>\n",
       "      <td>Observational</td>\n",
       "    </tr>\n",
       "    <tr>\n",
       "      <th>3</th>\n",
       "      <td>3</td>\n",
       "      <td>3</td>\n",
       "      <td>Summary: Theory of</td>\n",
       "    </tr>\n",
       "    <tr>\n",
       "      <th>4</th>\n",
       "      <td>0</td>\n",
       "      <td>0</td>\n",
       "      <td>Search for gravitation</td>\n",
       "    </tr>\n",
       "    <tr>\n",
       "      <th>5</th>\n",
       "      <td>1</td>\n",
       "      <td>1</td>\n",
       "      <td>Summary: Gravitati</td>\n",
       "    </tr>\n",
       "    <tr>\n",
       "      <th>6</th>\n",
       "      <td>2</td>\n",
       "      <td>2</td>\n",
       "      <td>Summary: Gravitati</td>\n",
       "    </tr>\n",
       "    <tr>\n",
       "      <th>7</th>\n",
       "      <td>3</td>\n",
       "      <td>3</td>\n",
       "      <td>Review of gravitation</td>\n",
       "    </tr>\n",
       "  </tbody>\n",
       "</table>\n",
       "</div>"
      ],
      "text/plain": [
       "   index  topic                   label\n",
       "0      0      0               Detection\n",
       "1      1      1          The Golden Era\n",
       "2      2      2           Observational\n",
       "3      3      3      Summary: Theory of\n",
       "4      0      0  Search for gravitation\n",
       "5      1      1      Summary: Gravitati\n",
       "6      2      2      Summary: Gravitati\n",
       "7      3      3   Review of gravitation"
      ]
     },
     "execution_count": 39,
     "metadata": {},
     "output_type": "execute_result"
    }
   ],
   "source": [
    "pd.concat([df1, df2]).reset_index()"
   ]
  },
  {
   "cell_type": "code",
   "execution_count": null,
   "id": "676c5c14-a4e6-4af8-8ca9-44fca16ba60d",
   "metadata": {},
   "outputs": [],
   "source": []
  }
 ],
 "metadata": {
  "kernelspec": {
   "display_name": "Python 3 (ipykernel)",
   "language": "python",
   "name": "python3"
  },
  "language_info": {
   "codemirror_mode": {
    "name": "ipython",
    "version": 3
   },
   "file_extension": ".py",
   "mimetype": "text/x-python",
   "name": "python",
   "nbconvert_exporter": "python",
   "pygments_lexer": "ipython3",
   "version": "3.12.2"
  }
 },
 "nbformat": 4,
 "nbformat_minor": 5
}
