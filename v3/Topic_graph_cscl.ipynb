{
 "cells": [
  {
   "cell_type": "markdown",
   "id": "f21c37e5-acde-4fd7-b365-48816b683d46",
   "metadata": {},
   "source": [
    "# Topic network graph for Computation and Language\n",
    "1. Load the trained LDA model\n",
    "2. Load the tokenized test dataset\n",
    "4. Assign topics to all entries in the test dataset\n",
    "5. Save the assigned topics to a CSV file"
   ]
  },
  {
   "cell_type": "code",
   "execution_count": 7,
   "id": "208a69ea-9c48-4f36-bf6d-409bb255cee5",
   "metadata": {},
   "outputs": [],
   "source": [
    "import pandas as pd\n",
    "import pickle\n",
    "import os\n",
    "\n",
    "DATA_PATH = '../data'\n",
    "MODELS_PATH = '../models'"
   ]
  },
  {
   "cell_type": "markdown",
   "id": "4dc4516d-b025-4504-8316-1bf708f85a80",
   "metadata": {},
   "source": [
    "Load the trained LDA model"
   ]
  },
  {
   "cell_type": "code",
   "execution_count": 9,
   "id": "0c9ff609-c8ab-4410-91a2-0cb4cdf93291",
   "metadata": {},
   "outputs": [],
   "source": [
    "# Ensemble LDA computing & language model\n",
    "with open(os.path.join(MODELS_PATH, 'ensemble_cscl.pickle'), 'rb') as handle:\n",
    "    ensemble_cscl = pickle.load(handle)"
   ]
  },
  {
   "cell_type": "markdown",
   "id": "a51d3c07-64fe-44e2-a9b2-349332f76d44",
   "metadata": {},
   "source": [
    "Load the tokenized test dataset"
   ]
  },
  {
   "cell_type": "code",
   "execution_count": 31,
   "id": "2fb2aa65-2926-4ded-ab22-4b093b1f42e9",
   "metadata": {},
   "outputs": [],
   "source": [
    "# load test dataset metadata\n",
    "cscl_test_df = pd.read_csv(os.path.join(DATA_PATH, 'cscl_test.csv.zip'), index_col=0)\n",
    "\n",
    "# load tokenized test dataset\n",
    "with open(os.path.join(DATA_PATH, 'corpus_test_cscl.pickle'), 'rb') as handle:\n",
    "    corpus_test_cscl = pickle.load(handle)\n"
   ]
  },
  {
   "cell_type": "markdown",
   "id": "82154162-ab1f-4997-a4e4-6f4079777a8d",
   "metadata": {},
   "source": [
    "## Assign topics to the data\n",
    "\n",
    "Aggregate topic information in a dataframe"
   ]
  },
  {
   "cell_type": "code",
   "execution_count": 18,
   "id": "804ff61c-0fba-440d-aac3-f89b13c6420b",
   "metadata": {},
   "outputs": [],
   "source": [
    "def get_topic_details(ldamodel, corpus):\n",
    "    topic_details_list = []\n",
    "    for i, row in enumerate(ldamodel[corpus]):\n",
    "        row = sorted(row, key=lambda x: (x[1]), reverse=True)\n",
    "        for j, (topic_num, prop_topic) in enumerate(row):\n",
    "            if j == 0:  # dominant topic\n",
    "                wp = ldamodel.show_topic(topic_num)\n",
    "                topic_details_list.append([topic_num, prop_topic, row])\n",
    "    topic_details_df = pd.DataFrame(topic_details_list)\n",
    "    topic_details_df.columns = ['Dominant_Topic', '% Score', 'Topics']\n",
    "    return topic_details_df"
   ]
  },
  {
   "cell_type": "code",
   "execution_count": 80,
   "id": "8de1e1c4-a644-4826-b558-95a2651b835d",
   "metadata": {},
   "outputs": [],
   "source": [
    "def assign_topics(ldamodel, corpus, df):\n",
    "    # Assign topics toeach document\n",
    "    topics_df = pd.DataFrame()\n",
    "    topics_df['id'] = list(df['id'])\n",
    "    topic_details = get_topic_details(ldamodel, corpus)\n",
    "    topics_df['Topics'] = topic_details['Topics']\n",
    "\n",
    "    # loop through topics in the model\n",
    "    topic_ids = [topic[0] for topic in ensemble_cscl.generate_gensim_representation().show_topics(num_topics=-1, formatted=False)]\n",
    "    for topic_id in topic_ids:\n",
    "        topic_probs = []\n",
    "        # for each document, list the probability for each topic (a tuple <topic_id, topic_prob>)\n",
    "        for probs in topics_df['Topics']:\n",
    "#            print(probs)\n",
    "            for prob in probs:\n",
    "                found = False\n",
    "                if prob[0] == topic_id:\n",
    "                    topic_probs.append(prob[1])\n",
    "                    found = True\n",
    "                    break\n",
    "            if not found:\n",
    "                topic_probs.append(0)\n",
    "        topics_df[topic_id] = topic_probs\n",
    "    return topics_df"
   ]
  },
  {
   "cell_type": "code",
   "execution_count": 81,
   "id": "6ca7ae88-8c58-4790-a5e5-a2b43897af39",
   "metadata": {},
   "outputs": [],
   "source": [
    "topics_cscl = assign_topics(ensemble_cscl.generate_gensim_representation(), corpus_test_cscl, cscl_test_df)"
   ]
  },
  {
   "cell_type": "code",
   "execution_count": 82,
   "id": "dc0dfbf2-d545-41f1-b99d-494cc5fbbf61",
   "metadata": {},
   "outputs": [
    {
     "data": {
      "text/html": [
       "<div>\n",
       "<style scoped>\n",
       "    .dataframe tbody tr th:only-of-type {\n",
       "        vertical-align: middle;\n",
       "    }\n",
       "\n",
       "    .dataframe tbody tr th {\n",
       "        vertical-align: top;\n",
       "    }\n",
       "\n",
       "    .dataframe thead th {\n",
       "        text-align: right;\n",
       "    }\n",
       "</style>\n",
       "<table border=\"1\" class=\"dataframe\">\n",
       "  <thead>\n",
       "    <tr style=\"text-align: right;\">\n",
       "      <th></th>\n",
       "      <th>id</th>\n",
       "      <th>Topics</th>\n",
       "      <th>0</th>\n",
       "      <th>1</th>\n",
       "      <th>2</th>\n",
       "      <th>3</th>\n",
       "      <th>4</th>\n",
       "      <th>5</th>\n",
       "      <th>6</th>\n",
       "      <th>7</th>\n",
       "      <th>8</th>\n",
       "      <th>9</th>\n",
       "      <th>10</th>\n",
       "      <th>11</th>\n",
       "      <th>12</th>\n",
       "      <th>13</th>\n",
       "      <th>14</th>\n",
       "    </tr>\n",
       "  </thead>\n",
       "  <tbody>\n",
       "    <tr>\n",
       "      <th>0</th>\n",
       "      <td>2005.11458</td>\n",
       "      <td>[(8, 0.53143597), (13, 0.38946804), (9, 0.0715...</td>\n",
       "      <td>0.000000</td>\n",
       "      <td>0.000000</td>\n",
       "      <td>0.000000</td>\n",
       "      <td>0.000000</td>\n",
       "      <td>0.000000</td>\n",
       "      <td>0.000000</td>\n",
       "      <td>0.000000</td>\n",
       "      <td>0.000000</td>\n",
       "      <td>0.531436</td>\n",
       "      <td>0.071540</td>\n",
       "      <td>0.000000</td>\n",
       "      <td>0.000000</td>\n",
       "      <td>0.000000</td>\n",
       "      <td>0.389468</td>\n",
       "      <td>0</td>\n",
       "    </tr>\n",
       "    <tr>\n",
       "      <th>1</th>\n",
       "      <td>1601.03348</td>\n",
       "      <td>[(2, 0.36424133), (13, 0.31752044), (10, 0.233...</td>\n",
       "      <td>0.000000</td>\n",
       "      <td>0.080181</td>\n",
       "      <td>0.364241</td>\n",
       "      <td>0.000000</td>\n",
       "      <td>0.000000</td>\n",
       "      <td>0.000000</td>\n",
       "      <td>0.000000</td>\n",
       "      <td>0.000000</td>\n",
       "      <td>0.000000</td>\n",
       "      <td>0.000000</td>\n",
       "      <td>0.233084</td>\n",
       "      <td>0.000000</td>\n",
       "      <td>0.000000</td>\n",
       "      <td>0.317520</td>\n",
       "      <td>0</td>\n",
       "    </tr>\n",
       "    <tr>\n",
       "      <th>2</th>\n",
       "      <td>2310.02071</td>\n",
       "      <td>[(2, 0.7228803), (10, 0.27109733)]</td>\n",
       "      <td>0.000000</td>\n",
       "      <td>0.000000</td>\n",
       "      <td>0.722880</td>\n",
       "      <td>0.000000</td>\n",
       "      <td>0.000000</td>\n",
       "      <td>0.000000</td>\n",
       "      <td>0.000000</td>\n",
       "      <td>0.000000</td>\n",
       "      <td>0.000000</td>\n",
       "      <td>0.000000</td>\n",
       "      <td>0.271097</td>\n",
       "      <td>0.000000</td>\n",
       "      <td>0.000000</td>\n",
       "      <td>0.000000</td>\n",
       "      <td>0</td>\n",
       "    </tr>\n",
       "    <tr>\n",
       "      <th>3</th>\n",
       "      <td>2306.0213</td>\n",
       "      <td>[(4, 0.4293362), (9, 0.24680696), (7, 0.218965...</td>\n",
       "      <td>0.000000</td>\n",
       "      <td>0.000000</td>\n",
       "      <td>0.000000</td>\n",
       "      <td>0.000000</td>\n",
       "      <td>0.429336</td>\n",
       "      <td>0.000000</td>\n",
       "      <td>0.000000</td>\n",
       "      <td>0.218966</td>\n",
       "      <td>0.000000</td>\n",
       "      <td>0.246807</td>\n",
       "      <td>0.000000</td>\n",
       "      <td>0.096150</td>\n",
       "      <td>0.000000</td>\n",
       "      <td>0.000000</td>\n",
       "      <td>0</td>\n",
       "    </tr>\n",
       "    <tr>\n",
       "      <th>4</th>\n",
       "      <td>1808.06738</td>\n",
       "      <td>[(12, 0.52148545), (3, 0.21140073), (11, 0.110...</td>\n",
       "      <td>0.000000</td>\n",
       "      <td>0.000000</td>\n",
       "      <td>0.000000</td>\n",
       "      <td>0.211401</td>\n",
       "      <td>0.102818</td>\n",
       "      <td>0.000000</td>\n",
       "      <td>0.000000</td>\n",
       "      <td>0.000000</td>\n",
       "      <td>0.000000</td>\n",
       "      <td>0.047569</td>\n",
       "      <td>0.000000</td>\n",
       "      <td>0.110543</td>\n",
       "      <td>0.521485</td>\n",
       "      <td>0.000000</td>\n",
       "      <td>0</td>\n",
       "    </tr>\n",
       "    <tr>\n",
       "      <th>5</th>\n",
       "      <td>2104.0861</td>\n",
       "      <td>[(5, 0.44130826), (1, 0.3848251), (6, 0.137723...</td>\n",
       "      <td>0.000000</td>\n",
       "      <td>0.384825</td>\n",
       "      <td>0.000000</td>\n",
       "      <td>0.000000</td>\n",
       "      <td>0.000000</td>\n",
       "      <td>0.441308</td>\n",
       "      <td>0.137724</td>\n",
       "      <td>0.000000</td>\n",
       "      <td>0.000000</td>\n",
       "      <td>0.000000</td>\n",
       "      <td>0.000000</td>\n",
       "      <td>0.000000</td>\n",
       "      <td>0.030364</td>\n",
       "      <td>0.000000</td>\n",
       "      <td>0</td>\n",
       "    </tr>\n",
       "    <tr>\n",
       "      <th>6</th>\n",
       "      <td>1504.07071</td>\n",
       "      <td>[(12, 0.3405917), (13, 0.30935565), (8, 0.2301...</td>\n",
       "      <td>0.000000</td>\n",
       "      <td>0.067504</td>\n",
       "      <td>0.000000</td>\n",
       "      <td>0.000000</td>\n",
       "      <td>0.000000</td>\n",
       "      <td>0.000000</td>\n",
       "      <td>0.000000</td>\n",
       "      <td>0.000000</td>\n",
       "      <td>0.230109</td>\n",
       "      <td>0.000000</td>\n",
       "      <td>0.000000</td>\n",
       "      <td>0.042608</td>\n",
       "      <td>0.340592</td>\n",
       "      <td>0.309356</td>\n",
       "      <td>0</td>\n",
       "    </tr>\n",
       "    <tr>\n",
       "      <th>7</th>\n",
       "      <td>2106.13858</td>\n",
       "      <td>[(11, 0.8891568), (0, 0.099277906)]</td>\n",
       "      <td>0.099278</td>\n",
       "      <td>0.000000</td>\n",
       "      <td>0.000000</td>\n",
       "      <td>0.000000</td>\n",
       "      <td>0.000000</td>\n",
       "      <td>0.000000</td>\n",
       "      <td>0.000000</td>\n",
       "      <td>0.000000</td>\n",
       "      <td>0.000000</td>\n",
       "      <td>0.000000</td>\n",
       "      <td>0.000000</td>\n",
       "      <td>0.889157</td>\n",
       "      <td>0.000000</td>\n",
       "      <td>0.000000</td>\n",
       "      <td>0</td>\n",
       "    </tr>\n",
       "    <tr>\n",
       "      <th>8</th>\n",
       "      <td>2210.0999</td>\n",
       "      <td>[(3, 0.50689435), (4, 0.40156892), (11, 0.0823...</td>\n",
       "      <td>0.000000</td>\n",
       "      <td>0.000000</td>\n",
       "      <td>0.000000</td>\n",
       "      <td>0.506894</td>\n",
       "      <td>0.401569</td>\n",
       "      <td>0.000000</td>\n",
       "      <td>0.000000</td>\n",
       "      <td>0.000000</td>\n",
       "      <td>0.000000</td>\n",
       "      <td>0.000000</td>\n",
       "      <td>0.000000</td>\n",
       "      <td>0.082323</td>\n",
       "      <td>0.000000</td>\n",
       "      <td>0.000000</td>\n",
       "      <td>0</td>\n",
       "    </tr>\n",
       "    <tr>\n",
       "      <th>9</th>\n",
       "      <td>2303.17006</td>\n",
       "      <td>[(7, 0.8611985), (5, 0.13069755)]</td>\n",
       "      <td>0.000000</td>\n",
       "      <td>0.000000</td>\n",
       "      <td>0.000000</td>\n",
       "      <td>0.000000</td>\n",
       "      <td>0.000000</td>\n",
       "      <td>0.130698</td>\n",
       "      <td>0.000000</td>\n",
       "      <td>0.861198</td>\n",
       "      <td>0.000000</td>\n",
       "      <td>0.000000</td>\n",
       "      <td>0.000000</td>\n",
       "      <td>0.000000</td>\n",
       "      <td>0.000000</td>\n",
       "      <td>0.000000</td>\n",
       "      <td>0</td>\n",
       "    </tr>\n",
       "  </tbody>\n",
       "</table>\n",
       "</div>"
      ],
      "text/plain": [
       "           id                                             Topics         0  \\\n",
       "0  2005.11458  [(8, 0.53143597), (13, 0.38946804), (9, 0.0715...  0.000000   \n",
       "1  1601.03348  [(2, 0.36424133), (13, 0.31752044), (10, 0.233...  0.000000   \n",
       "2  2310.02071                 [(2, 0.7228803), (10, 0.27109733)]  0.000000   \n",
       "3   2306.0213  [(4, 0.4293362), (9, 0.24680696), (7, 0.218965...  0.000000   \n",
       "4  1808.06738  [(12, 0.52148545), (3, 0.21140073), (11, 0.110...  0.000000   \n",
       "5   2104.0861  [(5, 0.44130826), (1, 0.3848251), (6, 0.137723...  0.000000   \n",
       "6  1504.07071  [(12, 0.3405917), (13, 0.30935565), (8, 0.2301...  0.000000   \n",
       "7  2106.13858                [(11, 0.8891568), (0, 0.099277906)]  0.099278   \n",
       "8   2210.0999  [(3, 0.50689435), (4, 0.40156892), (11, 0.0823...  0.000000   \n",
       "9  2303.17006                  [(7, 0.8611985), (5, 0.13069755)]  0.000000   \n",
       "\n",
       "          1         2         3         4         5         6         7  \\\n",
       "0  0.000000  0.000000  0.000000  0.000000  0.000000  0.000000  0.000000   \n",
       "1  0.080181  0.364241  0.000000  0.000000  0.000000  0.000000  0.000000   \n",
       "2  0.000000  0.722880  0.000000  0.000000  0.000000  0.000000  0.000000   \n",
       "3  0.000000  0.000000  0.000000  0.429336  0.000000  0.000000  0.218966   \n",
       "4  0.000000  0.000000  0.211401  0.102818  0.000000  0.000000  0.000000   \n",
       "5  0.384825  0.000000  0.000000  0.000000  0.441308  0.137724  0.000000   \n",
       "6  0.067504  0.000000  0.000000  0.000000  0.000000  0.000000  0.000000   \n",
       "7  0.000000  0.000000  0.000000  0.000000  0.000000  0.000000  0.000000   \n",
       "8  0.000000  0.000000  0.506894  0.401569  0.000000  0.000000  0.000000   \n",
       "9  0.000000  0.000000  0.000000  0.000000  0.130698  0.000000  0.861198   \n",
       "\n",
       "          8         9        10        11        12        13  14  \n",
       "0  0.531436  0.071540  0.000000  0.000000  0.000000  0.389468   0  \n",
       "1  0.000000  0.000000  0.233084  0.000000  0.000000  0.317520   0  \n",
       "2  0.000000  0.000000  0.271097  0.000000  0.000000  0.000000   0  \n",
       "3  0.000000  0.246807  0.000000  0.096150  0.000000  0.000000   0  \n",
       "4  0.000000  0.047569  0.000000  0.110543  0.521485  0.000000   0  \n",
       "5  0.000000  0.000000  0.000000  0.000000  0.030364  0.000000   0  \n",
       "6  0.230109  0.000000  0.000000  0.042608  0.340592  0.309356   0  \n",
       "7  0.000000  0.000000  0.000000  0.889157  0.000000  0.000000   0  \n",
       "8  0.000000  0.000000  0.000000  0.082323  0.000000  0.000000   0  \n",
       "9  0.000000  0.000000  0.000000  0.000000  0.000000  0.000000   0  "
      ]
     },
     "execution_count": 82,
     "metadata": {},
     "output_type": "execute_result"
    }
   ],
   "source": [
    "topics_cscl"
   ]
  },
  {
   "cell_type": "code",
   "execution_count": 41,
   "id": "e5f6b25a-4869-49b8-89c0-d15d30a30b97",
   "metadata": {},
   "outputs": [
    {
     "data": {
      "text/plain": [
       "[(4, 0.4191592), (11, 0.3041339), (12, 0.13958803), (7, 0.12770718)]"
      ]
     },
     "execution_count": 41,
     "metadata": {},
     "output_type": "execute_result"
    }
   ],
   "source": [
    "topics_cscl.Topics[10]"
   ]
  },
  {
   "cell_type": "code",
   "execution_count": 46,
   "id": "60b7c5be-a98a-445f-87da-91384a0ee09c",
   "metadata": {},
   "outputs": [],
   "source": [
    "topic_ids = [topic[0] for topic in ensemble_cscl.generate_gensim_representation().show_topics(num_topics=-1, formatted=False)]"
   ]
  },
  {
   "cell_type": "code",
   "execution_count": 47,
   "id": "d5995286-8ad0-453e-83a7-fd5c2acedc42",
   "metadata": {},
   "outputs": [
    {
     "data": {
      "text/plain": [
       "[0, 1, 2, 3, 4, 5, 6, 7, 8, 9, 10, 11, 12, 13, 14]"
      ]
     },
     "execution_count": 47,
     "metadata": {},
     "output_type": "execute_result"
    }
   ],
   "source": [
    "topic_ids"
   ]
  },
  {
   "cell_type": "code",
   "execution_count": 55,
   "id": "b1065074-119f-48f7-a436-612f8105d442",
   "metadata": {},
   "outputs": [
    {
     "data": {
      "text/plain": [
       "[(8, 0.53140974), (13, 0.38948494), (9, 0.071549125)]"
      ]
     },
     "execution_count": 55,
     "metadata": {},
     "output_type": "execute_result"
    }
   ],
   "source": [
    "[prob_tuple for prob_tuple in topics_cscl['Topics'][0]]"
   ]
  },
  {
   "cell_type": "code",
   "execution_count": null,
   "id": "6a7e2c6b-3fab-4bc4-b4db-54547b20410d",
   "metadata": {},
   "outputs": [],
   "source": []
  }
 ],
 "metadata": {
  "kernelspec": {
   "display_name": "Python 3 (ipykernel)",
   "language": "python",
   "name": "python3"
  },
  "language_info": {
   "codemirror_mode": {
    "name": "ipython",
    "version": 3
   },
   "file_extension": ".py",
   "mimetype": "text/x-python",
   "name": "python",
   "nbconvert_exporter": "python",
   "pygments_lexer": "ipython3",
   "version": "3.11.2"
  }
 },
 "nbformat": 4,
 "nbformat_minor": 5
}
