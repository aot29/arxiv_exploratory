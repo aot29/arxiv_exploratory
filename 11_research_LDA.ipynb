{
 "cells": [
  {
   "cell_type": "markdown",
   "id": "1b6a1178-62cb-40fc-bbec-3c48a7a3b569",
   "metadata": {},
   "source": [
    "# Abstracts LDA\n",
    "\n",
    "* Load the abstracts from the research articles identified in 10_research_papers notebook.\n",
    "* Create a corpus with the abstracts\n",
    "* Tokenize\n",
    "* Apply single LDA\n",
    "* Apply ensemble LDA"
   ]
  },
  {
   "cell_type": "code",
   "execution_count": 1,
   "id": "1d545df8-a8f5-4f6f-9fbd-50f943cacb3f",
   "metadata": {},
   "outputs": [],
   "source": [
    "import pandas as pd\n",
    "import os\n",
    "import PyPDF2\n",
    "from collections import defaultdict\n",
    "from gensim import corpora\n",
    "from gensim.models import LdaModel\n",
    "from gensim.models import EnsembleLda\n",
    "from gensim.parsing.preprocessing import preprocess_string\n",
    "\n",
    "import numpy as np\n",
    "from random import sample "
   ]
  },
  {
   "cell_type": "code",
   "execution_count": 2,
   "id": "5e9223e3-3002-4d19-9eb9-89850f76ec52",
   "metadata": {},
   "outputs": [],
   "source": [
    "from matplotlib import pyplot as plt \n",
    "\n",
    "%matplotlib inline"
   ]
  },
  {
   "cell_type": "code",
   "execution_count": null,
   "id": "c5296a30-fb99-4526-8014-4d157ba4f1c4",
   "metadata": {},
   "outputs": [],
   "source": []
  },
  {
   "cell_type": "markdown",
   "id": "53db0260-2d1e-4021-ae37-7e53b717c433",
   "metadata": {},
   "source": [
    "## Load the abstracts \n",
    "* From the research articles on machine learning identified in 10_research_papers  notebook. Keep only the abstracts.\n",
    "* Random sample 1000 papers"
   ]
  },
  {
   "cell_type": "code",
   "execution_count": 3,
   "id": "1d2f5397-5c2c-4ba2-ab3d-70f22ec29111",
   "metadata": {},
   "outputs": [
    {
     "name": "stdout",
     "output_type": "stream",
     "text": [
      "CPU times: user 1.91 s, sys: 238 ms, total: 2.15 s\n",
      "Wall time: 2.15 s\n"
     ]
    },
    {
     "name": "stderr",
     "output_type": "stream",
     "text": [
      "<timed exec>:1: DtypeWarning: Columns (1) have mixed types. Specify dtype option on import or set low_memory=False.\n"
     ]
    }
   ],
   "source": [
    "%%time\n",
    "\n",
    "arxiv_ml_research = pd.read_csv('data/arxiv_ml_research.csv.zip')"
   ]
  },
  {
   "cell_type": "code",
   "execution_count": 4,
   "id": "8d1f1e15-d349-4001-a1f1-fc70d39f8e7a",
   "metadata": {},
   "outputs": [
    {
     "name": "stdout",
     "output_type": "stream",
     "text": [
      "There are 207226 research articles on machine learning in the dataset\n"
     ]
    }
   ],
   "source": [
    "print(f\"There are {arxiv_ml_research.shape[0]} research articles on machine learning in the dataset\")"
   ]
  },
  {
   "cell_type": "markdown",
   "id": "a75b10a7-a570-4196-9dcc-74cfe605211c",
   "metadata": {},
   "source": [
    "## Create a corpus with the abstracts"
   ]
  },
  {
   "cell_type": "code",
   "execution_count": 5,
   "id": "eb0c6207-23c1-4404-a7e9-f1cf47b1bd51",
   "metadata": {},
   "outputs": [],
   "source": [
    "documents = arxiv_ml_research['abstract']"
   ]
  },
  {
   "cell_type": "code",
   "execution_count": 6,
   "id": "7b7fe252-73cb-4c81-b8bf-2016badf46fd",
   "metadata": {},
   "outputs": [
    {
     "data": {
      "text/plain": [
       "207226"
      ]
     },
     "execution_count": 6,
     "metadata": {},
     "output_type": "execute_result"
    }
   ],
   "source": [
    "len(documents)"
   ]
  },
  {
   "cell_type": "markdown",
   "id": "77a9a093-c447-44bd-9790-ee0745aa79fa",
   "metadata": {},
   "source": [
    "### Random sample papers"
   ]
  },
  {
   "cell_type": "code",
   "execution_count": 7,
   "id": "00d9d221-bc85-4dde-8674-d959b5411683",
   "metadata": {},
   "outputs": [],
   "source": [
    "sample_size = 50000\n",
    "documents = sample(list(documents), sample_size)"
   ]
  },
  {
   "cell_type": "markdown",
   "id": "fb176a8e-b47c-4be5-9813-8cfcc4e6e924",
   "metadata": {},
   "source": [
    "### Tokenize"
   ]
  },
  {
   "cell_type": "code",
   "execution_count": 8,
   "id": "6720ed92-76c5-4cb5-be5d-63834eabc623",
   "metadata": {
    "scrolled": true
   },
   "outputs": [],
   "source": [
    "# remove common words and tokenize\n",
    "texts = [\n",
    "    preprocess_string(document)\n",
    "    for document in documents\n",
    "]"
   ]
  },
  {
   "cell_type": "code",
   "execution_count": null,
   "id": "f12513cc-165f-4ab9-bb52-865329831218",
   "metadata": {},
   "outputs": [],
   "source": []
  },
  {
   "cell_type": "code",
   "execution_count": 9,
   "id": "d759e8f8-08e3-41f1-b7f9-152df5e392d6",
   "metadata": {},
   "outputs": [],
   "source": [
    "# remove words that appear only once\n",
    "frequency = defaultdict(int)\n",
    "for text in texts:\n",
    "    for token in text:\n",
    "        frequency[token] += 1\n",
    "\n",
    "texts = [\n",
    "    [token for token in text if frequency[token] > 1]\n",
    "    for text in texts\n",
    "]"
   ]
  },
  {
   "cell_type": "code",
   "execution_count": null,
   "id": "5c81f109-4529-405f-aa2d-8306bd24dfd2",
   "metadata": {},
   "outputs": [],
   "source": []
  },
  {
   "cell_type": "code",
   "execution_count": 10,
   "id": "af31cf4a-c4b9-4a9a-9852-ae6fbf213dba",
   "metadata": {},
   "outputs": [],
   "source": [
    "dictionary = corpora.Dictionary(texts)\n",
    "dictionary.filter_extremes(no_below=5, no_above=0.5)\n",
    "corpus = [dictionary.doc2bow(text) for text in texts]"
   ]
  },
  {
   "cell_type": "code",
   "execution_count": 11,
   "id": "92a9e846-dc6f-42f6-ac53-4dc2013ba43a",
   "metadata": {},
   "outputs": [
    {
     "data": {
      "text/plain": [
       "10986"
      ]
     },
     "execution_count": 11,
     "metadata": {},
     "output_type": "execute_result"
    }
   ],
   "source": [
    "len(dictionary)"
   ]
  },
  {
   "cell_type": "markdown",
   "id": "0a574936-27d0-4d38-bcb3-c176437d0831",
   "metadata": {},
   "source": [
    "## Apply single LDA\n",
    "Simple 1-topic LDA"
   ]
  },
  {
   "cell_type": "code",
   "execution_count": 12,
   "id": "94ce6658-98fa-4fba-9a6b-d80332aa4847",
   "metadata": {},
   "outputs": [],
   "source": [
    "lda_model = LdaModel(corpus, id2word=dictionary, num_topics=1)\n",
    "corpus_lda = lda_model[corpus]"
   ]
  },
  {
   "cell_type": "code",
   "execution_count": 13,
   "id": "cd0c71c7-0c8e-4723-b76f-d91c1ac45c6a",
   "metadata": {},
   "outputs": [
    {
     "data": {
      "text/plain": [
       "[(0,\n",
       "  '0.011*\"data\" + 0.010*\"method\" + 0.008*\"network\" + 0.008*\"base\" + 0.008*\"train\" + 0.008*\"gener\" + 0.007*\"perform\" + 0.007*\"algorithm\" + 0.006*\"task\" + 0.006*\"approach\"')]"
      ]
     },
     "execution_count": 13,
     "metadata": {},
     "output_type": "execute_result"
    }
   ],
   "source": [
    "lda_model.print_topics()"
   ]
  },
  {
   "cell_type": "markdown",
   "id": "b1de6a3a-027a-4942-9317-28843029b195",
   "metadata": {},
   "source": [
    "## Apply ensemble LDA"
   ]
  },
  {
   "cell_type": "code",
   "execution_count": 14,
   "id": "90f8c390-8c17-4077-8596-5aa82daf1622",
   "metadata": {},
   "outputs": [],
   "source": [
    "topic_model_class = LdaModel\n",
    "ensemble_workers = 12\n",
    "num_models = ensemble_workers * 2\n",
    "distance_workers = 12\n",
    "num_topics = 100\n",
    "passes = 2"
   ]
  },
  {
   "cell_type": "code",
   "execution_count": 15,
   "id": "75c2929d-c52a-4f5f-9b61-45509a1bec01",
   "metadata": {},
   "outputs": [],
   "source": [
    "ensemble = EnsembleLda(\n",
    "    corpus=corpus,\n",
    "    id2word=dictionary,\n",
    "    num_topics=num_topics,\n",
    "    passes=passes,\n",
    "    num_models=num_models,\n",
    "    topic_model_class=topic_model_class,\n",
    "    ensemble_workers=ensemble_workers,\n",
    "    distance_workers=distance_workers\n",
    ")"
   ]
  },
  {
   "cell_type": "markdown",
   "id": "100b345a-b85e-4e17-a908-4442cfa3c6b4",
   "metadata": {},
   "source": [
    "* Compute all the topics. In this setup: num_topics * num_workers\n",
    "* Compute the stable topics"
   ]
  },
  {
   "cell_type": "code",
   "execution_count": 16,
   "id": "e17e2407-5885-4e1b-8b5c-ccf10ef5bcca",
   "metadata": {},
   "outputs": [
    {
     "name": "stdout",
     "output_type": "stream",
     "text": [
      "2400\n",
      "20\n"
     ]
    }
   ],
   "source": [
    "print(len(ensemble.ttda))\n",
    "print(len(ensemble.get_topics()))"
   ]
  },
  {
   "cell_type": "code",
   "execution_count": 17,
   "id": "c53bee84-e9ce-4db0-86f1-1d7a253ffb23",
   "metadata": {},
   "outputs": [
    {
     "data": {
      "text/plain": [
       "[(0,\n",
       "  '0.318*\"predict\" + 0.017*\"accur\" + 0.013*\"accuraci\" + 0.011*\"perform\" + 0.011*\"futur\" + 0.011*\"base\" + 0.010*\"data\" + 0.009*\"method\" + 0.008*\"approach\" + 0.008*\"result\"'),\n",
       " (1,\n",
       "  '0.205*\"graph\" + 0.049*\"node\" + 0.033*\"network\" + 0.030*\"structur\" + 0.026*\"gnn\" + 0.016*\"edg\" + 0.012*\"topolog\" + 0.012*\"represent\" + 0.012*\"base\" + 0.012*\"method\"'),\n",
       " (2,\n",
       "  '0.208*\"network\" + 0.126*\"neural\" + 0.055*\"deep\" + 0.030*\"train\" + 0.022*\"architectur\" + 0.021*\"layer\" + 0.011*\"convolut\" + 0.010*\"perform\" + 0.009*\"input\" + 0.007*\"result\"'),\n",
       " (3,\n",
       "  '0.110*\"attack\" + 0.109*\"adversari\" + 0.066*\"robust\" + 0.032*\"perturb\" + 0.022*\"exampl\" + 0.021*\"vulner\" + 0.020*\"defens\" + 0.019*\"train\" + 0.013*\"input\" + 0.012*\"secur\"'),\n",
       " (4,\n",
       "  '0.267*\"featur\" + 0.040*\"extract\" + 0.037*\"select\" + 0.037*\"method\" + 0.018*\"base\" + 0.013*\"differ\" + 0.012*\"perform\" + 0.012*\"dataset\" + 0.010*\"classif\" + 0.010*\"import\"'),\n",
       " (5,\n",
       "  '0.270*\"gener\" + 0.033*\"train\" + 0.031*\"gan\" + 0.019*\"condit\" + 0.018*\"discrimin\" + 0.016*\"adversari\" + 0.014*\"qualiti\" + 0.013*\"sampl\" + 0.012*\"network\" + 0.010*\"data\"'),\n",
       " (6,\n",
       "  '0.259*\"imag\" + 0.021*\"method\" + 0.015*\"visual\" + 0.013*\"segment\" + 0.012*\"deep\" + 0.012*\"gener\" + 0.011*\"high\" + 0.011*\"base\" + 0.011*\"pixel\" + 0.011*\"dataset\"'),\n",
       " (7,\n",
       "  '0.346*\"knowledg\" + 0.028*\"student\" + 0.024*\"distil\" + 0.019*\"prior\" + 0.018*\"teacher\" + 0.015*\"base\" + 0.008*\"heterogen\" + 0.008*\"construct\" + 0.007*\"extern\" + 0.007*\"framework\"'),\n",
       " (8,\n",
       "  '0.202*\"domain\" + 0.076*\"target\" + 0.063*\"adapt\" + 0.048*\"sourc\" + 0.033*\"transfer\" + 0.021*\"shift\" + 0.018*\"data\" + 0.014*\"method\" + 0.013*\"differ\" + 0.012*\"specif\"'),\n",
       " (9,\n",
       "  '0.179*\"user\" + 0.074*\"recommend\" + 0.035*\"item\" + 0.022*\"system\" + 0.021*\"prefer\" + 0.021*\"interact\" + 0.019*\"base\" + 0.013*\"person\" + 0.012*\"experi\" + 0.011*\"feedback\"'),\n",
       " (10,\n",
       "  '0.310*\"detect\" + 0.043*\"anomali\" + 0.020*\"method\" + 0.018*\"base\" + 0.018*\"detector\" + 0.012*\"normal\" + 0.012*\"dataset\" + 0.012*\"approach\" + 0.010*\"fals\" + 0.008*\"identifi\"'),\n",
       " (11,\n",
       "  '0.339*\"object\" + 0.028*\"scene\" + 0.014*\"visual\" + 0.012*\"shape\" + 0.010*\"track\" + 0.009*\"multi\" + 0.009*\"method\" + 0.008*\"video\" + 0.008*\"singl\" + 0.008*\"novel\"'),\n",
       " (12,\n",
       "  '0.236*\"data\" + 0.018*\"real\" + 0.015*\"machin\" + 0.014*\"method\" + 0.013*\"set\" + 0.012*\"approach\" + 0.012*\"synthet\" + 0.011*\"process\" + 0.011*\"dataset\" + 0.011*\"collect\"'),\n",
       " (13,\n",
       "  '0.260*\"time\" + 0.101*\"seri\" + 0.024*\"forecast\" + 0.021*\"real\" + 0.013*\"multivari\" + 0.013*\"method\" + 0.012*\"data\" + 0.010*\"event\" + 0.007*\"path\" + 0.007*\"diffus\"'),\n",
       " (14,\n",
       "  '0.190*\"cluster\" + 0.038*\"algorithm\" + 0.033*\"data\" + 0.031*\"method\" + 0.030*\"mean\" + 0.020*\"similar\" + 0.020*\"base\" + 0.018*\"partit\" + 0.014*\"dataset\" + 0.013*\"spectral\"'),\n",
       " (15,\n",
       "  '0.124*\"code\" + 0.071*\"avail\" + 0.070*\"http\" + 0.065*\"github\" + 0.060*\"com\" + 0.029*\"sourc\" + 0.022*\"dataset\" + 0.017*\"publicli\" + 0.014*\"benchmark\" + 0.013*\"open\"'),\n",
       " (16,\n",
       "  '0.230*\"human\" + 0.036*\"cognit\" + 0.021*\"respons\" + 0.021*\"team\" + 0.014*\"interact\" + 0.012*\"particip\" + 0.010*\"studi\" + 0.010*\"behavior\" + 0.009*\"percept\" + 0.009*\"intellig\"'),\n",
       " (17,\n",
       "  '0.256*\"task\" + 0.019*\"perform\" + 0.015*\"new\" + 0.014*\"multi\" + 0.013*\"specif\" + 0.011*\"share\" + 0.011*\"expert\" + 0.011*\"multipl\" + 0.010*\"demonstr\" + 0.010*\"gener\"'),\n",
       " (18,\n",
       "  '0.268*\"local\" + 0.140*\"global\" + 0.037*\"heterogen\" + 0.032*\"aggreg\" + 0.019*\"sub\" + 0.014*\"feder\" + 0.014*\"client\" + 0.010*\"auxiliari\" + 0.010*\"tabl\" + 0.009*\"distribut\"'),\n",
       " (19,\n",
       "  '0.049*\"research\" + 0.021*\"machin\" + 0.019*\"field\" + 0.018*\"applic\" + 0.017*\"provid\" + 0.017*\"paper\" + 0.017*\"discuss\" + 0.015*\"recent\" + 0.015*\"develop\" + 0.013*\"futur\"')]"
      ]
     },
     "execution_count": 17,
     "metadata": {},
     "output_type": "execute_result"
    }
   ],
   "source": [
    "ensemble.print_topics()"
   ]
  },
  {
   "cell_type": "markdown",
   "id": "5bb3df1c-8dca-4be0-b266-ad829db5e930",
   "metadata": {},
   "source": [
    "## Tuning"
   ]
  },
  {
   "cell_type": "code",
   "execution_count": 18,
   "id": "b70a72ea-3ea1-4348-9e39-6d9afc9900fe",
   "metadata": {},
   "outputs": [
    {
     "data": {
      "text/plain": [
       "(2400, 2400)"
      ]
     },
     "execution_count": 18,
     "metadata": {},
     "output_type": "execute_result"
    }
   ],
   "source": [
    "shape = ensemble.asymmetric_distance_matrix.shape\n",
    "shape"
   ]
  },
  {
   "cell_type": "code",
   "execution_count": 19,
   "id": "c7aaf007-628e-4985-8513-ed1933d0e1ca",
   "metadata": {},
   "outputs": [
    {
     "name": "stdout",
     "output_type": "stream",
     "text": [
      "0.0020265191659095683 0.8784940746861338 1.0\n"
     ]
    }
   ],
   "source": [
    "without_diagonal = ensemble.asymmetric_distance_matrix[~np.eye(shape[0], dtype=bool)].reshape(shape[0], -1)\n",
    "print(without_diagonal.min(), without_diagonal.mean(), without_diagonal.max())"
   ]
  },
  {
   "cell_type": "code",
   "execution_count": null,
   "id": "2957fc16-3610-4248-b268-05a0acc5dcf9",
   "metadata": {},
   "outputs": [],
   "source": []
  },
  {
   "cell_type": "code",
   "execution_count": 20,
   "id": "014285b1-1e72-4378-b460-356e37c1377e",
   "metadata": {},
   "outputs": [
    {
     "name": "stdout",
     "output_type": "stream",
     "text": [
      "eps: 0.04360874753399667 stable number of topics: 11, perplexity: -8.880426096888636\n",
      "eps: 0.08519097590208377 stable number of topics: 17, perplexity: -8.50630248221929\n",
      "eps: 0.12677320427017086 stable number of topics: 29, perplexity: -7.920847826072437\n",
      "eps: 0.16835543263825797 stable number of topics: 44, perplexity: -7.69725712753906\n",
      "eps: 0.2099376610063451 stable number of topics: 54, perplexity: -7.695927354870469\n",
      "eps: 0.25151988937443215 stable number of topics: 66, perplexity: -7.696852577200327\n",
      "eps: 0.29310211774251926 stable number of topics: 73, perplexity: -7.709826975515015\n",
      "eps: 0.3346843461106064 stable number of topics: 68, perplexity: -7.7273602564825685\n",
      "eps: 0.3762665744786935 stable number of topics: 59, perplexity: -7.733396157989379\n",
      "eps: 0.4178488028467806 stable number of topics: 43, perplexity: -7.693672565999984\n",
      "eps: 0.45943103121486767 stable number of topics: 32, perplexity: -7.780319121682437\n",
      "eps: 0.5010132595829548 stable number of topics: 18, perplexity: -7.9448597192398385\n",
      "eps: 0.5425954879510418 stable number of topics: 11, perplexity: -8.234830122750491\n",
      "eps: 0.584177716319129 stable number of topics: 7, perplexity: -8.44956289559102\n",
      "eps: 0.6257599446872161 stable number of topics: 7, perplexity: -8.570698365274412\n",
      "eps: 0.6673421730553032 stable number of topics: 6, perplexity: -8.761006182116333\n",
      "eps: 0.7089244014233903 stable number of topics: 3, perplexity: -8.923977299780997\n",
      "eps: 0.7505066297914774 stable number of topics: 2, perplexity: -9.683637414074262\n",
      "eps: 0.7920888581595645 stable number of topics: 2, perplexity: -10.155189552053086\n"
     ]
    }
   ],
   "source": [
    "num_topics = []\n",
    "perplexity = []\n",
    "eps = []\n",
    "range = np.linspace(without_diagonal.min(), without_diagonal.max(), num=25)\n",
    "for val in range:\n",
    "    ensemble.recluster(eps=val)\n",
    "    topics = len(ensemble.get_topics())\n",
    "    num_topics.append(topics)\n",
    "    eps.append(val)\n",
    "    if topics > 1:\n",
    "        perplexity_eps = ensemble.log_perplexity(corpus)\n",
    "        perplexity.append(perplexity_eps)\n",
    "        print(f\"eps: {val} stable number of topics: {topics}, perplexity: {perplexity_eps}\")\n",
    "    else:\n",
    "        perplexity.append(-np.inf)\n"
   ]
  },
  {
   "cell_type": "code",
   "execution_count": 21,
   "id": "c67a87bd-5dca-4944-9d82-59e8afd09653",
   "metadata": {},
   "outputs": [
    {
     "data": {
      "image/png": "[encoded data removed]",
      "text/plain": [
       "<Figure size 640x480 with 1 Axes>"
      ]
     },
     "metadata": {},
     "output_type": "display_data"
    }
   ],
   "source": [
    "plt.plot(eps, num_topics)\n",
    "plt.title(\"Number of stable topics in LDA\")\n",
    "plt.xlabel(\"epsilon\")\n",
    "plt.show()"
   ]
  },
  {
   "cell_type": "code",
   "execution_count": 22,
   "id": "ccde8140-7652-482a-b47c-829c36cb468d",
   "metadata": {},
   "outputs": [
    {
     "data": {
      "image/png": "[encoded data removed]",
      "text/plain": [
       "<Figure size 640x480 with 1 Axes>"
      ]
     },
     "metadata": {},
     "output_type": "display_data"
    }
   ],
   "source": [
    "plt.plot(eps, perplexity)\n",
    "plt.title(\"Perplexity\")\n",
    "plt.xlabel(\"epsilon\")\n",
    "plt.show()"
   ]
  },
  {
   "cell_type": "code",
   "execution_count": 23,
   "id": "6b025c18-48b5-41e7-92ae-6cab493a74bb",
   "metadata": {},
   "outputs": [
    {
     "data": {
      "text/plain": [
       "0.4178488028467806"
      ]
     },
     "execution_count": 23,
     "metadata": {},
     "output_type": "execute_result"
    }
   ],
   "source": [
    "eps[perplexity.index(max(perplexity))]"
   ]
  },
  {
   "cell_type": "code",
   "execution_count": 24,
   "id": "b48fd62b-b855-4161-a09d-73f23e50454b",
   "metadata": {},
   "outputs": [
    {
     "data": {
      "text/plain": [
       "[(89,\n",
       "  '0.250*\"map\" + 0.037*\"stream\" + 0.035*\"path\" + 0.028*\"tensor\" + 0.023*\"composit\" + 0.017*\"decomposit\" + 0.015*\"databas\" + 0.015*\"ontolog\" + 0.013*\"feedback\" + 0.012*\"locat\"'),\n",
       " (41,\n",
       "  '0.202*\"instanc\" + 0.054*\"track\" + 0.032*\"calibr\" + 0.030*\"confid\" + 0.019*\"forc\" + 0.019*\"eeg\" + 0.018*\"subject\" + 0.018*\"dens\" + 0.018*\"team\" + 0.015*\"correl\"'),\n",
       " (35,\n",
       "  '0.198*\"graph\" + 0.049*\"node\" + 0.032*\"network\" + 0.028*\"structur\" + 0.026*\"gnn\" + 0.015*\"edg\" + 0.013*\"topolog\" + 0.012*\"represent\" + 0.012*\"method\" + 0.012*\"base\"'),\n",
       " (61,\n",
       "  '0.138*\"recommend\" + 0.081*\"item\" + 0.058*\"factor\" + 0.030*\"system\" + 0.022*\"user\" + 0.021*\"base\" + 0.016*\"transit\" + 0.016*\"collabor\" + 0.011*\"filter\" + 0.011*\"candid\"'),\n",
       " (68,\n",
       "  '0.202*\"inform\" + 0.025*\"relat\" + 0.021*\"context\" + 0.020*\"extract\" + 0.019*\"knowledg\" + 0.018*\"mutual\" + 0.016*\"hierarch\" + 0.014*\"prefer\" + 0.014*\"level\" + 0.014*\"method\"'),\n",
       " (88,\n",
       "  '0.203*\"rule\" + 0.016*\"sound\" + 0.016*\"base\" + 0.014*\"counterfactu\" + 0.013*\"failur\" + 0.013*\"protocol\" + 0.013*\"backdoor\" + 0.012*\"trace\" + 0.012*\"fault\" + 0.011*\"orthogon\"'),\n",
       " (20,\n",
       "  '0.137*\"pattern\" + 0.021*\"mine\" + 0.018*\"symbol\" + 0.018*\"correct\" + 0.014*\"pool\" + 0.013*\"tempor\" + 0.013*\"drl\" + 0.013*\"support\" + 0.012*\"verif\" + 0.010*\"svm\"'),\n",
       " (42,\n",
       "  '0.238*\"embed\" + 0.041*\"vector\" + 0.039*\"word\" + 0.019*\"channel\" + 0.015*\"context\" + 0.014*\"inform\" + 0.014*\"stream\" + 0.014*\"path\" + 0.012*\"method\" + 0.011*\"document\"'),\n",
       " (93,\n",
       "  '0.187*\"level\" + 0.031*\"hierarch\" + 0.028*\"ground\" + 0.017*\"grain\" + 0.017*\"truth\" + 0.015*\"fine\" + 0.012*\"eeg\" + 0.012*\"soft\" + 0.011*\"hierarchi\" + 0.009*\"process\"'),\n",
       " (43,\n",
       "  '0.156*\"uncertainti\" + 0.025*\"probabilist\" + 0.024*\"bayesian\" + 0.020*\"estim\" + 0.019*\"manifold\" + 0.018*\"reliabl\" + 0.017*\"uncertain\" + 0.016*\"quantif\" + 0.015*\"predict\" + 0.015*\"measur\"'),\n",
       " (46,\n",
       "  '0.063*\"llm\" + 0.028*\"prompt\" + 0.028*\"gener\" + 0.026*\"larg\" + 0.025*\"languag\" + 0.020*\"capabl\" + 0.017*\"gpt\" + 0.015*\"enhanc\" + 0.012*\"respons\" + 0.012*\"evalu\"'),\n",
       " (57,\n",
       "  '0.139*\"game\" + 0.056*\"strategi\" + 0.042*\"player\" + 0.040*\"plai\" + 0.015*\"equilibrium\" + 0.014*\"competit\" + 0.011*\"transit\" + 0.010*\"markov\" + 0.009*\"behavior\" + 0.009*\"role\"'),\n",
       " (16,\n",
       "  '0.183*\"visual\" + 0.066*\"action\" + 0.048*\"modal\" + 0.041*\"stream\" + 0.024*\"synthesi\" + 0.023*\"multimod\" + 0.022*\"audio\" + 0.018*\"scene\" + 0.017*\"composit\" + 0.014*\"fusion\"'),\n",
       " (10,\n",
       "  '0.131*\"segment\" + 0.033*\"net\" + 0.021*\"spatial\" + 0.020*\"method\" + 0.018*\"brain\" + 0.017*\"imag\" + 0.017*\"region\" + 0.012*\"reconstruct\" + 0.011*\"base\" + 0.010*\"deep\"'),\n",
       " (38,\n",
       "  '0.056*\"problem\" + 0.046*\"optim\" + 0.046*\"algorithm\" + 0.036*\"gradient\" + 0.019*\"solv\" + 0.018*\"method\" + 0.017*\"converg\" + 0.017*\"solut\" + 0.015*\"stochast\" + 0.010*\"descent\"'),\n",
       " (54,\n",
       "  '0.112*\"recognit\" + 0.095*\"speech\" + 0.028*\"speaker\" + 0.027*\"audio\" + 0.019*\"end\" + 0.015*\"acoust\" + 0.014*\"system\" + 0.014*\"asr\" + 0.014*\"base\" + 0.013*\"automat\"'),\n",
       " (30,\n",
       "  '0.231*\"sampl\" + 0.054*\"reconstruct\" + 0.022*\"method\" + 0.018*\"instanc\" + 0.015*\"base\" + 0.015*\"music\" + 0.012*\"train\" + 0.012*\"miss\" + 0.012*\"invers\" + 0.011*\"gener\"'),\n",
       " (17,\n",
       "  '0.201*\"data\" + 0.018*\"real\" + 0.014*\"machin\" + 0.011*\"synthet\" + 0.011*\"dataset\" + 0.011*\"method\" + 0.011*\"collect\" + 0.011*\"privaci\" + 0.011*\"process\" + 0.011*\"approach\"'),\n",
       " (73,\n",
       "  '0.175*\"risk\" + 0.017*\"failur\" + 0.013*\"textit\" + 0.013*\"surviv\" + 0.012*\"mode\" + 0.010*\"emph\" + 0.010*\"format\" + 0.009*\"profil\" + 0.009*\"manag\" + 0.008*\"return\"'),\n",
       " (64,\n",
       "  '0.189*\"dnn\" + 0.029*\"depth\" + 0.022*\"invari\" + 0.020*\"sensor\" + 0.014*\"subspac\" + 0.014*\"verif\" + 0.013*\"outlier\" + 0.013*\"right\" + 0.012*\"ood\" + 0.010*\"theorem\"')]"
      ]
     },
     "execution_count": 24,
     "metadata": {},
     "output_type": "execute_result"
    }
   ],
   "source": [
    "eps = 0.25608691909620607\n",
    "ensemble.recluster(eps=eps, min_samples=2, min_cores=2)\n",
    "ensemble.print_topics()"
   ]
  },
  {
   "cell_type": "code",
   "execution_count": null,
   "id": "1d4be2c2-5482-4117-b167-35b1ce8faff2",
   "metadata": {},
   "outputs": [],
   "source": []
  }
 ],
 "metadata": {
  "kernelspec": {
   "display_name": "Python 3 (ipykernel)",
   "language": "python",
   "name": "python3"
  },
  "language_info": {
   "codemirror_mode": {
    "name": "ipython",
    "version": 3
   },
   "file_extension": ".py",
   "mimetype": "text/x-python",
   "name": "python",
   "nbconvert_exporter": "python",
   "pygments_lexer": "ipython3",
   "version": "3.12.2"
  }
 },
 "nbformat": 4,
 "nbformat_minor": 5
}
