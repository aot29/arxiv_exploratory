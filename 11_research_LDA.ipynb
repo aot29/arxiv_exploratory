{
 "cells": [
  {
   "cell_type": "markdown",
   "id": "1b6a1178-62cb-40fc-bbec-3c48a7a3b569",
   "metadata": {},
   "source": [
    "# Abstracts LDA\n",
    "\n",
    "* Load the abstracts from the research articles identified in 10_research_papers notebook.\n",
    "* Create a corpus with the abstracts\n",
    "* Tokenize\n",
    "* Apply single LDA\n",
    "* Apply ensemble LDA"
   ]
  },
  {
   "cell_type": "code",
   "execution_count": 2,
   "id": "1d545df8-a8f5-4f6f-9fbd-50f943cacb3f",
   "metadata": {},
   "outputs": [],
   "source": [
    "import pandas as pd\n",
    "import os\n",
    "import PyPDF2\n",
    "from collections import defaultdict\n",
    "from gensim import corpora\n",
    "from gensim.models import LdaModel\n",
    "from gensim.models import EnsembleLda\n",
    "from gensim.parsing.preprocessing import preprocess_string\n",
    "\n",
    "import numpy as np\n",
    "from random import sample "
   ]
  },
  {
   "cell_type": "code",
   "execution_count": 3,
   "id": "5e9223e3-3002-4d19-9eb9-89850f76ec52",
   "metadata": {},
   "outputs": [],
   "source": [
    "from matplotlib import pyplot as plt \n",
    "\n",
    "%matplotlib inline"
   ]
  },
  {
   "cell_type": "code",
   "execution_count": null,
   "id": "c5296a30-fb99-4526-8014-4d157ba4f1c4",
   "metadata": {},
   "outputs": [],
   "source": []
  },
  {
   "cell_type": "markdown",
   "id": "53db0260-2d1e-4021-ae37-7e53b717c433",
   "metadata": {},
   "source": [
    "## Load the abstracts \n",
    "* From the research articles on machine learning identified in 10_research_papers  notebook. Keep only the abstracts.\n",
    "* Random sample 1000 papers"
   ]
  },
  {
   "cell_type": "code",
   "execution_count": 4,
   "id": "1d2f5397-5c2c-4ba2-ab3d-70f22ec29111",
   "metadata": {},
   "outputs": [
    {
     "name": "stdout",
     "output_type": "stream",
     "text": [
      "CPU times: user 1.89 s, sys: 287 ms, total: 2.17 s\n",
      "Wall time: 2.35 s\n"
     ]
    },
    {
     "name": "stderr",
     "output_type": "stream",
     "text": [
      "<timed exec>:1: DtypeWarning: Columns (1) have mixed types. Specify dtype option on import or set low_memory=False.\n"
     ]
    }
   ],
   "source": [
    "%%time\n",
    "\n",
    "arxiv_ml_research = pd.read_csv('data/arxiv_ml_research.csv.zip')"
   ]
  },
  {
   "cell_type": "code",
   "execution_count": 5,
   "id": "8d1f1e15-d349-4001-a1f1-fc70d39f8e7a",
   "metadata": {},
   "outputs": [
    {
     "name": "stdout",
     "output_type": "stream",
     "text": [
      "There are 207226 research articles on machine learning in the dataset\n"
     ]
    }
   ],
   "source": [
    "print(f\"There are {arxiv_ml_research.shape[0]} research articles on machine learning in the dataset\")"
   ]
  },
  {
   "cell_type": "markdown",
   "id": "a75b10a7-a570-4196-9dcc-74cfe605211c",
   "metadata": {},
   "source": [
    "## Create a corpus with the abstracts"
   ]
  },
  {
   "cell_type": "code",
   "execution_count": 59,
   "id": "eb0c6207-23c1-4404-a7e9-f1cf47b1bd51",
   "metadata": {},
   "outputs": [],
   "source": [
    "documents = arxiv_ml_research['abstract']"
   ]
  },
  {
   "cell_type": "code",
   "execution_count": 60,
   "id": "7b7fe252-73cb-4c81-b8bf-2016badf46fd",
   "metadata": {},
   "outputs": [
    {
     "data": {
      "text/plain": [
       "207226"
      ]
     },
     "execution_count": 60,
     "metadata": {},
     "output_type": "execute_result"
    }
   ],
   "source": [
    "len(documents)"
   ]
  },
  {
   "cell_type": "markdown",
   "id": "77a9a093-c447-44bd-9790-ee0745aa79fa",
   "metadata": {},
   "source": [
    "### Random sample papers"
   ]
  },
  {
   "cell_type": "code",
   "execution_count": 61,
   "id": "00d9d221-bc85-4dde-8674-d959b5411683",
   "metadata": {},
   "outputs": [],
   "source": [
    "sample_size = 50000\n",
    "documents = sample(list(documents), sample_size)"
   ]
  },
  {
   "cell_type": "markdown",
   "id": "fb176a8e-b47c-4be5-9813-8cfcc4e6e924",
   "metadata": {},
   "source": [
    "### Tokenize"
   ]
  },
  {
   "cell_type": "code",
   "execution_count": 62,
   "id": "6720ed92-76c5-4cb5-be5d-63834eabc623",
   "metadata": {
    "scrolled": true
   },
   "outputs": [],
   "source": [
    "# remove common words and tokenize\n",
    "texts = [\n",
    "    preprocess_string(document)\n",
    "    for document in documents\n",
    "]"
   ]
  },
  {
   "cell_type": "code",
   "execution_count": null,
   "id": "f12513cc-165f-4ab9-bb52-865329831218",
   "metadata": {},
   "outputs": [],
   "source": []
  },
  {
   "cell_type": "code",
   "execution_count": 63,
   "id": "d759e8f8-08e3-41f1-b7f9-152df5e392d6",
   "metadata": {},
   "outputs": [],
   "source": [
    "# remove words that appear only once\n",
    "frequency = defaultdict(int)\n",
    "for text in texts:\n",
    "    for token in text:\n",
    "        frequency[token] += 1\n",
    "\n",
    "texts = [\n",
    "    [token for token in text if frequency[token] > 1]\n",
    "    for text in texts\n",
    "]"
   ]
  },
  {
   "cell_type": "code",
   "execution_count": null,
   "id": "5c81f109-4529-405f-aa2d-8306bd24dfd2",
   "metadata": {},
   "outputs": [],
   "source": []
  },
  {
   "cell_type": "code",
   "execution_count": 64,
   "id": "af31cf4a-c4b9-4a9a-9852-ae6fbf213dba",
   "metadata": {},
   "outputs": [],
   "source": [
    "dictionary = corpora.Dictionary(texts)\n",
    "dictionary.filter_extremes(no_below=5, no_above=0.5)\n",
    "corpus = [dictionary.doc2bow(text) for text in texts]"
   ]
  },
  {
   "cell_type": "code",
   "execution_count": 65,
   "id": "92a9e846-dc6f-42f6-ac53-4dc2013ba43a",
   "metadata": {},
   "outputs": [
    {
     "data": {
      "text/plain": [
       "5116"
      ]
     },
     "execution_count": 65,
     "metadata": {},
     "output_type": "execute_result"
    }
   ],
   "source": [
    "len(dictionary)"
   ]
  },
  {
   "cell_type": "markdown",
   "id": "0a574936-27d0-4d38-bcb3-c176437d0831",
   "metadata": {},
   "source": [
    "## Apply single LDA\n",
    "Simple 1-topic LDA"
   ]
  },
  {
   "cell_type": "code",
   "execution_count": 66,
   "id": "94ce6658-98fa-4fba-9a6b-d80332aa4847",
   "metadata": {},
   "outputs": [],
   "source": [
    "lda_model = LdaModel(corpus, id2word=dictionary, num_topics=1)\n",
    "corpus_lda = lda_model[corpus]"
   ]
  },
  {
   "cell_type": "code",
   "execution_count": 67,
   "id": "cd0c71c7-0c8e-4723-b76f-d91c1ac45c6a",
   "metadata": {},
   "outputs": [
    {
     "data": {
      "text/plain": [
       "[(0,\n",
       "  '0.011*\"data\" + 0.010*\"method\" + 0.008*\"network\" + 0.008*\"base\" + 0.008*\"train\" + 0.008*\"gener\" + 0.007*\"perform\" + 0.007*\"algorithm\" + 0.006*\"approach\" + 0.006*\"task\"')]"
      ]
     },
     "execution_count": 67,
     "metadata": {},
     "output_type": "execute_result"
    }
   ],
   "source": [
    "lda_model.print_topics()"
   ]
  },
  {
   "cell_type": "markdown",
   "id": "b1de6a3a-027a-4942-9317-28843029b195",
   "metadata": {},
   "source": [
    "## Apply ensemble LDA"
   ]
  },
  {
   "cell_type": "code",
   "execution_count": 68,
   "id": "90f8c390-8c17-4077-8596-5aa82daf1622",
   "metadata": {},
   "outputs": [],
   "source": [
    "topic_model_class = LdaModel\n",
    "ensemble_workers = 12\n",
    "num_models = ensemble_workers * 2\n",
    "distance_workers = 12\n",
    "num_topics = 100\n",
    "passes = 2"
   ]
  },
  {
   "cell_type": "code",
   "execution_count": 69,
   "id": "75c2929d-c52a-4f5f-9b61-45509a1bec01",
   "metadata": {},
   "outputs": [],
   "source": [
    "ensemble = EnsembleLda(\n",
    "    corpus=corpus,\n",
    "    id2word=dictionary,\n",
    "    num_topics=num_topics,\n",
    "    passes=passes,\n",
    "    num_models=num_models,\n",
    "    topic_model_class=topic_model_class,\n",
    "    ensemble_workers=ensemble_workers,\n",
    "    distance_workers=distance_workers\n",
    ")"
   ]
  },
  {
   "cell_type": "markdown",
   "id": "100b345a-b85e-4e17-a908-4442cfa3c6b4",
   "metadata": {},
   "source": [
    "* Compute all the topics. In this setup: num_topics * num_workers\n",
    "* Compute the stable topics"
   ]
  },
  {
   "cell_type": "code",
   "execution_count": 70,
   "id": "e17e2407-5885-4e1b-8b5c-ccf10ef5bcca",
   "metadata": {},
   "outputs": [
    {
     "name": "stdout",
     "output_type": "stream",
     "text": [
      "2400\n",
      "7\n"
     ]
    }
   ],
   "source": [
    "print(len(ensemble.ttda))\n",
    "print(len(ensemble.get_topics()))"
   ]
  },
  {
   "cell_type": "code",
   "execution_count": 71,
   "id": "c53bee84-e9ce-4db0-86f1-1d7a253ffb23",
   "metadata": {},
   "outputs": [
    {
     "data": {
      "text/plain": [
       "[(0,\n",
       "  '0.165*\"graph\" + 0.038*\"node\" + 0.032*\"structur\" + 0.020*\"network\" + 0.017*\"gnn\" + 0.016*\"method\" + 0.014*\"inform\" + 0.013*\"represent\" + 0.011*\"base\" + 0.010*\"edg\"'),\n",
       " (1,\n",
       "  '0.098*\"adversari\" + 0.098*\"attack\" + 0.040*\"robust\" + 0.022*\"exampl\" + 0.020*\"defens\" + 0.019*\"train\" + 0.018*\"perturb\" + 0.014*\"vulner\" + 0.012*\"method\" + 0.010*\"box\"'),\n",
       " (2,\n",
       "  '0.118*\"network\" + 0.068*\"neural\" + 0.031*\"deep\" + 0.023*\"train\" + 0.020*\"layer\" + 0.018*\"architectur\" + 0.011*\"convolut\" + 0.009*\"method\" + 0.008*\"perform\" + 0.008*\"base\"'),\n",
       " (3,\n",
       "  '0.121*\"domain\" + 0.051*\"target\" + 0.033*\"sourc\" + 0.031*\"adapt\" + 0.030*\"transfer\" + 0.017*\"data\" + 0.012*\"method\" + 0.011*\"perform\" + 0.010*\"dataset\" + 0.010*\"train\"'),\n",
       " (4,\n",
       "  '0.123*\"user\" + 0.060*\"recommend\" + 0.034*\"item\" + 0.021*\"interact\" + 0.016*\"system\" + 0.016*\"base\" + 0.016*\"prefer\" + 0.010*\"inform\" + 0.010*\"person\" + 0.008*\"experi\"'),\n",
       " (5,\n",
       "  '0.173*\"cluster\" + 0.028*\"data\" + 0.026*\"method\" + 0.020*\"mean\" + 0.014*\"algorithm\" + 0.013*\"dataset\" + 0.010*\"unsupervis\" + 0.010*\"base\" + 0.010*\"perform\" + 0.009*\"result\"'),\n",
       " (6,\n",
       "  '0.141*\"imag\" + 0.022*\"method\" + 0.019*\"gener\" + 0.013*\"reconstruct\" + 0.012*\"train\" + 0.011*\"base\" + 0.009*\"dataset\" + 0.009*\"network\" + 0.008*\"visual\" + 0.008*\"result\"')]"
      ]
     },
     "execution_count": 71,
     "metadata": {},
     "output_type": "execute_result"
    }
   ],
   "source": [
    "ensemble.print_topics()"
   ]
  },
  {
   "cell_type": "markdown",
   "id": "5bb3df1c-8dca-4be0-b266-ad829db5e930",
   "metadata": {},
   "source": [
    "## Tuning"
   ]
  },
  {
   "cell_type": "code",
   "execution_count": 72,
   "id": "b70a72ea-3ea1-4348-9e39-6d9afc9900fe",
   "metadata": {},
   "outputs": [
    {
     "data": {
      "text/plain": [
       "(2400, 2400)"
      ]
     },
     "execution_count": 72,
     "metadata": {},
     "output_type": "execute_result"
    }
   ],
   "source": [
    "shape = ensemble.asymmetric_distance_matrix.shape\n",
    "shape"
   ]
  },
  {
   "cell_type": "code",
   "execution_count": 73,
   "id": "c7aaf007-628e-4985-8513-ed1933d0e1ca",
   "metadata": {},
   "outputs": [
    {
     "name": "stdout",
     "output_type": "stream",
     "text": [
      "0.008115892128274793 0.7719404687463888 1.0\n"
     ]
    }
   ],
   "source": [
    "without_diagonal = ensemble.asymmetric_distance_matrix[~np.eye(shape[0], dtype=bool)].reshape(shape[0], -1)\n",
    "print(without_diagonal.min(), without_diagonal.mean(), without_diagonal.max())"
   ]
  },
  {
   "cell_type": "code",
   "execution_count": null,
   "id": "2957fc16-3610-4248-b268-05a0acc5dcf9",
   "metadata": {},
   "outputs": [],
   "source": []
  },
  {
   "cell_type": "code",
   "execution_count": 97,
   "id": "014285b1-1e72-4378-b460-356e37c1377e",
   "metadata": {},
   "outputs": [
    {
     "name": "stdout",
     "output_type": "stream",
     "text": [
      "eps: 0.09077290111758522 stable number of topics: 7, perplexity: -7.746052689569602\n",
      "eps: 0.13210140561224043 stable number of topics: 9, perplexity: -7.582771821123915\n",
      "eps: 0.17342991010689565 stable number of topics: 16, perplexity: -7.389443696045238\n",
      "eps: 0.21475841460155087 stable number of topics: 20, perplexity: -7.3284140871205725\n",
      "eps: 0.25608691909620607 stable number of topics: 25, perplexity: -7.319488982819744\n",
      "eps: 0.2974154235908613 stable number of topics: 32, perplexity: -7.341724565338382\n",
      "eps: 0.3387439280855165 stable number of topics: 36, perplexity: -7.359743666523391\n",
      "eps: 0.3800724325801717 stable number of topics: 29, perplexity: -7.3280724106914\n",
      "eps: 0.42140093707482695 stable number of topics: 22, perplexity: -7.363392069260584\n",
      "eps: 0.46272944156948215 stable number of topics: 13, perplexity: -7.413312854878545\n",
      "eps: 0.5040579460641373 stable number of topics: 9, perplexity: -7.460150922715606\n",
      "eps: 0.5453864505587925 stable number of topics: 7, perplexity: -7.6439010958835585\n",
      "eps: 0.5867149550534478 stable number of topics: 4, perplexity: -7.609107454438638\n"
     ]
    }
   ],
   "source": [
    "num_topics = []\n",
    "perplexity = []\n",
    "eps = []\n",
    "range = np.linspace(without_diagonal.min(), without_diagonal.max(), num=25)\n",
    "for val in range:\n",
    "    ensemble.recluster(eps=val)\n",
    "    topics = len(ensemble.get_topics())\n",
    "    num_topics.append(topics)\n",
    "    eps.append(val)\n",
    "    if topics > 1:\n",
    "        perplexity_eps = ensemble.log_perplexity(corpus)\n",
    "        perplexity.append(perplexity_eps)\n",
    "        print(f\"eps: {val} stable number of topics: {topics}, perplexity: {perplexity_eps}\")\n",
    "    else:\n",
    "        perplexity.append(-np.inf)\n"
   ]
  },
  {
   "cell_type": "code",
   "execution_count": 98,
   "id": "c67a87bd-5dca-4944-9d82-59e8afd09653",
   "metadata": {},
   "outputs": [
    {
     "data": {
      "image/png": "[encoded data removed]",
      "text/plain": [
       "<Figure size 640x480 with 1 Axes>"
      ]
     },
     "metadata": {},
     "output_type": "display_data"
    }
   ],
   "source": [
    "plt.plot(eps, num_topics)\n",
    "plt.title(\"Number of stable topics in LDA\")\n",
    "plt.xlabel(\"epsilon\")\n",
    "plt.show()"
   ]
  },
  {
   "cell_type": "code",
   "execution_count": 99,
   "id": "ccde8140-7652-482a-b47c-829c36cb468d",
   "metadata": {},
   "outputs": [
    {
     "data": {
      "image/png": "[encoded data removed]",
      "text/plain": [
       "<Figure size 640x480 with 1 Axes>"
      ]
     },
     "metadata": {},
     "output_type": "display_data"
    }
   ],
   "source": [
    "plt.plot(eps, perplexity)\n",
    "plt.title(\"Perplexity\")\n",
    "plt.xlabel(\"epsilon\")\n",
    "plt.show()"
   ]
  },
  {
   "cell_type": "code",
   "execution_count": 100,
   "id": "6b025c18-48b5-41e7-92ae-6cab493a74bb",
   "metadata": {},
   "outputs": [
    {
     "data": {
      "text/plain": [
       "0.25608691909620607"
      ]
     },
     "execution_count": 100,
     "metadata": {},
     "output_type": "execute_result"
    }
   ],
   "source": [
    "eps[perplexity.index(max(perplexity))]"
   ]
  },
  {
   "cell_type": "code",
   "execution_count": 101,
   "id": "b48fd62b-b855-4161-a09d-73f23e50454b",
   "metadata": {},
   "outputs": [
    {
     "data": {
      "text/plain": [
       "[(24,\n",
       "  '0.069*\"robot\" + 0.019*\"environ\" + 0.017*\"plan\" + 0.015*\"navig\" + 0.014*\"task\" + 0.011*\"object\" + 0.011*\"human\" + 0.009*\"approach\" + 0.008*\"base\" + 0.008*\"algorithm\"'),\n",
       " (18,\n",
       "  '0.115*\"knowledg\" + 0.013*\"distil\" + 0.011*\"teacher\" + 0.011*\"student\" + 0.011*\"task\" + 0.011*\"dataset\" + 0.010*\"base\" + 0.009*\"perform\" + 0.009*\"gener\" + 0.008*\"reason\"'),\n",
       " (52,\n",
       "  '0.097*\"attent\" + 0.042*\"mechan\" + 0.032*\"transform\" + 0.014*\"self\" + 0.009*\"base\" + 0.009*\"perform\" + 0.008*\"sequenc\" + 0.007*\"method\" + 0.007*\"task\" + 0.007*\"state\"'),\n",
       " (35,\n",
       "  '0.124*\"ensembl\" + 0.026*\"arm\" + 0.022*\"varianc\" + 0.019*\"sub\" + 0.017*\"mobil\" + 0.016*\"dropout\" + 0.016*\"gap\" + 0.013*\"detector\" + 0.009*\"tag\" + 0.009*\"method\"'),\n",
       " (53,\n",
       "  '0.073*\"rank\" + 0.037*\"matrix\" + 0.020*\"low\" + 0.016*\"method\" + 0.014*\"tensor\" + 0.013*\"algorithm\" + 0.012*\"problem\" + 0.012*\"decomposit\" + 0.010*\"factor\" + 0.010*\"matric\"'),\n",
       " (42,\n",
       "  '0.130*\"dnn\" + 0.015*\"server\" + 0.015*\"backdoor\" + 0.015*\"spars\" + 0.013*\"deep\" + 0.011*\"precis\" + 0.011*\"comput\" + 0.009*\"trigger\" + 0.009*\"power\" + 0.008*\"approach\"'),\n",
       " (26,\n",
       "  '0.121*\"loss\" + 0.028*\"function\" + 0.009*\"entropi\" + 0.009*\"shape\" + 0.009*\"train\" + 0.008*\"base\" + 0.008*\"predict\" + 0.008*\"method\" + 0.008*\"result\" + 0.007*\"cross\"'),\n",
       " (8,\n",
       "  '0.121*\"attack\" + 0.036*\"box\" + 0.026*\"secur\" + 0.026*\"black\" + 0.025*\"adversari\" + 0.018*\"defens\" + 0.017*\"vulner\" + 0.013*\"target\" + 0.011*\"threat\" + 0.010*\"method\"'),\n",
       " (47,\n",
       "  '0.077*\"view\" + 0.043*\"multi\" + 0.019*\"inform\" + 0.015*\"path\" + 0.013*\"argument\" + 0.011*\"method\" + 0.010*\"caption\" + 0.010*\"consist\" + 0.010*\"activ\" + 0.009*\"multipl\"'),\n",
       " (38,\n",
       "  '0.094*\"time\" + 0.058*\"seri\" + 0.029*\"forecast\" + 0.017*\"data\" + 0.017*\"predict\" + 0.010*\"method\" + 0.009*\"base\" + 0.008*\"dynam\" + 0.008*\"approach\" + 0.007*\"real\"'),\n",
       " (20,\n",
       "  '0.064*\"quantum\" + 0.020*\"machin\" + 0.017*\"classic\" + 0.015*\"data\" + 0.010*\"comput\" + 0.010*\"circuit\" + 0.009*\"perform\" + 0.008*\"approach\" + 0.008*\"algorithm\" + 0.007*\"sampl\"'),\n",
       " (16,\n",
       "  '0.106*\"segment\" + 0.020*\"imag\" + 0.017*\"method\" + 0.017*\"brain\" + 0.013*\"dataset\" + 0.012*\"net\" + 0.012*\"tumor\" + 0.011*\"base\" + 0.011*\"perform\" + 0.009*\"scan\"'),\n",
       " (48,\n",
       "  '0.061*\"classifi\" + 0.061*\"class\" + 0.042*\"classif\" + 0.011*\"binari\" + 0.010*\"set\" + 0.009*\"data\" + 0.009*\"method\" + 0.009*\"base\" + 0.008*\"dataset\" + 0.007*\"perform\"'),\n",
       " (70,\n",
       "  '0.101*\"action\" + 0.018*\"option\" + 0.016*\"skill\" + 0.015*\"materi\" + 0.012*\"synthesi\" + 0.011*\"gener\" + 0.011*\"abstract\" + 0.010*\"level\" + 0.009*\"chines\" + 0.009*\"problem\"'),\n",
       " (28,\n",
       "  '0.093*\"causal\" + 0.016*\"observ\" + 0.016*\"effect\" + 0.015*\"method\" + 0.014*\"intervent\" + 0.014*\"data\" + 0.013*\"event\" + 0.012*\"infer\" + 0.012*\"direct\" + 0.010*\"treatment\"'),\n",
       " (43,\n",
       "  '0.106*\"rule\" + 0.020*\"manipul\" + 0.013*\"transit\" + 0.012*\"moment\" + 0.010*\"neuron\" + 0.010*\"vote\" + 0.010*\"cell\" + 0.010*\"textit\" + 0.009*\"circuit\" + 0.008*\"metric\"'),\n",
       " (69,\n",
       "  '0.164*\"activ\" + 0.041*\"layer\" + 0.019*\"teacher\" + 0.019*\"arm\" + 0.016*\"norm\" + 0.013*\"phase\" + 0.011*\"trace\" + 0.011*\"hidden\" + 0.010*\"bodi\" + 0.010*\"path\"'),\n",
       " (37,\n",
       "  '0.092*\"tempor\" + 0.041*\"spatial\" + 0.016*\"data\" + 0.016*\"traffic\" + 0.014*\"time\" + 0.013*\"spatio\" + 0.012*\"dynam\" + 0.009*\"method\" + 0.009*\"pattern\" + 0.008*\"predict\"'),\n",
       " (73,\n",
       "  '0.096*\"compress\" + 0.025*\"prune\" + 0.014*\"perform\" + 0.012*\"embed\" + 0.011*\"budget\" + 0.011*\"sparsiti\" + 0.011*\"hardwar\" + 0.009*\"effici\" + 0.009*\"weight\" + 0.009*\"infer\"'),\n",
       " (19,\n",
       "  '0.050*\"entiti\" + 0.018*\"relat\" + 0.017*\"knowledg\" + 0.012*\"extract\" + 0.012*\"inform\" + 0.012*\"data\" + 0.009*\"method\" + 0.009*\"base\" + 0.008*\"dataset\" + 0.008*\"predict\"')]"
      ]
     },
     "execution_count": 101,
     "metadata": {},
     "output_type": "execute_result"
    }
   ],
   "source": [
    "eps = 0.25608691909620607\n",
    "ensemble.recluster(eps=eps, min_samples=2, min_cores=2)\n",
    "ensemble.print_topics()"
   ]
  },
  {
   "cell_type": "code",
   "execution_count": null,
   "id": "1d4be2c2-5482-4117-b167-35b1ce8faff2",
   "metadata": {},
   "outputs": [],
   "source": []
  }
 ],
 "metadata": {
  "kernelspec": {
   "display_name": "Python 3 (ipykernel)",
   "language": "python",
   "name": "python3"
  },
  "language_info": {
   "codemirror_mode": {
    "name": "ipython",
    "version": 3
   },
   "file_extension": ".py",
   "mimetype": "text/x-python",
   "name": "python",
   "nbconvert_exporter": "python",
   "pygments_lexer": "ipython3",
   "version": "3.12.2"
  }
 },
 "nbformat": 4,
 "nbformat_minor": 5
}
