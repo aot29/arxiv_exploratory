{
 "cells": [
  {
   "cell_type": "markdown",
   "id": "1b6a1178-62cb-40fc-bbec-3c48a7a3b569",
   "metadata": {},
   "source": [
    "# Abstracts LDA\n",
    "\n",
    "* Load the abstracts from the research articles identified in 10_research_papers notebook.\n",
    "* Create a corpus with the abstracts\n",
    "* Tokenize\n",
    "* Apply single LDA\n",
    "* Apply ensemble LDA"
   ]
  },
  {
   "cell_type": "code",
   "execution_count": 20,
   "id": "1d545df8-a8f5-4f6f-9fbd-50f943cacb3f",
   "metadata": {},
   "outputs": [],
   "source": [
    "import pandas as pd\n",
    "import os\n",
    "import PyPDF2\n",
    "from collections import defaultdict\n",
    "from gensim import corpora\n",
    "from gensim.models import LdaModel\n",
    "from gensim.models import EnsembleLda\n",
    "import numpy as np\n",
    "from random import sample "
   ]
  },
  {
   "cell_type": "code",
   "execution_count": 42,
   "id": "5e9223e3-3002-4d19-9eb9-89850f76ec52",
   "metadata": {},
   "outputs": [],
   "source": [
    "from matplotlib import pyplot as plt \n",
    "\n",
    "%matplotlib inline"
   ]
  },
  {
   "cell_type": "code",
   "execution_count": null,
   "id": "c5296a30-fb99-4526-8014-4d157ba4f1c4",
   "metadata": {},
   "outputs": [],
   "source": []
  },
  {
   "cell_type": "markdown",
   "id": "53db0260-2d1e-4021-ae37-7e53b717c433",
   "metadata": {},
   "source": [
    "## Load the abstracts \n",
    "* From the research articles on machine learning identified in 10_research_papers  notebook. Keep only the abstracts.\n",
    "* Random sample 1000 papers"
   ]
  },
  {
   "cell_type": "code",
   "execution_count": 2,
   "id": "1d2f5397-5c2c-4ba2-ab3d-70f22ec29111",
   "metadata": {},
   "outputs": [
    {
     "name": "stdout",
     "output_type": "stream",
     "text": [
      "CPU times: user 2 s, sys: 171 ms, total: 2.17 s\n",
      "Wall time: 2.18 s\n"
     ]
    },
    {
     "name": "stderr",
     "output_type": "stream",
     "text": [
      "<timed exec>:1: DtypeWarning: Columns (1) have mixed types. Specify dtype option on import or set low_memory=False.\n"
     ]
    }
   ],
   "source": [
    "%%time\n",
    "\n",
    "arxiv_ml_research = pd.read_csv('data/arxiv_ml_research.csv.zip')"
   ]
  },
  {
   "cell_type": "code",
   "execution_count": 3,
   "id": "8d1f1e15-d349-4001-a1f1-fc70d39f8e7a",
   "metadata": {},
   "outputs": [
    {
     "name": "stdout",
     "output_type": "stream",
     "text": [
      "There are 207226 research articles on machine learning in the dataset\n"
     ]
    }
   ],
   "source": [
    "print(f\"There are {arxiv_ml_research.shape[0]} research articles on machine learning in the dataset\")"
   ]
  },
  {
   "cell_type": "markdown",
   "id": "a75b10a7-a570-4196-9dcc-74cfe605211c",
   "metadata": {},
   "source": [
    "## Create a corpus with the abstracts"
   ]
  },
  {
   "cell_type": "code",
   "execution_count": 102,
   "id": "eb0c6207-23c1-4404-a7e9-f1cf47b1bd51",
   "metadata": {},
   "outputs": [],
   "source": [
    "documents = arxiv_ml_research['abstract']"
   ]
  },
  {
   "cell_type": "code",
   "execution_count": 103,
   "id": "7b7fe252-73cb-4c81-b8bf-2016badf46fd",
   "metadata": {},
   "outputs": [
    {
     "data": {
      "text/plain": [
       "207226"
      ]
     },
     "execution_count": 103,
     "metadata": {},
     "output_type": "execute_result"
    }
   ],
   "source": [
    "len(documents)"
   ]
  },
  {
   "cell_type": "markdown",
   "id": "77a9a093-c447-44bd-9790-ee0745aa79fa",
   "metadata": {},
   "source": [
    "### Random sample papers"
   ]
  },
  {
   "cell_type": "code",
   "execution_count": 104,
   "id": "00d9d221-bc85-4dde-8674-d959b5411683",
   "metadata": {},
   "outputs": [],
   "source": [
    "sample_size = 10000\n",
    "documents = sample(list(documents), sample_size)"
   ]
  },
  {
   "cell_type": "markdown",
   "id": "fb176a8e-b47c-4be5-9813-8cfcc4e6e924",
   "metadata": {},
   "source": [
    "### Tokenize"
   ]
  },
  {
   "cell_type": "code",
   "execution_count": 105,
   "id": "6720ed92-76c5-4cb5-be5d-63834eabc623",
   "metadata": {
    "scrolled": true
   },
   "outputs": [],
   "source": [
    "from gensim.parsing.preprocessing import preprocess_string\n",
    "\n",
    "# remove common words and tokenize\n",
    "texts = [\n",
    "    preprocess_string(document)\n",
    "    for document in documents\n",
    "]"
   ]
  },
  {
   "cell_type": "code",
   "execution_count": null,
   "id": "f12513cc-165f-4ab9-bb52-865329831218",
   "metadata": {},
   "outputs": [],
   "source": []
  },
  {
   "cell_type": "code",
   "execution_count": 106,
   "id": "d759e8f8-08e3-41f1-b7f9-152df5e392d6",
   "metadata": {},
   "outputs": [],
   "source": [
    "from collections import defaultdict\n",
    "\n",
    "# remove words that appear only once\n",
    "frequency = defaultdict(int)\n",
    "for text in texts:\n",
    "    for token in text:\n",
    "        frequency[token] += 1\n",
    "\n",
    "texts = [\n",
    "    [token for token in text if frequency[token] > 1]\n",
    "    for text in texts\n",
    "]"
   ]
  },
  {
   "cell_type": "code",
   "execution_count": null,
   "id": "5c81f109-4529-405f-aa2d-8306bd24dfd2",
   "metadata": {},
   "outputs": [],
   "source": []
  },
  {
   "cell_type": "code",
   "execution_count": 107,
   "id": "af31cf4a-c4b9-4a9a-9852-ae6fbf213dba",
   "metadata": {},
   "outputs": [],
   "source": [
    "from gensim import corpora\n",
    "\n",
    "dictionary = corpora.Dictionary(texts)\n",
    "corpus = [dictionary.doc2bow(text) for text in texts]"
   ]
  },
  {
   "cell_type": "code",
   "execution_count": null,
   "id": "8b67377e-2f3f-46b3-b07a-1d8f84f2307d",
   "metadata": {},
   "outputs": [],
   "source": []
  },
  {
   "cell_type": "markdown",
   "id": "0a574936-27d0-4d38-bcb3-c176437d0831",
   "metadata": {},
   "source": [
    "## Apply single LDA\n",
    "Simple 1-topic LDA"
   ]
  },
  {
   "cell_type": "code",
   "execution_count": 108,
   "id": "94ce6658-98fa-4fba-9a6b-d80332aa4847",
   "metadata": {},
   "outputs": [],
   "source": [
    "lda_model = LdaModel(corpus, id2word=dictionary, num_topics=1)\n",
    "corpus_lda = lda_model[corpus]"
   ]
  },
  {
   "cell_type": "code",
   "execution_count": 109,
   "id": "cd0c71c7-0c8e-4723-b76f-d91c1ac45c6a",
   "metadata": {},
   "outputs": [
    {
     "data": {
      "text/plain": [
       "[(0,\n",
       "  '0.017*\"model\" + 0.014*\"learn\" + 0.010*\"data\" + 0.009*\"method\" + 0.008*\"propos\" + 0.008*\"network\" + 0.008*\"train\" + 0.007*\"base\" + 0.007*\"gener\" + 0.006*\"perform\"')]"
      ]
     },
     "execution_count": 109,
     "metadata": {},
     "output_type": "execute_result"
    }
   ],
   "source": [
    "lda_model.print_topics()"
   ]
  },
  {
   "cell_type": "markdown",
   "id": "b1de6a3a-027a-4942-9317-28843029b195",
   "metadata": {},
   "source": [
    "## Apply ensemble LDA"
   ]
  },
  {
   "cell_type": "code",
   "execution_count": 110,
   "id": "90f8c390-8c17-4077-8596-5aa82daf1622",
   "metadata": {},
   "outputs": [],
   "source": [
    "topic_model_class = LdaModel\n",
    "ensemble_workers = 12\n",
    "num_models = ensemble_workers * 2\n",
    "distance_workers = 12\n",
    "num_topics = 100\n",
    "passes = 2"
   ]
  },
  {
   "cell_type": "code",
   "execution_count": 111,
   "id": "75c2929d-c52a-4f5f-9b61-45509a1bec01",
   "metadata": {},
   "outputs": [],
   "source": [
    "ensemble = EnsembleLda(\n",
    "    corpus=corpus,\n",
    "    id2word=dictionary,\n",
    "    num_topics=num_topics,\n",
    "    passes=passes,\n",
    "    num_models=num_models,\n",
    "    topic_model_class=topic_model_class,\n",
    "    ensemble_workers=ensemble_workers,\n",
    "    distance_workers=distance_workers\n",
    ")"
   ]
  },
  {
   "cell_type": "markdown",
   "id": "100b345a-b85e-4e17-a908-4442cfa3c6b4",
   "metadata": {},
   "source": [
    "* Compute all the topics. In this setup: num_topics * num_workers\n",
    "* Compute the stable topics"
   ]
  },
  {
   "cell_type": "code",
   "execution_count": 112,
   "id": "e17e2407-5885-4e1b-8b5c-ccf10ef5bcca",
   "metadata": {},
   "outputs": [
    {
     "name": "stdout",
     "output_type": "stream",
     "text": [
      "2400\n",
      "7\n"
     ]
    }
   ],
   "source": [
    "print(len(ensemble.ttda))\n",
    "print(len(ensemble.get_topics()))"
   ]
  },
  {
   "cell_type": "code",
   "execution_count": 113,
   "id": "c53bee84-e9ce-4db0-86f1-1d7a253ffb23",
   "metadata": {},
   "outputs": [
    {
     "data": {
      "text/plain": [
       "[(0,\n",
       "  '0.154*\"graph\" + 0.044*\"node\" + 0.024*\"structur\" + 0.022*\"gnn\" + 0.022*\"network\" + 0.017*\"learn\" + 0.015*\"represent\" + 0.015*\"method\" + 0.015*\"propos\" + 0.015*\"inform\"'),\n",
       " (1,\n",
       "  '0.132*\"network\" + 0.074*\"neural\" + 0.036*\"deep\" + 0.025*\"layer\" + 0.023*\"convolut\" + 0.017*\"architectur\" + 0.015*\"train\" + 0.014*\"learn\" + 0.014*\"model\" + 0.011*\"cnn\"'),\n",
       " (2,\n",
       "  '0.086*\"attack\" + 0.078*\"adversari\" + 0.039*\"robust\" + 0.038*\"model\" + 0.019*\"perturb\" + 0.017*\"exampl\" + 0.017*\"train\" + 0.015*\"vulner\" + 0.014*\"defens\" + 0.011*\"input\"'),\n",
       " (3,\n",
       "  '0.164*\"imag\" + 0.017*\"method\" + 0.016*\"model\" + 0.014*\"train\" + 0.013*\"propos\" + 0.013*\"deep\" + 0.012*\"reconstruct\" + 0.010*\"gener\" + 0.010*\"base\" + 0.010*\"segment\"'),\n",
       " (4,\n",
       "  '0.182*\"cluster\" + 0.019*\"algorithm\" + 0.016*\"data\" + 0.014*\"method\" + 0.013*\"propos\" + 0.011*\"dataset\" + 0.010*\"mean\" + 0.010*\"spectral\" + 0.009*\"base\" + 0.009*\"result\"'),\n",
       " (5,\n",
       "  '0.111*\"user\" + 0.074*\"recommend\" + 0.040*\"item\" + 0.018*\"base\" + 0.017*\"prefer\" + 0.016*\"model\" + 0.012*\"system\" + 0.010*\"propos\" + 0.010*\"interact\" + 0.009*\"learn\"'),\n",
       " (6,\n",
       "  '0.112*\"domain\" + 0.049*\"target\" + 0.042*\"sourc\" + 0.037*\"adapt\" + 0.021*\"data\" + 0.017*\"transfer\" + 0.016*\"model\" + 0.015*\"learn\" + 0.012*\"gener\" + 0.011*\"propos\"')]"
      ]
     },
     "execution_count": 113,
     "metadata": {},
     "output_type": "execute_result"
    }
   ],
   "source": [
    "ensemble.print_topics()"
   ]
  },
  {
   "cell_type": "markdown",
   "id": "5bb3df1c-8dca-4be0-b266-ad829db5e930",
   "metadata": {},
   "source": [
    "## Tuning"
   ]
  },
  {
   "cell_type": "code",
   "execution_count": 114,
   "id": "b70a72ea-3ea1-4348-9e39-6d9afc9900fe",
   "metadata": {},
   "outputs": [
    {
     "data": {
      "text/plain": [
       "(2400, 2400)"
      ]
     },
     "execution_count": 114,
     "metadata": {},
     "output_type": "execute_result"
    }
   ],
   "source": [
    "shape = ensemble.asymmetric_distance_matrix.shape\n",
    "shape"
   ]
  },
  {
   "cell_type": "code",
   "execution_count": 115,
   "id": "c7aaf007-628e-4985-8513-ed1933d0e1ca",
   "metadata": {},
   "outputs": [
    {
     "name": "stdout",
     "output_type": "stream",
     "text": [
      "0.00707607284066436 0.7558168317569461 1.0\n"
     ]
    }
   ],
   "source": [
    "without_diagonal = ensemble.asymmetric_distance_matrix[~np.eye(shape[0], dtype=bool)].reshape(shape[0], -1)\n",
    "print(without_diagonal.min(), without_diagonal.mean(), without_diagonal.max())"
   ]
  },
  {
   "cell_type": "code",
   "execution_count": null,
   "id": "2957fc16-3610-4248-b268-05a0acc5dcf9",
   "metadata": {},
   "outputs": [],
   "source": []
  },
  {
   "cell_type": "code",
   "execution_count": 116,
   "id": "014285b1-1e72-4378-b460-356e37c1377e",
   "metadata": {},
   "outputs": [
    {
     "name": "stdout",
     "output_type": "stream",
     "text": [
      "eps: 0.00707607284066436 stable number of topics: 0\n",
      "eps: 0.04844790313897001 stable number of topics: 10\n",
      "eps: 0.08981973343727566 stable number of topics: 32\n",
      "eps: 0.1311915637355813 stable number of topics: 34\n",
      "eps: 0.17256339403388696 stable number of topics: 59\n",
      "eps: 0.21393522433219261 stable number of topics: 73\n",
      "eps: 0.25530705463049824 stable number of topics: 78\n",
      "eps: 0.2966788849288039 stable number of topics: 79\n",
      "eps: 0.33805071522710956 stable number of topics: 68\n",
      "eps: 0.3794225455254152 stable number of topics: 49\n",
      "eps: 0.42079437582372087 stable number of topics: 31\n",
      "eps: 0.4621662061220265 stable number of topics: 15\n",
      "eps: 0.5035380364203321 stable number of topics: 9\n",
      "eps: 0.5449098667186378 stable number of topics: 8\n",
      "eps: 0.5862816970169434 stable number of topics: 4\n",
      "eps: 0.6276535273152491 stable number of topics: 2\n",
      "eps: 0.6690253576135547 stable number of topics: 1\n",
      "eps: 0.7103971879118604 stable number of topics: 1\n",
      "eps: 0.7517690182101661 stable number of topics: 1\n",
      "eps: 0.7931408485084717 stable number of topics: 1\n",
      "eps: 0.8345126788067774 stable number of topics: 1\n",
      "eps: 0.875884509105083 stable number of topics: 1\n",
      "eps: 0.9172563394033887 stable number of topics: 1\n",
      "eps: 0.9586281697016943 stable number of topics: 1\n",
      "eps: 1.0 stable number of topics: 1\n"
     ]
    }
   ],
   "source": [
    "num_topics = []\n",
    "eps = np.linspace(without_diagonal.min(), without_diagonal.max(), num=25)\n",
    "for val in eps:\n",
    "    ensemble.recluster(eps=val, min_samples=2, min_cores=2)\n",
    "    topics = len(ensemble.get_topics())\n",
    "    num_topics.append(topics)\n",
    "    print(f\"eps: {val} stable number of topics: {topics}\")"
   ]
  },
  {
   "cell_type": "code",
   "execution_count": 117,
   "id": "c67a87bd-5dca-4944-9d82-59e8afd09653",
   "metadata": {},
   "outputs": [
    {
     "data": {
      "image/png": "[encoded data removed]",
      "text/plain": [
       "<Figure size 640x480 with 1 Axes>"
      ]
     },
     "metadata": {},
     "output_type": "display_data"
    }
   ],
   "source": [
    "plt.plot(eps, num_topics)\n",
    "plt.title(\"Number of stable topics in LDA\")\n",
    "plt.xlabel(\"epsilon\")\n",
    "plt.show()"
   ]
  },
  {
   "cell_type": "code",
   "execution_count": 118,
   "id": "b48fd62b-b855-4161-a09d-73f23e50454b",
   "metadata": {},
   "outputs": [
    {
     "data": {
      "text/plain": [
       "[(0,\n",
       "  '0.173*\"cluster\" + 0.041*\"algorithm\" + 0.011*\"method\" + 0.010*\"depth\" + 0.010*\"propos\" + 0.009*\"result\" + 0.008*\"number\" + 0.008*\"data\" + 0.008*\"paper\" + 0.007*\"correl\"'),\n",
       " (1,\n",
       "  '0.104*\"queri\" + 0.018*\"bia\" + 0.018*\"fair\" + 0.015*\"databas\" + 0.013*\"inform\" + 0.012*\"result\" + 0.009*\"retriev\" + 0.008*\"cell\" + 0.007*\"algorithm\" + 0.006*\"bias\"'),\n",
       " (2,\n",
       "  '0.098*\"transform\" + 0.053*\"attent\" + 0.027*\"path\" + 0.021*\"relat\" + 0.016*\"plan\" + 0.013*\"base\" + 0.012*\"mechan\" + 0.011*\"token\" + 0.011*\"encod\" + 0.010*\"bert\"'),\n",
       " (3,\n",
       "  '0.075*\"object\" + 0.030*\"social\" + 0.012*\"media\" + 0.010*\"video\" + 0.008*\"method\" + 0.008*\"point\" + 0.008*\"detect\" + 0.008*\"propos\" + 0.008*\"motion\" + 0.008*\"person\"'),\n",
       " (4,\n",
       "  '0.100*\"network\" + 0.056*\"neural\" + 0.025*\"deep\" + 0.024*\"convolut\" + 0.022*\"layer\" + 0.020*\"cnn\" + 0.016*\"architectur\" + 0.013*\"train\" + 0.012*\"model\" + 0.012*\"learn\"'),\n",
       " (5,\n",
       "  '0.097*\"agent\" + 0.051*\"human\" + 0.014*\"game\" + 0.013*\"interact\" + 0.011*\"environ\" + 0.011*\"behavior\" + 0.011*\"multi\" + 0.010*\"learn\" + 0.007*\"gener\" + 0.007*\"goal\"'),\n",
       " (6,\n",
       "  '0.141*\"test\" + 0.040*\"forecast\" + 0.016*\"calibr\" + 0.015*\"style\" + 0.014*\"cancer\" + 0.013*\"vector\" + 0.012*\"player\" + 0.012*\"demand\" + 0.011*\"max\" + 0.011*\"match\"'),\n",
       " (7,\n",
       "  '0.083*\"channel\" + 0.019*\"gener\" + 0.016*\"quantum\" + 0.016*\"sequenc\" + 0.013*\"phase\" + 0.013*\"model\" + 0.010*\"propos\" + 0.009*\"base\" + 0.007*\"inform\" + 0.007*\"mutual\"'),\n",
       " (8,\n",
       "  '0.034*\"problem\" + 0.020*\"function\" + 0.020*\"approxim\" + 0.017*\"log\" + 0.016*\"solv\" + 0.015*\"epsilon\" + 0.015*\"point\" + 0.013*\"algorithm\" + 0.010*\"mathcal\" + 0.010*\"optim\"')]"
      ]
     },
     "execution_count": 118,
     "metadata": {},
     "output_type": "execute_result"
    }
   ],
   "source": [
    "eps = 0.5035380364203321\n",
    "ensemble.recluster(eps=eps, min_samples=2, min_cores=2)\n",
    "ensemble.print_topics()"
   ]
  },
  {
   "cell_type": "code",
   "execution_count": null,
   "id": "1d4be2c2-5482-4117-b167-35b1ce8faff2",
   "metadata": {},
   "outputs": [],
   "source": []
  }
 ],
 "metadata": {
  "kernelspec": {
   "display_name": "Python 3 (ipykernel)",
   "language": "python",
   "name": "python3"
  },
  "language_info": {
   "codemirror_mode": {
    "name": "ipython",
    "version": 3
   },
   "file_extension": ".py",
   "mimetype": "text/x-python",
   "name": "python",
   "nbconvert_exporter": "python",
   "pygments_lexer": "ipython3",
   "version": "3.12.2"
  }
 },
 "nbformat": 4,
 "nbformat_minor": 5
}
