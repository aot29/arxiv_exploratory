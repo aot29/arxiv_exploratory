{
 "cells": [
  {
   "cell_type": "markdown",
   "id": "1a150c03-281a-446f-a161-3a771ed5b7e1",
   "metadata": {},
   "source": [
    "## Metadata EDA"
   ]
  },
  {
   "cell_type": "markdown",
   "id": "215c718f-f35e-45dd-b63d-46466b53b728",
   "metadata": {},
   "source": [
    "### Submitted vs. published papers"
   ]
  },
  {
   "cell_type": "code",
   "execution_count": null,
   "id": "533e5434-3b93-4a99-a0fe-dfd1f267ad2f",
   "metadata": {},
   "outputs": [],
   "source": [
    "idx = arxiv_metadata['journal-ref'].isna()\n",
    "arxiv_published = arxiv_metadata[~idx]\n",
    "pd.DataFrame.from_dict({'Submitted': arxiv_metadata.shape[0], 'Published': arxiv_published.shape[0]}, orient='index', columns=[\"Total papers\"])"
   ]
  },
  {
   "cell_type": "markdown",
   "id": "adac8c28-03d6-497a-b986-254731a381cf",
   "metadata": {},
   "source": [
    "### Papers by category"
   ]
  },
  {
   "cell_type": "code",
   "execution_count": null,
   "id": "c1ac5c7f-c750-4a37-bd35-c491991dac17",
   "metadata": {},
   "outputs": [],
   "source": [
    "keys = [\"Computer Science\", \"Economics\", \"Electrical Engineering and Systems Science\", \"Mathematics\", \"Physics\", \"Quantitative Biology\", \"Quantitative Finance\", \"Statistics\", \"Junk\"]\n",
    "\n",
    "# total papers submitted, by subject\n",
    "counts_total = {key:arxiv_metadata[key].sum() for key in keys if key in arxiv_metadata.keys()}\n",
    "counts_total_df = pd.DataFrame.from_dict(counts_total, orient='index', columns=[\"Count\"])\n",
    "counts_total_df['Subject'] = counts_total_df.index\n",
    "\n",
    "# papers published, by subject\n",
    "counts_published = {key:arxiv_published[key].sum() for key in keys if key in arxiv_published.keys()}\n",
    "counts_published_df = pd.DataFrame.from_dict(counts_published, orient='index', columns=[\"Count\"])\n",
    "counts_published_df['Subject'] = counts_published_df.index\n",
    "\n",
    "# merge both into 1 dataframe\n",
    "counts_df = counts_total_df.join(counts_published_df, on=\"Subject\", how='left', lsuffix='_left', rsuffix='_right')\n",
    "counts_df = counts_df.drop(['Subject', 'Subject_left', 'Subject_right'], axis=1)\n",
    "counts_df.rename(columns={'Count_left':'Submitted', 'Count_right':'Published'}, inplace=True)\n",
    "counts_df"
   ]
  },
  {
   "cell_type": "markdown",
   "id": "9224f290-1305-4305-bb9c-4ff275400b36",
   "metadata": {},
   "source": [
    "_Note that cummulated column totals my be different than total number of papers, as a paper may be in several categories._"
   ]
  },
  {
   "cell_type": "markdown",
   "id": "56ed4be1-a279-499e-a1ef-2f722f748654",
   "metadata": {},
   "source": [
    "### Published papers over time, by submisison month and subject."
   ]
  },
  {
   "cell_type": "code",
   "execution_count": null,
   "id": "74e2f8b9-4bfc-4625-a57b-2f5a11bb1032",
   "metadata": {},
   "outputs": [],
   "source": [
    "import pandas as pd\n",
    "from matplotlib import pyplot as plt \n",
    "import numpy as np\n",
    "\n",
    "%matplotlib inline"
   ]
  },
  {
   "cell_type": "code",
   "execution_count": null,
   "id": "c239dd8a-ea66-48cf-9fff-aeb4a074456e",
   "metadata": {},
   "outputs": [],
   "source": [
    "# Index by Created date. Sets a Pandas DatetimeIndex on the DataFrame\n",
    "#arxiv_df_published.set_index('Created', inplace=True)\n",
    "# Group by year and month, aggregate using size\n",
    "\n",
    "row_counts = arxiv_published.groupby([arxiv_published.Year, arxiv_published.Month]).size()\n",
    "row_counts.index.set_names(['Year', 'Month'], inplace=True)"
   ]
  },
  {
   "cell_type": "code",
   "execution_count": null,
   "id": "bd2082ef-8096-4b7e-980a-e7c4c722aab5",
   "metadata": {},
   "outputs": [],
   "source": [
    "row_counts.unstack(level=1)"
   ]
  },
  {
   "cell_type": "code",
   "execution_count": null,
   "id": "808ef605-f1c1-49c7-8057-31cd9ce0d4ff",
   "metadata": {},
   "outputs": [],
   "source": [
    "plt.title('Number of papers by creation date')\n",
    "min_year = arxiv_metadata.Year.min()\n",
    "max_year = arxiv_metadata.Year.max()\n",
    "plt.xticks(ticks=range(0, len(row_counts), 12), labels=range(min_year, max_year+1))\n",
    "plt.xlabel('Creation date')\n",
    "plt.ylabel('Papers count')\n",
    "\n",
    "# cumulative\n",
    "plt.plot(np.cumsum(list(row_counts)), color='tab:blue')\n",
    "\n",
    "# monthly\n",
    "plt.plot(list(row_counts), color='tab:red')\n",
    "\n",
    "plt.legend(['Cumulative', 'Monthly'])\n",
    "plt.show();"
   ]
  }
 ],
 "metadata": {
  "kernelspec": {
   "display_name": "Python 3 (ipykernel)",
   "language": "python",
   "name": "python3"
  },
  "language_info": {
   "codemirror_mode": {
    "name": "ipython",
    "version": 3
   },
   "file_extension": ".py",
   "mimetype": "text/x-python",
   "name": "python",
   "nbconvert_exporter": "python",
   "pygments_lexer": "ipython3",
   "version": "3.12.2"
  }
 },
 "nbformat": 4,
 "nbformat_minor": 5
}
