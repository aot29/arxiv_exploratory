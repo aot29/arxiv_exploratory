{
 "cells": [
  {
   "cell_type": "markdown",
   "id": "21407057-55c9-4e54-8477-fb1369492c29",
   "metadata": {},
   "source": [
    "## Collaboration EDA\n",
    "\n",
    "Exploratory data analysis focused on collaboration of authors on papers."
   ]
  },
  {
   "cell_type": "code",
   "execution_count": 12,
   "id": "7fd1ce2f-7e78-4643-b4a1-3ce01cd5d5bd",
   "metadata": {},
   "outputs": [],
   "source": [
    "import pandas as pd\n",
    "from matplotlib import pyplot as plt \n",
    "import numpy as np\n",
    "\n",
    "%matplotlib inline"
   ]
  },
  {
   "cell_type": "code",
   "execution_count": 4,
   "id": "3d31cad9-8252-48f6-bf64-50b0d71a7831",
   "metadata": {},
   "outputs": [
    {
     "name": "stderr",
     "output_type": "stream",
     "text": [
      "<timed exec>:3: DtypeWarning: Columns (1) have mixed types. Specify dtype option on import or set low_memory=False.\n"
     ]
    },
    {
     "name": "stdout",
     "output_type": "stream",
     "text": [
      "CPU times: user 12 s, sys: 1.5 s, total: 13.5 s\n",
      "Wall time: 13.5 s\n"
     ]
    }
   ],
   "source": [
    "%%time\n",
    "\n",
    "# load metadata extracted data in notebook 00_load_metadata\n",
    "# parse the author_parsed entries into a list of authors for each paper\n",
    "arxiv_metadata = pd.read_csv('data/arxiv_metadata.zip', converters={\"authors_parsed\": lambda x:[entry.strip('[]') for entry in  x.split(\"], \")]})"
   ]
  },
  {
   "cell_type": "markdown",
   "id": "a7e454c4-e779-4982-a2b9-e7025c196645",
   "metadata": {},
   "source": [
    "### Distribution of number of authors by paper"
   ]
  },
  {
   "cell_type": "code",
   "execution_count": 26,
   "id": "41ff7245-56de-4be2-a0c5-71ae85476a63",
   "metadata": {},
   "outputs": [],
   "source": [
    "def count_authors_by_paper(df):\n",
    "    return df['authors_parsed'].apply(lambda x: len(x))"
   ]
  },
  {
   "cell_type": "code",
   "execution_count": 28,
   "id": "e4455d51-5855-46f5-9998-61f82c8f5a9c",
   "metadata": {},
   "outputs": [
    {
     "data": {
      "text/plain": [
       "count    2.486206e+06\n",
       "mean     4.490322e+00\n",
       "std      2.232710e+01\n",
       "min      1.000000e+00\n",
       "25%      2.000000e+00\n",
       "50%      3.000000e+00\n",
       "75%      4.000000e+00\n",
       "max      2.832000e+03\n",
       "Name: authors_parsed, dtype: float64"
      ]
     },
     "execution_count": 28,
     "metadata": {},
     "output_type": "execute_result"
    }
   ],
   "source": [
    "author_counts = count_authors_by_paper(arxiv_metadata)\n",
    "author_counts.describe()"
   ]
  },
  {
   "cell_type": "code",
   "execution_count": 29,
   "id": "9bf00d4f-fcd2-470c-bb5b-56a7cc62151b",
   "metadata": {},
   "outputs": [
    {
     "data": {
      "text/plain": [
       "3.0"
      ]
     },
     "execution_count": 29,
     "metadata": {},
     "output_type": "execute_result"
    }
   ],
   "source": [
    "author_counts.median()"
   ]
  },
  {
   "cell_type": "markdown",
   "id": "b95ff83c-5c09-4220-9dc4-bee734eb4410",
   "metadata": {},
   "source": [
    "### Distribution of number of authors by paper and subject"
   ]
  },
  {
   "cell_type": "code",
   "execution_count": 20,
   "id": "05eb1c92-b850-4d6c-83c0-51bf8abe67c6",
   "metadata": {},
   "outputs": [],
   "source": [
    "arxiv_metadata['authors_count'] = author_counts"
   ]
  },
  {
   "cell_type": "code",
   "execution_count": 21,
   "id": "e78098f3-bfb3-4b13-9777-d8bbe7000f5e",
   "metadata": {},
   "outputs": [
    {
     "data": {
      "text/plain": [
       "pandas.core.frame.DataFrame"
      ]
     },
     "execution_count": 21,
     "metadata": {},
     "output_type": "execute_result"
    }
   ],
   "source": [
    "arxiv_metadata(arxiv_metadata['authors_count'], columns=)"
   ]
  },
  {
   "cell_type": "code",
   "execution_count": null,
   "id": "6baa11f1-6e81-48f8-9a86-3cd518f78fce",
   "metadata": {},
   "outputs": [],
   "source": [
    "author_counts_by_subject = {key:arxiv_metadata[key].sum() for key in keys if key in arxiv_metadata.keys()}\n",
    "counts_total_df = pd.DataFrame.from_dict(counts_total, orient='index', columns=[\"Count\"])\n",
    "counts_total_df['Subject'] = counts_total_df.index\n"
   ]
  },
  {
   "cell_type": "markdown",
   "id": "9147c945-0642-482f-be39-dc3e3371d871",
   "metadata": {},
   "source": [
    "sieh: https://pandas.pydata.org/docs/reference/api/pandas.DataFrame.plot.box.html"
   ]
  },
  {
   "cell_type": "code",
   "execution_count": 5,
   "id": "6a0648d4-9d92-481a-8bc6-7f8009da3976",
   "metadata": {},
   "outputs": [],
   "source": [
    "keys = [\"Computer Science\", \"Economics\", \"Electrical Engineering and Systems Science\", \"Mathematics\", \"Physics\", \"Quantitative Biology\", \"Quantitative Finance\", \"Statistics\", \"Junk\"]"
   ]
  },
  {
   "cell_type": "code",
   "execution_count": null,
   "id": "e6d3ff71-fee4-424a-a3b7-bd1376c716ef",
   "metadata": {},
   "outputs": [],
   "source": [
    "author_counts_by_subject = {key: [] for key in keys}\n",
    "for key in keys:\n",
    "    idx = df[key] == 1\n",
    "    papers_by_subject = arxiv_metadata[idx]\n",
    "    author_counts_by_subject[key] = []\n"
   ]
  }
 ],
 "metadata": {
  "kernelspec": {
   "display_name": "Python 3 (ipykernel)",
   "language": "python",
   "name": "python3"
  },
  "language_info": {
   "codemirror_mode": {
    "name": "ipython",
    "version": 3
   },
   "file_extension": ".py",
   "mimetype": "text/x-python",
   "name": "python",
   "nbconvert_exporter": "python",
   "pygments_lexer": "ipython3",
   "version": "3.12.2"
  }
 },
 "nbformat": 4,
 "nbformat_minor": 5
}
