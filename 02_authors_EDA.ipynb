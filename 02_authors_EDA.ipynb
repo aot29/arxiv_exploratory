{
 "cells": [
  {
   "cell_type": "markdown",
   "id": "79d118a8-2858-4cdf-992d-4f0c28fbcc7b",
   "metadata": {},
   "source": [
    "## Authors EDA\n",
    "Exploratory data analysis focused on authors."
   ]
  },
  {
   "cell_type": "code",
   "execution_count": 2,
   "id": "e7cc7c45-34f4-447e-ac50-f0163a695883",
   "metadata": {},
   "outputs": [],
   "source": [
    "import pandas as pd\n",
    "from matplotlib import pyplot as plt \n",
    "import numpy as np\n",
    "\n",
    "%matplotlib inline"
   ]
  },
  {
   "cell_type": "code",
   "execution_count": 3,
   "id": "f81edc59-fc9c-4c0b-961d-2cca0f06ea86",
   "metadata": {},
   "outputs": [
    {
     "name": "stderr",
     "output_type": "stream",
     "text": [
      "<timed exec>:2: DtypeWarning: Columns (1) have mixed types. Specify dtype option on import or set low_memory=False.\n"
     ]
    },
    {
     "name": "stdout",
     "output_type": "stream",
     "text": [
      "CPU times: user 10 s, sys: 1.36 s, total: 11.4 s\n",
      "Wall time: 11.4 s\n"
     ]
    }
   ],
   "source": [
    "%%time\n",
    "\n",
    "# load metadata extracted data in notebook 00_load_metadata\n",
    "arxiv_metadata = pd.read_csv('data/arxiv_metadata.zip')"
   ]
  },
  {
   "cell_type": "code",
   "execution_count": 16,
   "id": "48115685-ab0b-4ae9-841f-050a810d508c",
   "metadata": {},
   "outputs": [
    {
     "data": {
      "text/html": [
       "<div>\n",
       "<style scoped>\n",
       "    .dataframe tbody tr th:only-of-type {\n",
       "        vertical-align: middle;\n",
       "    }\n",
       "\n",
       "    .dataframe tbody tr th {\n",
       "        vertical-align: top;\n",
       "    }\n",
       "\n",
       "    .dataframe thead th {\n",
       "        text-align: right;\n",
       "    }\n",
       "</style>\n",
       "<table border=\"1\" class=\"dataframe\">\n",
       "  <thead>\n",
       "    <tr style=\"text-align: right;\">\n",
       "      <th></th>\n",
       "      <th>Count</th>\n",
       "    </tr>\n",
       "  </thead>\n",
       "  <tbody>\n",
       "    <tr>\n",
       "      <th>All authors</th>\n",
       "      <td>1853495</td>\n",
       "    </tr>\n",
       "    <tr>\n",
       "      <th>Published authors</th>\n",
       "      <td>644649</td>\n",
       "    </tr>\n",
       "  </tbody>\n",
       "</table>\n",
       "</div>"
      ],
      "text/plain": [
       "                     Count\n",
       "All authors        1853495\n",
       "Published authors   644649"
      ]
     },
     "execution_count": 16,
     "metadata": {},
     "output_type": "execute_result"
    }
   ],
   "source": [
    "def count_authors(df):\n",
    "    \"\"\"Given a dataframe, count the number of unique authors\"\"\"\n",
    "    count = [author for author in df['authors_parsed']]\n",
    "    return list(set(count))\n",
    "\n",
    "# ALL AUTHORS\n",
    "all_authors = count_authors(arxiv_metadata)\n",
    "\n",
    "# PUBLISHED AUTHORS\n",
    "idx = arxiv_metadata['journal-ref'].isna()\n",
    "arxiv_published = arxiv_metadata[~idx]\n",
    "published_authors = count_authors(arxiv_published)\n",
    "\n",
    "pd.DataFrame.from_dict(\n",
    "    {'All authors': len(all_authors), 'Published authors': len(published_authors)}, orient='index', columns=[\"Count\"])"
   ]
  },
  {
   "cell_type": "markdown",
   "id": "8486df67-8f96-48d4-8432-c8eeb2ea0a25",
   "metadata": {},
   "source": [
    "### Authors by subject\n"
   ]
  },
  {
   "cell_type": "code",
   "execution_count": 15,
   "id": "eba4bf2a-9009-4dbc-b8d9-b863a4555759",
   "metadata": {},
   "outputs": [],
   "source": [
    "keys = [\"Computer Science\", \"Economics\", \"Electrical Engineering and Systems Science\", \"Mathematics\", \"Physics\", \"Quantitative Biology\", \"Quantitative Finance\", \"Statistics\", \"Junk\"]"
   ]
  },
  {
   "cell_type": "code",
   "execution_count": 58,
   "id": "dad63f91-f3a0-4568-85cc-ed9fc94baa79",
   "metadata": {},
   "outputs": [
    {
     "data": {
      "text/html": [
       "<div>\n",
       "<style scoped>\n",
       "    .dataframe tbody tr th:only-of-type {\n",
       "        vertical-align: middle;\n",
       "    }\n",
       "\n",
       "    .dataframe tbody tr th {\n",
       "        vertical-align: top;\n",
       "    }\n",
       "\n",
       "    .dataframe thead th {\n",
       "        text-align: right;\n",
       "    }\n",
       "</style>\n",
       "<table border=\"1\" class=\"dataframe\">\n",
       "  <thead>\n",
       "    <tr style=\"text-align: right;\">\n",
       "      <th></th>\n",
       "      <th>Submitted</th>\n",
       "      <th>Published</th>\n",
       "    </tr>\n",
       "  </thead>\n",
       "  <tbody>\n",
       "    <tr>\n",
       "      <th>Computer Science</th>\n",
       "      <td>860031</td>\n",
       "      <td>173075</td>\n",
       "    </tr>\n",
       "    <tr>\n",
       "      <th>Economics</th>\n",
       "      <td>9815</td>\n",
       "      <td>1116</td>\n",
       "    </tr>\n",
       "    <tr>\n",
       "      <th>Electrical Engineering and Systems Science</th>\n",
       "      <td>84491</td>\n",
       "      <td>9399</td>\n",
       "    </tr>\n",
       "    <tr>\n",
       "      <th>Mathematics</th>\n",
       "      <td>639954</td>\n",
       "      <td>147285</td>\n",
       "    </tr>\n",
       "    <tr>\n",
       "      <th>Physics</th>\n",
       "      <td>1242872</td>\n",
       "      <td>625188</td>\n",
       "    </tr>\n",
       "    <tr>\n",
       "      <th>Quantitative Biology</th>\n",
       "      <td>45543</td>\n",
       "      <td>13224</td>\n",
       "    </tr>\n",
       "    <tr>\n",
       "      <th>Quantitative Finance</th>\n",
       "      <td>19105</td>\n",
       "      <td>3861</td>\n",
       "    </tr>\n",
       "    <tr>\n",
       "      <th>Statistics</th>\n",
       "      <td>118711</td>\n",
       "      <td>17667</td>\n",
       "    </tr>\n",
       "    <tr>\n",
       "      <th>Junk</th>\n",
       "      <td>3983</td>\n",
       "      <td>683</td>\n",
       "    </tr>\n",
       "  </tbody>\n",
       "</table>\n",
       "</div>"
      ],
      "text/plain": [
       "                                            Submitted  Published\n",
       "Computer Science                               860031     173075\n",
       "Economics                                        9815       1116\n",
       "Electrical Engineering and Systems Science      84491       9399\n",
       "Mathematics                                    639954     147285\n",
       "Physics                                       1242872     625188\n",
       "Quantitative Biology                            45543      13224\n",
       "Quantitative Finance                            19105       3861\n",
       "Statistics                                     118711      17667\n",
       "Junk                                             3983        683"
      ]
     },
     "execution_count": 58,
     "metadata": {},
     "output_type": "execute_result"
    }
   ],
   "source": [
    "# total papers submitted, by subject\n",
    "counts_total = {key:arxiv_metadata[key].sum() for key in keys if key in arxiv_metadata.keys()}\n",
    "counts_total_df = pd.DataFrame.from_dict(counts_total, orient='index', columns=[\"Count\"])\n",
    "counts_total_df['Subject'] = counts_total_df.index\n",
    "\n",
    "# papers published, by subject\n",
    "counts_published = {key:arxiv_published[key].sum() for key in keys if key in arxiv_published.keys()}\n",
    "counts_published_df = pd.DataFrame.from_dict(counts_published, orient='index', columns=[\"Count\"])\n",
    "counts_published_df['Subject'] = counts_published_df.index\n",
    "\n",
    "# merge both into 1 dataframe\n",
    "counts_df = counts_total_df.join(counts_published_df, on=\"Subject\", how='left', lsuffix='_left', rsuffix='_right')\n",
    "counts_df = counts_df.drop(['Subject', 'Subject_left', 'Subject_right'], axis=1)\n",
    "counts_df.rename(columns={'Count_left':'Submitted', 'Count_right':'Published'}, inplace=True)\n",
    "counts_df"
   ]
  },
  {
   "cell_type": "code",
   "execution_count": null,
   "id": "6e0680d0-8eae-4dac-8702-b76eecee0657",
   "metadata": {},
   "outputs": [],
   "source": []
  }
 ],
 "metadata": {
  "kernelspec": {
   "display_name": "Python 3 (ipykernel)",
   "language": "python",
   "name": "python3"
  },
  "language_info": {
   "codemirror_mode": {
    "name": "ipython",
    "version": 3
   },
   "file_extension": ".py",
   "mimetype": "text/x-python",
   "name": "python",
   "nbconvert_exporter": "python",
   "pygments_lexer": "ipython3",
   "version": "3.12.2"
  }
 },
 "nbformat": 4,
 "nbformat_minor": 5
}
