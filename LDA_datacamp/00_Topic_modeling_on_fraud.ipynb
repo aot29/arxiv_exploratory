{
 "cells": [
  {
   "cell_type": "markdown",
   "id": "9c88d4e9-0dfd-4ace-bf19-5968788d2ea5",
   "metadata": {},
   "source": [
    "Datacamp LDA example from:\n",
    "\n",
    "https://campus.datacamp.com/courses/fraud-detection-in-python/fraud-detection-using-text?ex=8\n",
    "\n",
    "LDA yields 2 Dirichlet distributions:\n",
    "1. Topics per text item (probabilities)\n",
    "2. Words per topic\n",
    "\n",
    "Implementation\n",
    "1. Clean the data\n",
    "2. Dictionary: which words appear how often in all of the text, Corpus: for each text line, the count of words that appear.\n",
    "3. Dictionary and corpus are the input of the LDA model\n",
    "4. Run the LDA model\n",
    "\n",
    "Results:\n",
    "1. How each word in the data is associated with each topic\n",
    "2. How each text item associates with topics"
   ]
  },
  {
   "cell_type": "code",
   "execution_count": 158,
   "id": "93bcaf15-5262-4aeb-8202-73c66fea664b",
   "metadata": {},
   "outputs": [],
   "source": [
    "import gensim\n",
    "from gensim import corpora\n",
    "from gensim.parsing.preprocessing import preprocess_string\n",
    "import pandas as pd\n",
    "from random import sample \n",
    "from sklearn.model_selection import train_test_split\n",
    "from matplotlib import pyplot as plt \n",
    "\n",
    "%matplotlib inline"
   ]
  },
  {
   "cell_type": "markdown",
   "id": "230f1dc1-bedd-496d-aef6-4c1043e6101f",
   "metadata": {},
   "source": [
    "## Load and clean the data\n",
    "\n",
    "* Load the metadata downloaded from archive\n",
    "* Keep only papers on natural language processing: original category 'cs.CL' (Computation and Language)\n",
    "* Load abstracts, merge with metadata dataframe\n",
    "* Check that all entries have an abstract\n",
    "* Keep only research papers (research papers are papers that are not review papers).\n"
   ]
  },
  {
   "cell_type": "code",
   "execution_count": 80,
   "id": "835fe54a-e989-431a-a5ed-0e30675c3efd",
   "metadata": {},
   "outputs": [
    {
     "name": "stderr",
     "output_type": "stream",
     "text": [
      "<timed exec>:2: DtypeWarning: Columns (1) have mixed types. Specify dtype option on import or set low_memory=False.\n"
     ]
    },
    {
     "name": "stdout",
     "output_type": "stream",
     "text": [
      "CPU times: user 8.69 s, sys: 746 ms, total: 9.44 s\n",
      "Wall time: 9.44 s\n"
     ]
    }
   ],
   "source": [
    "%%time\n",
    "\n",
    "# Load the metadata downloaded from archive\n",
    "arxiv_metadata = pd.read_csv('../data/arxiv_metadata.csv.zip', index_col=0)"
   ]
  },
  {
   "cell_type": "code",
   "execution_count": 81,
   "id": "244c1275-e140-466b-a252-f593dbc9dabc",
   "metadata": {},
   "outputs": [],
   "source": [
    "# Keep only papers on natural language processing: original category 'cs.CL' (Computation and Language)\n",
    "nlp_idx = ['cs.CL' in subject for subject in arxiv_metadata['categories']]\n",
    "arxiv_nlp = arxiv_metadata[nlp_idx]"
   ]
  },
  {
   "cell_type": "code",
   "execution_count": 82,
   "id": "b138f4d3-7e87-47c3-8fe6-cf6d9bfc365f",
   "metadata": {},
   "outputs": [
    {
     "name": "stderr",
     "output_type": "stream",
     "text": [
      "<timed exec>:2: DtypeWarning: Columns (1) have mixed types. Specify dtype option on import or set low_memory=False.\n"
     ]
    },
    {
     "name": "stdout",
     "output_type": "stream",
     "text": [
      "CPU times: user 9.32 s, sys: 802 ms, total: 10.1 s\n",
      "Wall time: 10.1 s\n"
     ]
    }
   ],
   "source": [
    "%%time\n",
    "\n",
    "# load abstracts extracted data in notebook 00_load_abstracts\n",
    "arxiv_abstracts = pd.read_csv('../data/arxiv_abstracts.csv.zip', index_col=0)"
   ]
  },
  {
   "cell_type": "code",
   "execution_count": 83,
   "id": "c8d4b700-4021-4f1f-ae61-8e25fd44343a",
   "metadata": {},
   "outputs": [],
   "source": [
    "# merge with metadata dataframe\n",
    "arxiv_abstracts_nlp = arxiv_abstracts[arxiv_abstracts.id.isin(arxiv_nlp.id)]\n",
    "arxiv_nlp_merged = pd.merge(arxiv_nlp, arxiv_abstracts_nlp, on='id')"
   ]
  },
  {
   "cell_type": "code",
   "execution_count": 84,
   "id": "4e9238ba-d2de-42fb-a322-ee8b98742a34",
   "metadata": {},
   "outputs": [],
   "source": [
    "# check that all entries have an abstract\n",
    "idx = arxiv_nlp_merged['abstract'].isna()\n",
    "arxiv_nlp_merged = arxiv_nlp_merged[~idx]"
   ]
  },
  {
   "cell_type": "code",
   "execution_count": 85,
   "id": "58706790-e910-43de-b749-cf05ba6d5d74",
   "metadata": {},
   "outputs": [],
   "source": [
    "# Keep only research papers (research papers are papers that are not review papers).\n",
    "research_paper_idx = ['systematic literature review' not in abstract.lower() for abstract in arxiv_nlp_merged.abstract]\n",
    "arxiv_nlp_merged = arxiv_nlp_merged[research_paper_idx]"
   ]
  },
  {
   "cell_type": "code",
   "execution_count": 144,
   "id": "4eb0df6b-c2cc-47ac-9026-288662344b7b",
   "metadata": {},
   "outputs": [
    {
     "name": "stdout",
     "output_type": "stream",
     "text": [
      "There are 55943 research papers on NLP with an abstract in the dataset.\n"
     ]
    }
   ],
   "source": [
    "print(f\"There are {len(arxiv_nlp_merged)} research papers on NLP with an abstract in the dataset.\")"
   ]
  },
  {
   "cell_type": "markdown",
   "id": "0833b8d1-1646-4d81-a733-073ab68f668f",
   "metadata": {},
   "source": [
    "## Split the data into train / test / validate datasets"
   ]
  },
  {
   "cell_type": "code",
   "execution_count": 153,
   "id": "1e587725-c304-486f-8998-e321c446846e",
   "metadata": {},
   "outputs": [
    {
     "name": "stdout",
     "output_type": "stream",
     "text": [
      "The train dataset has 1000 rows, the test dataset 11189, the validation dataset 11189\n"
     ]
    }
   ],
   "source": [
    "arxiv_nlp_train, arxiv_nlp_test = train_test_split(arxiv_nlp_merged, test_size=0.2, train_size=0.8)\n",
    "arxiv_nlp_train, arxiv_nlp_validate = train_test_split(arxiv_nlp_merged, test_size=0.2, train_size=0.8)\n",
    "print(f\"The train dataset has {arxiv_nlp_train.shape[0]} rows, the test dataset {arxiv_nlp_test.shape[0]}, the validation dataset {arxiv_nlp_validate.shape[0]}\")"
   ]
  },
  {
   "cell_type": "markdown",
   "id": "99448c89-3104-4952-8008-84fd1fed9462",
   "metadata": {},
   "source": [
    "## Clean the data"
   ]
  },
  {
   "cell_type": "markdown",
   "id": "7f73ff75-d835-4db6-8a1a-83851c97eb41",
   "metadata": {},
   "source": [
    "Apply default pre-processing filters:\n",
    "strip_tags, strip_punctuation, strip_multiple_whitespaces, stric_numeric, remove_stopwords; strip_short, stem_text\n",
    "\n",
    "see: https://github.com/piskvorky/gensim/blob/develop/gensim/parsing/preprocessing.py"
   ]
  },
  {
   "cell_type": "code",
   "execution_count": 154,
   "id": "ecff0da0-dccd-43c6-b617-94d99c4fd85b",
   "metadata": {},
   "outputs": [],
   "source": [
    "def clean(abstracts):\n",
    "    texts = [\n",
    "        preprocess_string(text)\n",
    "        for text in abstracts\n",
    "    ]\n",
    "    return texts\n",
    "\n",
    "texts_train = clean(arxiv_nlp_train['abstract'])\n",
    "texts_test = clean(arxiv_nlp_test['abstract'])\n",
    "texts_validate = clean(arxiv_nlp_validate['abstract'])"
   ]
  },
  {
   "cell_type": "markdown",
   "id": "889e2abf-b319-4ebd-b486-6ba145eec431",
   "metadata": {},
   "source": [
    "## Create dictionary and corpus"
   ]
  },
  {
   "cell_type": "code",
   "execution_count": 155,
   "id": "e3ace54f-bbad-45da-a302-d4b8f2c3814e",
   "metadata": {},
   "outputs": [],
   "source": [
    "def dict_corpus(texts):\n",
    "    # Dictionary of the number of times a word appears in all of the text\n",
    "    dictionary = corpora.Dictionary(texts)\n",
    "    # Filter out uncommon words, keep the most common words\n",
    "    dictionary.filter_extremes(no_below=5, keep_n=50000)\n",
    "    # Corpus uses the bag-of-words format (bow), i.e. each row in the data is a list of words with their associated word counts.\n",
    "    corpus = [dictionary.doc2bow(text) for text in texts]\n",
    "    return dictionary, corpus"
   ]
  },
  {
   "cell_type": "markdown",
   "id": "67381d9e-5d6b-4a34-a429-8b0dca9add2d",
   "metadata": {},
   "source": [
    "Create a dictionary and a corpus for each dataset."
   ]
  },
  {
   "cell_type": "code",
   "execution_count": 156,
   "id": "1de15551-9253-4917-b692-d7a3a1cb009a",
   "metadata": {},
   "outputs": [],
   "source": [
    "dictionary_train, corpus_train = dict_corpus(texts_train)\n",
    "dictionary_test, corpus_test = dict_corpus(texts_test)\n",
    "dictionary_validate, corpus_validate = dict_corpus(texts_validate)"
   ]
  },
  {
   "cell_type": "markdown",
   "id": "27bfff00-eb8e-4f61-96b8-63ffb0665ffd",
   "metadata": {},
   "source": [
    "## Run the LDA model\n",
    "Fit the model on the training set, for different values of k.\n",
    "\n",
    "Validate the model by computing perplexity for different values of k.\n",
    "\n",
    "Find the k which yields a perplexity closest to 0.\n",
    "\n",
    "see: https://radimrehurek.com/gensim/models/ldamodel.html"
   ]
  },
  {
   "cell_type": "code",
   "execution_count": 173,
   "id": "e826d86e-58f0-46d2-8e19-29672aaeb031",
   "metadata": {},
   "outputs": [],
   "source": [
    "px = []\n",
    "num_topics = []\n",
    "max_k = 25\n",
    "for k in range(2, max_k + 1):\n",
    "    # Define the LDA model\n",
    "    ldamodel = gensim.models.ldamodel.LdaModel(corpus_train, num_topics=k, id2word=dictionary_train, passes=15)\n",
    "    num_topics.append(k)\n",
    "    px.append(ldamodel.log_perplexity(corpus_train))\n",
    "perplexity = pd.DataFrame.from_dict({'k': num_topics, 'val': px})"
   ]
  },
  {
   "cell_type": "code",
   "execution_count": 184,
   "id": "6523f254-f33e-4f3c-a740-e01632561b63",
   "metadata": {},
   "outputs": [
    {
     "data": {
      "image/png": "[encoded data removed]",
      "text/plain": [
       "<Figure size 640x480 with 1 Axes>"
      ]
     },
     "metadata": {},
     "output_type": "display_data"
    }
   ],
   "source": [
    "plt.plot(perplexity.k, perplexity.val)\n",
    "plt.title(\"Log Perplexity by number of topics\")\n",
    "plt.xlabel(\"k\")\n",
    "plt.show()"
   ]
  },
  {
   "cell_type": "code",
   "execution_count": 187,
   "id": "e6e91255-d1d0-4a73-99ff-721b94966767",
   "metadata": {},
   "outputs": [
    {
     "data": {
      "text/plain": [
       "3.0"
      ]
     },
     "execution_count": 187,
     "metadata": {},
     "output_type": "execute_result"
    }
   ],
   "source": [
    "# Find the best k value \n",
    "best_k = perplexity.sort_values('val', ascending=False).iloc[0]['k']\n",
    "best_k"
   ]
  },
  {
   "cell_type": "markdown",
   "id": "a34de2d2-a692-47b7-9897-5030f8fd0de2",
   "metadata": {},
   "source": [
    "## Refit the model, with best k"
   ]
  },
  {
   "cell_type": "code",
   "execution_count": 188,
   "id": "07e811ea-fc68-4bc0-9aae-8cab2874f4b8",
   "metadata": {},
   "outputs": [],
   "source": [
    "ldamodel = gensim.models.ldamodel.LdaModel(corpus_train, num_topics=best_k, id2word=dictionary_train, passes=15)"
   ]
  },
  {
   "cell_type": "markdown",
   "id": "3e3abaab-df7e-4967-9437-a55344920bff",
   "metadata": {},
   "source": [
    "Print the topics, with top words"
   ]
  },
  {
   "cell_type": "code",
   "execution_count": 189,
   "id": "dbad8f4c-b4a7-4ec5-b3a6-7bd2dd73405f",
   "metadata": {},
   "outputs": [
    {
     "name": "stdout",
     "output_type": "stream",
     "text": [
      "(0, '0.017*\"task\" + 0.015*\"train\" + 0.012*\"data\" + 0.012*\"perform\" + 0.011*\"gener\"')\n",
      "(1, '0.015*\"task\" + 0.012*\"base\" + 0.011*\"word\" + 0.011*\"text\" + 0.010*\"propos\"')\n",
      "(2, '0.014*\"gener\" + 0.010*\"base\" + 0.009*\"question\" + 0.008*\"evalu\" + 0.008*\"llm\"')\n"
     ]
    }
   ],
   "source": [
    "topics = ldamodel.print_topics(num_words=5)\n",
    "for topic in topics:\n",
    "    print(topic)"
   ]
  },
  {
   "cell_type": "code",
   "execution_count": null,
   "id": "df27008c-7d50-4955-bdc8-6152d4f27a83",
   "metadata": {},
   "outputs": [],
   "source": []
  },
  {
   "cell_type": "markdown",
   "id": "e309c7e3-5e1d-44f9-a8aa-c4004dc849a0",
   "metadata": {},
   "source": [
    "## Visualize the results"
   ]
  },
  {
   "cell_type": "code",
   "execution_count": 118,
   "id": "8aab3b0f-2cfb-4541-96a4-27759e2d5bc3",
   "metadata": {},
   "outputs": [],
   "source": [
    "#import pyLDAvis.gensim"
   ]
  },
  {
   "cell_type": "code",
   "execution_count": 120,
   "id": "9be28d53-254f-446c-90d4-9417b4f424ae",
   "metadata": {},
   "outputs": [],
   "source": [
    "#lda_display = pyLDAvis.gensim.prepare(ldamodel, corpus, dictionary, sort_topics=False)\n",
    "#pyLDAvis.display(lda_display)"
   ]
  },
  {
   "cell_type": "markdown",
   "id": "3a0481e1-e746-4915-9d5f-eecaf85a524a",
   "metadata": {},
   "source": [
    "Best results have:\n",
    "* non-overlapping bubbles\n",
    "* large, same-sized bubbles"
   ]
  },
  {
   "cell_type": "markdown",
   "id": "ce4e0082-9f0a-4dbd-9488-1319172e03d2",
   "metadata": {},
   "source": [
    "## Assign topics to the data\n",
    "\n",
    "Aggregate topic information in a dataframe (see: https://campus.datacamp.com/courses/fraud-detection-in-python/fraud-detection-using-text?ex=11)"
   ]
  },
  {
   "cell_type": "code",
   "execution_count": 190,
   "id": "068ad21c-01cf-4ffb-8fad-61d9cee94b15",
   "metadata": {},
   "outputs": [],
   "source": [
    "def get_topic_details(ldamodel, corpus):\n",
    "    topic_details_list = []\n",
    "    for i, row in enumerate(ldamodel[corpus]):\n",
    "        row = sorted(row, key=lambda x: (x[1]), reverse=True)\n",
    "        for j, (topic_num, prop_topic) in enumerate(row):\n",
    "            if j == 0:  # dominant topic\n",
    "                wp = ldamodel.show_topic(topic_num)\n",
    "                topic_details_list.append([topic_num, prop_topic])\n",
    "    topic_details_df = pd.DataFrame(topic_details_list)\n",
    "    topic_details_df.columns = ['Dominant_Topic', '% Score']\n",
    "    return topic_details_df"
   ]
  },
  {
   "cell_type": "code",
   "execution_count": 29,
   "id": "69f714aa-5208-4c78-8d32-ce9a5c0edaa9",
   "metadata": {},
   "outputs": [],
   "source": [
    "# put the original categories data in a dataframe\n",
    "#contents = pd.DataFrame()\n",
    "# combine with result of topic details function\n",
    "#topic_details = get_topic_details(ldamodel, corpus)\n",
    "#contents['Dominant Topic'] = topic_details['Dominant_Topic']\n",
    "#contents['% Score'] = topic_details['% Score']\n",
    "#contents['Original Subject'] = list(arxiv_ml_research_sampled['categories'])"
   ]
  },
  {
   "cell_type": "code",
   "execution_count": 30,
   "id": "f065e14e-e920-48dd-be55-43e5b2f51b1d",
   "metadata": {},
   "outputs": [
    {
     "data": {
      "text/html": [
       "<div>\n",
       "<style scoped>\n",
       "    .dataframe tbody tr th:only-of-type {\n",
       "        vertical-align: middle;\n",
       "    }\n",
       "\n",
       "    .dataframe tbody tr th {\n",
       "        vertical-align: top;\n",
       "    }\n",
       "\n",
       "    .dataframe thead th {\n",
       "        text-align: right;\n",
       "    }\n",
       "</style>\n",
       "<table border=\"1\" class=\"dataframe\">\n",
       "  <thead>\n",
       "    <tr style=\"text-align: right;\">\n",
       "      <th></th>\n",
       "      <th>Dominant Topic</th>\n",
       "      <th>% Score</th>\n",
       "      <th>Original Subject</th>\n",
       "    </tr>\n",
       "  </thead>\n",
       "  <tbody>\n",
       "    <tr>\n",
       "      <th>0</th>\n",
       "      <td>1</td>\n",
       "      <td>0.982688</td>\n",
       "      <td>cs.CY cs.AI</td>\n",
       "    </tr>\n",
       "    <tr>\n",
       "      <th>1</th>\n",
       "      <td>1</td>\n",
       "      <td>0.664624</td>\n",
       "      <td>stat.ML cs.LG</td>\n",
       "    </tr>\n",
       "    <tr>\n",
       "      <th>2</th>\n",
       "      <td>1</td>\n",
       "      <td>0.987672</td>\n",
       "      <td>cs.AI cs.RO</td>\n",
       "    </tr>\n",
       "    <tr>\n",
       "      <th>3</th>\n",
       "      <td>0</td>\n",
       "      <td>0.986132</td>\n",
       "      <td>cs.CL cs.AI</td>\n",
       "    </tr>\n",
       "    <tr>\n",
       "      <th>4</th>\n",
       "      <td>1</td>\n",
       "      <td>0.980300</td>\n",
       "      <td>cs.AI cs.LG cs.LO</td>\n",
       "    </tr>\n",
       "    <tr>\n",
       "      <th>5</th>\n",
       "      <td>0</td>\n",
       "      <td>0.793473</td>\n",
       "      <td>cs.LG stat.ML</td>\n",
       "    </tr>\n",
       "    <tr>\n",
       "      <th>6</th>\n",
       "      <td>1</td>\n",
       "      <td>0.986286</td>\n",
       "      <td>cs.CL cs.AI cs.LG</td>\n",
       "    </tr>\n",
       "    <tr>\n",
       "      <th>7</th>\n",
       "      <td>1</td>\n",
       "      <td>0.962259</td>\n",
       "      <td>cs.NE cs.AI cs.LG</td>\n",
       "    </tr>\n",
       "    <tr>\n",
       "      <th>8</th>\n",
       "      <td>1</td>\n",
       "      <td>0.543033</td>\n",
       "      <td>cs.LG stat.ML</td>\n",
       "    </tr>\n",
       "    <tr>\n",
       "      <th>9</th>\n",
       "      <td>0</td>\n",
       "      <td>0.985164</td>\n",
       "      <td>cs.LG cs.AI</td>\n",
       "    </tr>\n",
       "  </tbody>\n",
       "</table>\n",
       "</div>"
      ],
      "text/plain": [
       "   Dominant Topic   % Score   Original Subject\n",
       "0               1  0.982688        cs.CY cs.AI\n",
       "1               1  0.664624      stat.ML cs.LG\n",
       "2               1  0.987672        cs.AI cs.RO\n",
       "3               0  0.986132        cs.CL cs.AI\n",
       "4               1  0.980300  cs.AI cs.LG cs.LO\n",
       "5               0  0.793473      cs.LG stat.ML\n",
       "6               1  0.986286  cs.CL cs.AI cs.LG\n",
       "7               1  0.962259  cs.NE cs.AI cs.LG\n",
       "8               1  0.543033      cs.LG stat.ML\n",
       "9               0  0.985164        cs.LG cs.AI"
      ]
     },
     "execution_count": 30,
     "metadata": {},
     "output_type": "execute_result"
    }
   ],
   "source": [
    "#contents.head(10)"
   ]
  },
  {
   "cell_type": "code",
   "execution_count": 59,
   "id": "2c71e66b-525e-4308-ad70-4eb60c540ee7",
   "metadata": {},
   "outputs": [],
   "source": [
    "topic_subject_df = pd.DataFrame(columns=['Dominant Topic', 'cs.AI', 'cs.LG'])\n",
    "\n",
    "# topic 0, AI\n",
    "id_0 = list(contents['Dominant Topic'] == 0)\n",
    "id_ai = ['cs.AI' in subject for subject in contents['Original Subject']]\n",
    "topic_0_ai = sum([a and b for a, b in zip(id_ai, id_0)])\n",
    "\n",
    "# topic 0, LG\n",
    "id_lg = ['cs.LG' in subject for subject in contents['Original Subject']]\n",
    "topic_0_lg = sum([a and b for a, b in zip(id_lg, id_0)])\n",
    "\n",
    "# topic 1, AI\n",
    "id_1 = list(contents['Dominant Topic'] == 1)\n",
    "topic_1_ai = sum([a and b for a, b in zip(id_ai, id_1)])\n",
    "\n",
    "# topic 1, LG\n",
    "topic_1_lg = sum([a and b for a, b in zip(id_lg, id_1)])\n",
    "\n",
    "topic_subject_df = topic_subject_df.from_dict({'Dominant Topic':[0, 1], 'cs.AI': [topic_0_ai, topic_1_ai], 'cs.LG': [topic_0_lg, topic_1_lg]})"
   ]
  },
  {
   "cell_type": "code",
   "execution_count": 60,
   "id": "fbb4874d-b101-40ef-815e-962b0e70b97b",
   "metadata": {},
   "outputs": [
    {
     "data": {
      "text/html": [
       "<div>\n",
       "<style scoped>\n",
       "    .dataframe tbody tr th:only-of-type {\n",
       "        vertical-align: middle;\n",
       "    }\n",
       "\n",
       "    .dataframe tbody tr th {\n",
       "        vertical-align: top;\n",
       "    }\n",
       "\n",
       "    .dataframe thead th {\n",
       "        text-align: right;\n",
       "    }\n",
       "</style>\n",
       "<table border=\"1\" class=\"dataframe\">\n",
       "  <thead>\n",
       "    <tr style=\"text-align: right;\">\n",
       "      <th></th>\n",
       "      <th>Dominant Topic</th>\n",
       "      <th>cs.AI</th>\n",
       "      <th>cs.LG</th>\n",
       "    </tr>\n",
       "  </thead>\n",
       "  <tbody>\n",
       "    <tr>\n",
       "      <th>0</th>\n",
       "      <td>0</td>\n",
       "      <td>17</td>\n",
       "      <td>30</td>\n",
       "    </tr>\n",
       "    <tr>\n",
       "      <th>1</th>\n",
       "      <td>1</td>\n",
       "      <td>17</td>\n",
       "      <td>51</td>\n",
       "    </tr>\n",
       "  </tbody>\n",
       "</table>\n",
       "</div>"
      ],
      "text/plain": [
       "   Dominant Topic  cs.AI  cs.LG\n",
       "0               0     17     30\n",
       "1               1     17     51"
      ]
     },
     "execution_count": 60,
     "metadata": {},
     "output_type": "execute_result"
    }
   ],
   "source": [
    "topic_subject_df"
   ]
  },
  {
   "cell_type": "code",
   "execution_count": null,
   "id": "c23ee8ef-440c-43d6-ac46-7308c328925e",
   "metadata": {},
   "outputs": [],
   "source": []
  }
 ],
 "metadata": {
  "kernelspec": {
   "display_name": "Python 3 (ipykernel)",
   "language": "python",
   "name": "python3"
  },
  "language_info": {
   "codemirror_mode": {
    "name": "ipython",
    "version": 3
   },
   "file_extension": ".py",
   "mimetype": "text/x-python",
   "name": "python",
   "nbconvert_exporter": "python",
   "pygments_lexer": "ipython3",
   "version": "3.12.2"
  }
 },
 "nbformat": 4,
 "nbformat_minor": 5
}
