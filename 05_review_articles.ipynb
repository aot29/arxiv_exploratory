{
 "cells": [
  {
   "cell_type": "markdown",
   "id": "70059eae-6c16-4d22-9db3-164c0e22777f",
   "metadata": {},
   "source": [
    "# Benchmark articles\n",
    "* Load metadata, list articles related to machine learning\n",
    "* Load abstracts, keep only machine learning articles\n",
    "* Identify review papers by looking into the abstracts"
   ]
  },
  {
   "cell_type": "code",
   "execution_count": 1,
   "id": "5f59d713-bcc9-4c8a-ab2b-73c9ab74ad22",
   "metadata": {},
   "outputs": [],
   "source": [
    "import pandas as pd\n",
    "from matplotlib import pyplot as plt \n",
    "import numpy as np\n",
    "\n",
    "%matplotlib inline"
   ]
  },
  {
   "cell_type": "markdown",
   "id": "bb57220b-3ec6-4e9b-bac4-109704e4bf8f",
   "metadata": {},
   "source": [
    "## Load metadata, list articles related to machine learning"
   ]
  },
  {
   "cell_type": "code",
   "execution_count": 2,
   "id": "2dc0df6d-7cd6-4b00-a3f4-a6c06198646a",
   "metadata": {},
   "outputs": [
    {
     "name": "stderr",
     "output_type": "stream",
     "text": [
      "<timed exec>:2: DtypeWarning: Columns (1) have mixed types. Specify dtype option on import or set low_memory=False.\n"
     ]
    },
    {
     "name": "stdout",
     "output_type": "stream",
     "text": [
      "CPU times: user 9.16 s, sys: 1.25 s, total: 10.4 s\n",
      "Wall time: 11.2 s\n"
     ]
    }
   ],
   "source": [
    "%%time\n",
    "\n",
    "# load metadata extracted data in notebook 00_load_metadata\n",
    "arxiv_metadata = pd.read_csv('data/arxiv_metadata.csv.zip')"
   ]
  },
  {
   "cell_type": "code",
   "execution_count": 6,
   "id": "6080ba32-fea7-4cc3-92ec-54dd10e8a0c5",
   "metadata": {},
   "outputs": [],
   "source": [
    "# list articles related to machine learning\n",
    "ml_categories = ['cs.AI', 'cs.LG']\n",
    "arxiv_cs_idx = arxiv_metadata['Computer Science'] == 1\n",
    "arxiv_cs = arxiv_metadata[arxiv_cs_idx]\n",
    "arxiv_ml_idx = []\n",
    "for paper_categories in arxiv_cs['categories']:\n",
    "    found = False\n",
    "    for ml_category in ml_categories:\n",
    "        if ml_category in paper_categories:\n",
    "            found = True\n",
    "            break\n",
    "    arxiv_ml_idx.append(found)\n",
    "\n",
    "arxiv_ml = arxiv_cs[arxiv_ml_idx]"
   ]
  },
  {
   "cell_type": "markdown",
   "id": "c398335b-166a-4c3f-9d2b-2d2e48d5b9ea",
   "metadata": {},
   "source": [
    "## Load abstracts, keep only machine learning articles"
   ]
  },
  {
   "cell_type": "code",
   "execution_count": 7,
   "id": "bf7768a6-1501-441a-a658-658348138b66",
   "metadata": {},
   "outputs": [
    {
     "name": "stdout",
     "output_type": "stream",
     "text": [
      "CPU times: user 9.12 s, sys: 639 ms, total: 9.76 s\n",
      "Wall time: 9.76 s\n"
     ]
    },
    {
     "name": "stderr",
     "output_type": "stream",
     "text": [
      "<timed exec>:2: DtypeWarning: Columns (1) have mixed types. Specify dtype option on import or set low_memory=False.\n"
     ]
    }
   ],
   "source": [
    "%%time\n",
    "\n",
    "# load abstracts extracted data in notebook 00_load_abstracts\n",
    "arxiv_abstracts = pd.read_csv('data/arxiv_abstracts.csv.zip')"
   ]
  },
  {
   "cell_type": "code",
   "execution_count": 8,
   "id": "df78bc66-7efc-4dd8-aee7-ad7c28301043",
   "metadata": {},
   "outputs": [
    {
     "name": "stderr",
     "output_type": "stream",
     "text": [
      "/tmp/ipykernel_4190/3624878601.py:2: SettingWithCopyWarning: \n",
      "A value is trying to be set on a copy of a slice from a DataFrame.\n",
      "Try using .loc[row_indexer,col_indexer] = value instead\n",
      "\n",
      "See the caveats in the documentation: https://pandas.pydata.org/pandas-docs/stable/user_guide/indexing.html#returning-a-view-versus-a-copy\n",
      "  arxiv_ml['arxiv_id'] = arxiv_ml['id']\n",
      "/tmp/ipykernel_4190/3624878601.py:3: SettingWithCopyWarning: \n",
      "A value is trying to be set on a copy of a slice from a DataFrame.\n",
      "Try using .loc[row_indexer,col_indexer] = value instead\n",
      "\n",
      "See the caveats in the documentation: https://pandas.pydata.org/pandas-docs/stable/user_guide/indexing.html#returning-a-view-versus-a-copy\n",
      "  arxiv_abstracts_ml['arxiv_id'] = arxiv_abstracts_ml['id']\n"
     ]
    }
   ],
   "source": [
    "arxiv_abstracts_ml = arxiv_abstracts[arxiv_abstracts.id.isin(arxiv_ml.id)]\n",
    "arxiv_ml['arxiv_id'] = arxiv_ml['id']\n",
    "arxiv_abstracts_ml['arxiv_id'] = arxiv_abstracts_ml['id']\n",
    "arxiv_ml_merged = pd.merge(arxiv_ml, arxiv_abstracts_ml, on='arxiv_id')"
   ]
  },
  {
   "cell_type": "markdown",
   "id": "126050d9-76fa-4884-ab89-5c05f0a5cfd0",
   "metadata": {},
   "source": [
    "## Identify review papers by looking into the abstracts"
   ]
  },
  {
   "cell_type": "code",
   "execution_count": 9,
   "id": "126704fb-d3ec-41e0-b9ae-0ecc82ae728f",
   "metadata": {},
   "outputs": [
    {
     "name": "stdout",
     "output_type": "stream",
     "text": [
      "Found 114 potential review papers.\n"
     ]
    }
   ],
   "source": [
    "review_paper_idx = ['systematic literature review' in abstract.lower() for abstract in arxiv_ml_merged.abstract]\n",
    "print(f\"Found {sum(review_paper_idx)} potential review papers.\")"
   ]
  },
  {
   "cell_type": "code",
   "execution_count": 10,
   "id": "f8c9efe9-8ece-4768-92b8-26b4b1f6ae7d",
   "metadata": {},
   "outputs": [],
   "source": [
    "arxiv_ml_reviews = arxiv_ml_merged[review_paper_idx]"
   ]
  },
  {
   "cell_type": "markdown",
   "id": "bf220b90-8654-4f6a-9c76-986e4ae0e83d",
   "metadata": {},
   "source": [
    "## Save as compressed CSV"
   ]
  },
  {
   "cell_type": "code",
   "execution_count": 11,
   "id": "87d0fb12-3314-4af6-8277-b98634e09169",
   "metadata": {},
   "outputs": [],
   "source": [
    "import zipfile as zf\n",
    "\n",
    "with zf.ZipFile('data/arxiv_ml_reviews.csv.zip', 'w') as ziparchive:\n",
    "    ziparchive.writestr('arxiv_ml_reviews.csv', arxiv_ml_reviews.to_csv())"
   ]
  },
  {
   "cell_type": "markdown",
   "id": "0a41d917-338b-4145-adf7-d6b1f6a688e9",
   "metadata": {},
   "source": [
    "## Short EDA"
   ]
  },
  {
   "cell_type": "code",
   "execution_count": 12,
   "id": "08f6bc73-d82e-4162-b1cb-072e6971ea25",
   "metadata": {},
   "outputs": [
    {
     "data": {
      "text/plain": [
       "Index(['Unnamed: 0_x', 'id_x', 'submitter', 'authors', 'title', 'journal-ref',\n",
       "       'doi', 'report-no', 'categories', 'license', 'versions', 'update_date',\n",
       "       'authors_parsed', 'created', 'year', 'month', 'Computer Science',\n",
       "       'Economics', 'Electrical Engineering and Systems Science', 'Junk',\n",
       "       'Mathematics', 'Physics', 'Quantitative Biology',\n",
       "       'Quantitative Finance', 'Statistics', 'arxiv_id', 'Unnamed: 0_y',\n",
       "       'id_y', 'abstract', 'comments'],\n",
       "      dtype='object')"
      ]
     },
     "execution_count": 12,
     "metadata": {},
     "output_type": "execute_result"
    }
   ],
   "source": [
    "arxiv_ml_reviews.columns"
   ]
  },
  {
   "cell_type": "code",
   "execution_count": 13,
   "id": "c1df22dd-346f-487a-9b9d-2dbbfd4f4b43",
   "metadata": {},
   "outputs": [
    {
     "data": {
      "text/html": [
       "<div>\n",
       "<style scoped>\n",
       "    .dataframe tbody tr th:only-of-type {\n",
       "        vertical-align: middle;\n",
       "    }\n",
       "\n",
       "    .dataframe tbody tr th {\n",
       "        vertical-align: top;\n",
       "    }\n",
       "\n",
       "    .dataframe thead th {\n",
       "        text-align: right;\n",
       "    }\n",
       "</style>\n",
       "<table border=\"1\" class=\"dataframe\">\n",
       "  <thead>\n",
       "    <tr style=\"text-align: right;\">\n",
       "      <th></th>\n",
       "      <th>title</th>\n",
       "      <th>year</th>\n",
       "      <th>month</th>\n",
       "      <th>categories</th>\n",
       "    </tr>\n",
       "  </thead>\n",
       "  <tbody>\n",
       "    <tr>\n",
       "      <th>203757</th>\n",
       "      <td>Combining Machine Learning and Ontology: A Systematic Literature Review</td>\n",
       "      <td>2024</td>\n",
       "      <td>1</td>\n",
       "      <td>cs.AI cs.LG</td>\n",
       "    </tr>\n",
       "    <tr>\n",
       "      <th>204030</th>\n",
       "      <td>Exploring the Role of Convolutional Neural Networks (CNN) in Dental\\n  Radiography Segmentation: A Comprehensive Systematic Literature Review</td>\n",
       "      <td>2024</td>\n",
       "      <td>1</td>\n",
       "      <td>cs.CV cs.LG</td>\n",
       "    </tr>\n",
       "    <tr>\n",
       "      <th>204411</th>\n",
       "      <td>Artificial intelligence to automate the systematic review of scientific\\n  literature</td>\n",
       "      <td>2024</td>\n",
       "      <td>1</td>\n",
       "      <td>cs.IR cs.AI</td>\n",
       "    </tr>\n",
       "    <tr>\n",
       "      <th>205149</th>\n",
       "      <td>A Systematic Literature Review on Explainability for Machine/Deep\\n  Learning-based Software Engineering Research</td>\n",
       "      <td>2024</td>\n",
       "      <td>1</td>\n",
       "      <td>cs.SE cs.AI</td>\n",
       "    </tr>\n",
       "    <tr>\n",
       "      <th>198922</th>\n",
       "      <td>Visually Grounded Language Learning: a review of language games,\\n  datasets, tasks, and models</td>\n",
       "      <td>2023</td>\n",
       "      <td>12</td>\n",
       "      <td>cs.CL cs.AI</td>\n",
       "    </tr>\n",
       "    <tr>\n",
       "      <th>...</th>\n",
       "      <td>...</td>\n",
       "      <td>...</td>\n",
       "      <td>...</td>\n",
       "      <td>...</td>\n",
       "    </tr>\n",
       "    <tr>\n",
       "      <th>39488</th>\n",
       "      <td>Hybrid Recommender Systems: A Systematic Literature Review</td>\n",
       "      <td>2019</td>\n",
       "      <td>1</td>\n",
       "      <td>cs.IR cs.CY cs.LG</td>\n",
       "    </tr>\n",
       "    <tr>\n",
       "      <th>29666</th>\n",
       "      <td>Survey and cross-benchmark comparison of remaining time prediction\\n  methods in business process monitoring</td>\n",
       "      <td>2018</td>\n",
       "      <td>5</td>\n",
       "      <td>cs.AI cs.LG</td>\n",
       "    </tr>\n",
       "    <tr>\n",
       "      <th>29111</th>\n",
       "      <td>State-Space Abstractions for Probabilistic Inference: A Systematic\\n  Review</td>\n",
       "      <td>2018</td>\n",
       "      <td>4</td>\n",
       "      <td>cs.AI</td>\n",
       "    </tr>\n",
       "    <tr>\n",
       "      <th>17606</th>\n",
       "      <td>Towards Evidence-Based Ontology for Supporting Systematic Literature\\n  Review</td>\n",
       "      <td>2016</td>\n",
       "      <td>9</td>\n",
       "      <td>cs.DL cs.AI cs.SE</td>\n",
       "    </tr>\n",
       "    <tr>\n",
       "      <th>8169</th>\n",
       "      <td>A Review of Temporal Aspects of Hand Gesture Analysis Applied to\\n  Discourse Analysis and Natural Conversation</td>\n",
       "      <td>2013</td>\n",
       "      <td>12</td>\n",
       "      <td>cs.HC cs.AI</td>\n",
       "    </tr>\n",
       "  </tbody>\n",
       "</table>\n",
       "<p>114 rows × 4 columns</p>\n",
       "</div>"
      ],
      "text/plain": [
       "                                                                                                                                                title  \\\n",
       "203757                                                                        Combining Machine Learning and Ontology: A Systematic Literature Review   \n",
       "204030  Exploring the Role of Convolutional Neural Networks (CNN) in Dental\\n  Radiography Segmentation: A Comprehensive Systematic Literature Review   \n",
       "204411                                                          Artificial intelligence to automate the systematic review of scientific\\n  literature   \n",
       "205149                              A Systematic Literature Review on Explainability for Machine/Deep\\n  Learning-based Software Engineering Research   \n",
       "198922                                                Visually Grounded Language Learning: a review of language games,\\n  datasets, tasks, and models   \n",
       "...                                                                                                                                               ...   \n",
       "39488                                                                                      Hybrid Recommender Systems: A Systematic Literature Review   \n",
       "29666                                    Survey and cross-benchmark comparison of remaining time prediction\\n  methods in business process monitoring   \n",
       "29111                                                                    State-Space Abstractions for Probabilistic Inference: A Systematic\\n  Review   \n",
       "17606                                                                  Towards Evidence-Based Ontology for Supporting Systematic Literature\\n  Review   \n",
       "8169                                  A Review of Temporal Aspects of Hand Gesture Analysis Applied to\\n  Discourse Analysis and Natural Conversation   \n",
       "\n",
       "        year  month         categories  \n",
       "203757  2024      1        cs.AI cs.LG  \n",
       "204030  2024      1        cs.CV cs.LG  \n",
       "204411  2024      1        cs.IR cs.AI  \n",
       "205149  2024      1        cs.SE cs.AI  \n",
       "198922  2023     12        cs.CL cs.AI  \n",
       "...      ...    ...                ...  \n",
       "39488   2019      1  cs.IR cs.CY cs.LG  \n",
       "29666   2018      5        cs.AI cs.LG  \n",
       "29111   2018      4              cs.AI  \n",
       "17606   2016      9  cs.DL cs.AI cs.SE  \n",
       "8169    2013     12        cs.HC cs.AI  \n",
       "\n",
       "[114 rows x 4 columns]"
      ]
     },
     "execution_count": 13,
     "metadata": {},
     "output_type": "execute_result"
    }
   ],
   "source": [
    "pd.set_option('max_colwidth', None)\n",
    "arxiv_ml_reviews[['title', 'year', 'month', 'categories']].sort_values(['year', 'month'], ascending=False)"
   ]
  },
  {
   "cell_type": "code",
   "execution_count": null,
   "id": "f9d9b122-d3a9-407b-a746-63ae6c33eea8",
   "metadata": {},
   "outputs": [],
   "source": []
  }
 ],
 "metadata": {
  "kernelspec": {
   "display_name": "Python 3 (ipykernel)",
   "language": "python",
   "name": "python3"
  },
  "language_info": {
   "codemirror_mode": {
    "name": "ipython",
    "version": 3
   },
   "file_extension": ".py",
   "mimetype": "text/x-python",
   "name": "python",
   "nbconvert_exporter": "python",
   "pygments_lexer": "ipython3",
   "version": "3.12.2"
  }
 },
 "nbformat": 4,
 "nbformat_minor": 5
}
