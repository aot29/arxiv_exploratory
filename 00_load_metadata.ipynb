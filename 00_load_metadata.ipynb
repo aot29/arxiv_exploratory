{
 "cells": [
  {
   "cell_type": "markdown",
   "id": "7b5dddbc-2e3e-47e9-adee-76551c71efd9",
   "metadata": {},
   "source": [
    "# Load metadata\n",
    "\n",
    "arXiv.org submitters. (2024). arXiv Dataset [Data set]. Kaggle. https://doi.org/10.34740/KAGGLE/DSV/7548853\n",
    "\n",
    "* Download the data manually, put it in folder `data`.\n",
    "* Drop abstracts and comments (to save memory)\n",
    "* Load all the data into a dataframe"
   ]
  },
  {
   "cell_type": "code",
   "execution_count": 1,
   "id": "38dabe59-6b08-45ff-8c87-e894bb3900d2",
   "metadata": {},
   "outputs": [
    {
     "name": "stdout",
     "output_type": "stream",
     "text": [
      "Reading file\n"
     ]
    },
    {
     "ename": "KeyboardInterrupt",
     "evalue": "",
     "output_type": "error",
     "traceback": [
      "\u001b[0;31m---------------------------------------------------------------------------\u001b[0m",
      "\u001b[0;31mKeyboardInterrupt\u001b[0m                         Traceback (most recent call last)",
      "File \u001b[0;32m<timed exec>:9\u001b[0m\n",
      "File \u001b[0;32m<frozen codecs>:319\u001b[0m, in \u001b[0;36mdecode\u001b[0;34m(self, input, final)\u001b[0m\n",
      "\u001b[0;31mKeyboardInterrupt\u001b[0m: "
     ]
    }
   ],
   "source": [
    "%%time\n",
    "import pandas as pd\n",
    "import json\n",
    "\n",
    "frames = []\n",
    "max_bytes = -1  # 1024 * 1024 * 10  # max bytes to read from file\n",
    "# one json per line\n",
    "with open('data/arxiv-metadata-oai-snapshot.json') as json_file:    \n",
    "    print(\"Reading file\")\n",
    "    lines = json_file.readlines(max_bytes)\n",
    "    line_count = len(lines)\n",
    "    counter = 0\n",
    "    for line in lines:\n",
    "        data = json.loads(line)\n",
    "        frames.append(pd.json_normalize(data).drop('abstract', axis=1).drop('comments', axis=1))\n",
    "        counter += 1\n",
    "        if counter % 100000 == 0: print(f\"Processed {counter} / {line_count} lines\")\n",
    "arxiv_df = pd.concat(frames, ignore_index=True)  "
   ]
  },
  {
   "cell_type": "markdown",
   "id": "3aca0d7b-4ff8-4ff1-b530-03b0fa83ea70",
   "metadata": {},
   "source": [
    "## Data cleanup\n",
    "* ~~Keep paper only if journal-ref is not None~~"
   ]
  },
  {
   "cell_type": "code",
   "execution_count": 2,
   "id": "d071d37b-c627-47b6-8592-960c3e8fa58d",
   "metadata": {},
   "outputs": [],
   "source": [
    "#total = arxiv_df.shape[0]\n",
    "#idx = arxiv_df['journal-ref'].isna()\n",
    "#arxiv_df = arxiv_df[~idx]\n",
    "#arxiv_df = arxiv_df.reset_index()\n",
    "#print(f\"The cleaned up data has {arxiv_df.shape[0]} entries. {total - arxiv_df.shape[0]} entries were discarded.\")"
   ]
  },
  {
   "cell_type": "markdown",
   "id": "704ce990-c653-4192-87ef-60638c09b662",
   "metadata": {},
   "source": [
    "### Add a created date\n",
    "Extract date of first versin from the version column, add a 'created' date column."
   ]
  },
  {
   "cell_type": "code",
   "execution_count": 3,
   "id": "2c4b9494-e2d4-4271-ab8d-f234b0b62acf",
   "metadata": {},
   "outputs": [
    {
     "ename": "NameError",
     "evalue": "name 'arxiv_df' is not defined",
     "output_type": "error",
     "traceback": [
      "\u001b[0;31m---------------------------------------------------------------------------\u001b[0m",
      "\u001b[0;31mNameError\u001b[0m                                 Traceback (most recent call last)",
      "Cell \u001b[0;32mIn[3], line 1\u001b[0m\n\u001b[0;32m----> 1\u001b[0m created \u001b[38;5;241m=\u001b[39m [version[\u001b[38;5;241m0\u001b[39m][\u001b[38;5;124m'\u001b[39m\u001b[38;5;124mcreated\u001b[39m\u001b[38;5;124m'\u001b[39m] \u001b[38;5;28;01mfor\u001b[39;00m version \u001b[38;5;129;01min\u001b[39;00m \u001b[43marxiv_df\u001b[49m[\u001b[38;5;124m'\u001b[39m\u001b[38;5;124mversions\u001b[39m\u001b[38;5;124m'\u001b[39m]]\n\u001b[1;32m      2\u001b[0m arxiv_df[\u001b[38;5;124m'\u001b[39m\u001b[38;5;124mcreated\u001b[39m\u001b[38;5;124m'\u001b[39m] \u001b[38;5;241m=\u001b[39m pd\u001b[38;5;241m.\u001b[39mDatetimeIndex(created)\n\u001b[1;32m      3\u001b[0m arxiv_df[\u001b[38;5;124m'\u001b[39m\u001b[38;5;124myear\u001b[39m\u001b[38;5;124m'\u001b[39m] \u001b[38;5;241m=\u001b[39m [datetime\u001b[38;5;241m.\u001b[39myear \u001b[38;5;28;01mfor\u001b[39;00m datetime \u001b[38;5;129;01min\u001b[39;00m arxiv_df[\u001b[38;5;124m'\u001b[39m\u001b[38;5;124mcreated\u001b[39m\u001b[38;5;124m'\u001b[39m]]\n",
      "\u001b[0;31mNameError\u001b[0m: name 'arxiv_df' is not defined"
     ]
    }
   ],
   "source": [
    "created = [version[0]['created'] for version in arxiv_df['versions']]\n",
    "arxiv_df['created'] = pd.DatetimeIndex(created)\n",
    "arxiv_df['year'] = [datetime.year for datetime in arxiv_df['created']]\n",
    "arxiv_df['month'] = [datetime.month for datetime in arxiv_df['created']]"
   ]
  },
  {
   "cell_type": "markdown",
   "id": "c9f208bf-920b-4cc3-9f52-92d22c77715f",
   "metadata": {},
   "source": [
    "## Category\n",
    "Add a column with a less specific category, e.g. \"physics.gen-ph\" -> \"physics\"\n",
    "\n",
    "See: https://arxiv.org/category_taxonomy\n",
    "\n",
    "Note that \"math.GM\" and \"physics.gen-ph\" are junk categories."
   ]
  },
  {
   "cell_type": "code",
   "execution_count": null,
   "id": "5c7625d7-372d-411d-8a3e-9b55c4a1b977",
   "metadata": {},
   "outputs": [],
   "source": [
    "gen_categories = []  # the categories for all entries\n",
    "for categories in arxiv_df['categories']:\n",
    "    categories = categories.split()\n",
    "    entry_categories = []  # the categorie(s) for this publication\n",
    "    for category in categories:\n",
    "        entry_category = category\n",
    "        if (\"cs.\" in category) or (\"cmp-lg\" in category): entry_categories.append(\"Computer Science\")\n",
    "        elif \"econ.\" in category: entry_categories.append(\"Economics\")\n",
    "        elif \"eess.\" in category: entry_categories.append(\"Electrical Engineering and Systems Science\")\n",
    "        elif (\"math.\" in category) or (\"alg-geom\" in category) or (\"dg-ga\" in category) or (\"funct-an\" in category) or (\"dg-ga\" in category) or (\"q-alg\" in category): \n",
    "            if \"math.GM\" in category: entry_categories.append(\"Junk\")  # General Mathematics is a bin for papers that are obviously wrong\n",
    "            else: entry_categories.append(\"Mathematics\")\n",
    "        elif \"physics.gen-ph\" in category: entry_categories.append(\"Junk\")  # General Physics is a bin for papers that are obviously wrong\n",
    "        elif (\"astro-ph\" in category) or (\"cond-mat.\" in category) or (\"gr-qc\" in category) or \\\n",
    "             (\"hep-\" in category) or (\"math-ph\" in category) or (\"nlin.\" in category)  or (\"nucl-\" in category) or \\\n",
    "             (\"physics.\" in category) or (\"quant-ph\" in category) or (\"acc-phys\" in category) or (\"adap-org\" in category) or \\\n",
    "             (\"ao-sci\" in category) or (\"atom-ph\" in category) or (\"bayes-an\" in category) or \\\n",
    "             (\"chao-dyn\" in category) or (\"chem-ph\" in category) or (\"comp-gas\" in category) or \\\n",
    "             (\"cond-mat\" in category) or (\"mtrl-th\" in category) or (\"patt-sol\" in category) or \\\n",
    "             (\"plasm-ph\" in category) or (\"solv-int\" in category): entry_categories.append(\"Physics\")\n",
    "        elif (\"q-bio.\" in category) or (\"q-bio\" in category) or (\"supr-con\" in category): entry_categories.append(\"Quantitative Biology\")\n",
    "        elif \"q-fin\" in category: entry_categories.append(\"Quantitative Finance\")\n",
    "        elif \"stat.\" in category: entry_categories.append(\"Statistics\")\n",
    "        else: entry_categories.append(category)\n",
    "    entry_categories = list(set(entry_categories))\n",
    "    gen_categories.append(entry_categories)\n",
    "gen_categories = pd.Series(gen_categories)"
   ]
  },
  {
   "cell_type": "markdown",
   "id": "5b5c70be-4191-4fed-838b-28206970d751",
   "metadata": {},
   "source": [
    "One-hot encode the general categories"
   ]
  },
  {
   "cell_type": "code",
   "execution_count": null,
   "id": "02cad569-1087-4cb4-b881-aec7f861bfe0",
   "metadata": {},
   "outputs": [],
   "source": [
    "one_hot = gen_categories.str.join('|').str.get_dummies()\n",
    "arxiv_df = arxiv_df.join(one_hot)"
   ]
  },
  {
   "cell_type": "code",
   "execution_count": null,
   "id": "91720e12-41a6-4000-9aee-aa5fa4898aa9",
   "metadata": {},
   "outputs": [],
   "source": [
    "arxiv_df.head(3)"
   ]
  },
  {
   "cell_type": "code",
   "execution_count": null,
   "id": "33d1473b-3857-44a1-8ad7-7c815a70f2d6",
   "metadata": {},
   "outputs": [],
   "source": [
    "arxiv_df.columns"
   ]
  },
  {
   "cell_type": "code",
   "execution_count": null,
   "id": "87377b35-861b-4574-b265-d7ae60ff04e5",
   "metadata": {},
   "outputs": [],
   "source": []
  }
 ],
 "metadata": {
  "kernelspec": {
   "display_name": "Python 3 (ipykernel)",
   "language": "python",
   "name": "python3"
  },
  "language_info": {
   "codemirror_mode": {
    "name": "ipython",
    "version": 3
   },
   "file_extension": ".py",
   "mimetype": "text/x-python",
   "name": "python",
   "nbconvert_exporter": "python",
   "pygments_lexer": "ipython3",
   "version": "3.12.2"
  }
 },
 "nbformat": 4,
 "nbformat_minor": 5
}
