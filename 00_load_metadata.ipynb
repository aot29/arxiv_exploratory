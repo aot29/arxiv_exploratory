{
 "cells": [
  {
   "cell_type": "markdown",
   "id": "7b5dddbc-2e3e-47e9-adee-76551c71efd9",
   "metadata": {},
   "source": [
    "# Load metadata\n",
    "\n",
    "arXiv.org submitters. (2024). arXiv Dataset [Data set]. Kaggle. https://doi.org/10.34740/KAGGLE/DSV/7548853\n",
    "\n",
    "* Download the data manually, put it in folder `data`.\n",
    "* Load all the data into a dataframe"
   ]
  },
  {
   "cell_type": "code",
   "execution_count": 1,
   "id": "38dabe59-6b08-45ff-8c87-e894bb3900d2",
   "metadata": {},
   "outputs": [],
   "source": [
    "import pandas as pd\n",
    "import json\n",
    "\n",
    "frames = []\n",
    "max_bytes = -1  # 1024 * 1024 * 10  # max bytes to read from file\n",
    "# one json per line\n",
    "with open('data/arxiv-metadata-oai-snapshot.json') as json_file:    \n",
    "    lines = json_file.readlines(max_bytes)\n",
    "    for line in lines:\n",
    "        data = json.loads(line)\n",
    "#        data['entry_id'] = data.pop('id')  # rename 'id' to 'entry_id'\n",
    "        frames.append(pd.json_normalize(data))\n",
    "arxiv_df = pd.concat(frames, ignore_index=True)  "
   ]
  },
  {
   "cell_type": "markdown",
   "id": "3aca0d7b-4ff8-4ff1-b530-03b0fa83ea70",
   "metadata": {},
   "source": [
    "## Data cleanup\n",
    "* ~~Keep paper only if journal-ref is not None~~\n",
    "* Drop abstracts (to save memory)"
   ]
  },
  {
   "cell_type": "code",
   "execution_count": 2,
   "id": "d071d37b-c627-47b6-8592-960c3e8fa58d",
   "metadata": {},
   "outputs": [],
   "source": [
    "#total = arxiv_df.shape[0]\n",
    "#idx = arxiv_df['journal-ref'].isna()\n",
    "#arxiv_df = arxiv_df[~idx]\n",
    "#arxiv_df = arxiv_df.reset_index()\n",
    "#print(f\"The cleaned up data has {arxiv_df.shape[0]} entries. {total - arxiv_df.shape[0]} entries were discarded.\")"
   ]
  },
  {
   "cell_type": "code",
   "execution_count": 3,
   "id": "401e7d4f-b3da-4818-8740-2168181b9940",
   "metadata": {},
   "outputs": [],
   "source": [
    "arxiv_df = arxiv_df.drop('abstract', axis=1)"
   ]
  },
  {
   "cell_type": "markdown",
   "id": "704ce990-c653-4192-87ef-60638c09b662",
   "metadata": {},
   "source": [
    "### Add a created date\n",
    "Extract date of first versin from the version column, add a 'created' date column."
   ]
  },
  {
   "cell_type": "code",
   "execution_count": 4,
   "id": "2c4b9494-e2d4-4271-ab8d-f234b0b62acf",
   "metadata": {},
   "outputs": [],
   "source": [
    "created = [version[0]['created'] for version in arxiv_df['versions']]\n",
    "arxiv_df['created'] = pd.DatetimeIndex(created)\n",
    "arxiv_df['year'] = [datetime.year for datetime in arxiv_df['created']]\n",
    "arxiv_df['month'] = [datetime.month for datetime in arxiv_df['created']]"
   ]
  },
  {
   "cell_type": "markdown",
   "id": "c9f208bf-920b-4cc3-9f52-92d22c77715f",
   "metadata": {},
   "source": [
    "## Category\n",
    "Add a column with a less specific category, e.g. \"physics.gen-ph\" -> \"physics\"\n",
    "\n",
    "See: https://arxiv.org/category_taxonomy\n",
    "\n",
    "Note that \"math.GM\" and \"physics.gen-ph\" are junk categories."
   ]
  },
  {
   "cell_type": "code",
   "execution_count": 5,
   "id": "5c7625d7-372d-411d-8a3e-9b55c4a1b977",
   "metadata": {},
   "outputs": [],
   "source": [
    "gen_categories = []  # the categories for all entries\n",
    "for categories in arxiv_df['categories']:\n",
    "    categories = categories.split()\n",
    "    entry_categories = []  # the categorie(s) for this publication\n",
    "    for category in categories:\n",
    "        entry_category = category\n",
    "        if (\"cs.\" in category) or (\"cmp-lg\" in category): entry_categories.append(\"Computer Science\")\n",
    "        elif \"econ.\" in category: entry_categories.append(\"Economics\")\n",
    "        elif \"eess.\" in category: entry_categories.append(\"Electrical Engineering and Systems Science\")\n",
    "        elif (\"math.\" in category) or (\"alg-geom\" in category) or (\"dg-ga\" in category) or (\"funct-an\" in category) or (\"dg-ga\" in category) or (\"q-alg\" in category): \n",
    "            if \"math.GM\" in category: entry_categories.append(\"Junk\")  # General Mathematics is a bin for papers that are obviously wrong\n",
    "            else: entry_categories.append(\"Mathematics\")\n",
    "        elif \"physics.gen-ph\" in category: entry_categories.append(\"Junk\")  # General Physics is a bin for papers that are obviously wrong\n",
    "        elif (\"astro-ph\" in category) or (\"cond-mat.\" in category) or (\"gr-qc\" in category) or \\\n",
    "             (\"hep-\" in category) or (\"math-ph\" in category) or (\"nlin.\" in category)  or (\"nucl-\" in category) or \\\n",
    "             (\"physics.\" in category) or (\"quant-ph\" in category) or (\"acc-phys\" in category) or (\"adap-org\" in category) or \\\n",
    "             (\"ao-sci\" in category) or (\"atom-ph\" in category) or (\"bayes-an\" in category) or \\\n",
    "             (\"chao-dyn\" in category) or (\"chem-ph\" in category) or (\"comp-gas\" in category) or \\\n",
    "             (\"cond-mat\" in category) or (\"mtrl-th\" in category) or (\"patt-sol\" in category) or \\\n",
    "             (\"plasm-ph\" in category) or (\"solv-int\" in category): entry_categories.append(\"Physics\")\n",
    "        elif (\"q-bio.\" in category) or (\"q-bio\" in category) or (\"supr-con\" in category): entry_categories.append(\"Quantitative Biology\")\n",
    "        elif \"q-fin\" in category: entry_categories.append(\"Quantitative Finance\")\n",
    "        elif \"stat.\" in category: entry_categories.append(\"Statistics\")\n",
    "        else: entry_categories.append(category)\n",
    "    entry_categories = list(set(entry_categories))\n",
    "    gen_categories.append(entry_categories)\n",
    "gen_categories = pd.Series(gen_categories)"
   ]
  },
  {
   "cell_type": "markdown",
   "id": "5b5c70be-4191-4fed-838b-28206970d751",
   "metadata": {},
   "source": [
    "One-hot encode the general categories"
   ]
  },
  {
   "cell_type": "code",
   "execution_count": 6,
   "id": "02cad569-1087-4cb4-b881-aec7f861bfe0",
   "metadata": {},
   "outputs": [],
   "source": [
    "one_hot = gen_categories.str.join('|').str.get_dummies()\n",
    "arxiv_df = arxiv_df.join(one_hot)"
   ]
  },
  {
   "cell_type": "code",
   "execution_count": 7,
   "id": "91720e12-41a6-4000-9aee-aa5fa4898aa9",
   "metadata": {},
   "outputs": [
    {
     "data": {
      "text/html": [
       "<div>\n",
       "<style scoped>\n",
       "    .dataframe tbody tr th:only-of-type {\n",
       "        vertical-align: middle;\n",
       "    }\n",
       "\n",
       "    .dataframe tbody tr th {\n",
       "        vertical-align: top;\n",
       "    }\n",
       "\n",
       "    .dataframe thead th {\n",
       "        text-align: right;\n",
       "    }\n",
       "</style>\n",
       "<table border=\"1\" class=\"dataframe\">\n",
       "  <thead>\n",
       "    <tr style=\"text-align: right;\">\n",
       "      <th></th>\n",
       "      <th>id</th>\n",
       "      <th>submitter</th>\n",
       "      <th>authors</th>\n",
       "      <th>title</th>\n",
       "      <th>comments</th>\n",
       "      <th>journal-ref</th>\n",
       "      <th>doi</th>\n",
       "      <th>report-no</th>\n",
       "      <th>categories</th>\n",
       "      <th>license</th>\n",
       "      <th>...</th>\n",
       "      <th>month</th>\n",
       "      <th>Computer Science</th>\n",
       "      <th>Economics</th>\n",
       "      <th>Electrical Engineering and Systems Science</th>\n",
       "      <th>Junk</th>\n",
       "      <th>Mathematics</th>\n",
       "      <th>Physics</th>\n",
       "      <th>Quantitative Biology</th>\n",
       "      <th>Quantitative Finance</th>\n",
       "      <th>Statistics</th>\n",
       "    </tr>\n",
       "  </thead>\n",
       "  <tbody>\n",
       "    <tr>\n",
       "      <th>0</th>\n",
       "      <td>0704.0001</td>\n",
       "      <td>Pavel Nadolsky</td>\n",
       "      <td>C. Bal\\'azs, E. L. Berger, P. M. Nadolsky, C.-...</td>\n",
       "      <td>Calculation of prompt diphoton production cros...</td>\n",
       "      <td>37 pages, 15 figures; published version</td>\n",
       "      <td>Phys.Rev.D76:013009,2007</td>\n",
       "      <td>10.1103/PhysRevD.76.013009</td>\n",
       "      <td>ANL-HEP-PR-07-12</td>\n",
       "      <td>hep-ph</td>\n",
       "      <td>None</td>\n",
       "      <td>...</td>\n",
       "      <td>4</td>\n",
       "      <td>0</td>\n",
       "      <td>0</td>\n",
       "      <td>0</td>\n",
       "      <td>0</td>\n",
       "      <td>0</td>\n",
       "      <td>1</td>\n",
       "      <td>0</td>\n",
       "      <td>0</td>\n",
       "      <td>0</td>\n",
       "    </tr>\n",
       "    <tr>\n",
       "      <th>1</th>\n",
       "      <td>0704.0002</td>\n",
       "      <td>Louis Theran</td>\n",
       "      <td>Ileana Streinu and Louis Theran</td>\n",
       "      <td>Sparsity-certifying Graph Decompositions</td>\n",
       "      <td>To appear in Graphs and Combinatorics</td>\n",
       "      <td>None</td>\n",
       "      <td>None</td>\n",
       "      <td>None</td>\n",
       "      <td>math.CO cs.CG</td>\n",
       "      <td>http://arxiv.org/licenses/nonexclusive-distrib...</td>\n",
       "      <td>...</td>\n",
       "      <td>3</td>\n",
       "      <td>1</td>\n",
       "      <td>0</td>\n",
       "      <td>0</td>\n",
       "      <td>0</td>\n",
       "      <td>1</td>\n",
       "      <td>0</td>\n",
       "      <td>0</td>\n",
       "      <td>0</td>\n",
       "      <td>0</td>\n",
       "    </tr>\n",
       "    <tr>\n",
       "      <th>2</th>\n",
       "      <td>0704.0003</td>\n",
       "      <td>Hongjun Pan</td>\n",
       "      <td>Hongjun Pan</td>\n",
       "      <td>The evolution of the Earth-Moon system based o...</td>\n",
       "      <td>23 pages, 3 figures</td>\n",
       "      <td>None</td>\n",
       "      <td>None</td>\n",
       "      <td>None</td>\n",
       "      <td>physics.gen-ph</td>\n",
       "      <td>None</td>\n",
       "      <td>...</td>\n",
       "      <td>4</td>\n",
       "      <td>1</td>\n",
       "      <td>0</td>\n",
       "      <td>0</td>\n",
       "      <td>0</td>\n",
       "      <td>0</td>\n",
       "      <td>0</td>\n",
       "      <td>0</td>\n",
       "      <td>0</td>\n",
       "      <td>0</td>\n",
       "    </tr>\n",
       "  </tbody>\n",
       "</table>\n",
       "<p>3 rows × 25 columns</p>\n",
       "</div>"
      ],
      "text/plain": [
       "          id       submitter  \\\n",
       "0  0704.0001  Pavel Nadolsky   \n",
       "1  0704.0002    Louis Theran   \n",
       "2  0704.0003     Hongjun Pan   \n",
       "\n",
       "                                             authors  \\\n",
       "0  C. Bal\\'azs, E. L. Berger, P. M. Nadolsky, C.-...   \n",
       "1                    Ileana Streinu and Louis Theran   \n",
       "2                                        Hongjun Pan   \n",
       "\n",
       "                                               title  \\\n",
       "0  Calculation of prompt diphoton production cros...   \n",
       "1           Sparsity-certifying Graph Decompositions   \n",
       "2  The evolution of the Earth-Moon system based o...   \n",
       "\n",
       "                                  comments               journal-ref  \\\n",
       "0  37 pages, 15 figures; published version  Phys.Rev.D76:013009,2007   \n",
       "1    To appear in Graphs and Combinatorics                      None   \n",
       "2                      23 pages, 3 figures                      None   \n",
       "\n",
       "                          doi         report-no      categories  \\\n",
       "0  10.1103/PhysRevD.76.013009  ANL-HEP-PR-07-12          hep-ph   \n",
       "1                        None              None   math.CO cs.CG   \n",
       "2                        None              None  physics.gen-ph   \n",
       "\n",
       "                                             license  ... month  \\\n",
       "0                                               None  ...     4   \n",
       "1  http://arxiv.org/licenses/nonexclusive-distrib...  ...     3   \n",
       "2                                               None  ...     4   \n",
       "\n",
       "  Computer Science Economics Electrical Engineering and Systems Science  Junk  \\\n",
       "0                0         0                                          0     0   \n",
       "1                1         0                                          0     0   \n",
       "2                1         0                                          0     0   \n",
       "\n",
       "   Mathematics  Physics  Quantitative Biology  Quantitative Finance  \\\n",
       "0            0        1                     0                     0   \n",
       "1            1        0                     0                     0   \n",
       "2            0        0                     0                     0   \n",
       "\n",
       "   Statistics  \n",
       "0           0  \n",
       "1           0  \n",
       "2           0  \n",
       "\n",
       "[3 rows x 25 columns]"
      ]
     },
     "execution_count": 7,
     "metadata": {},
     "output_type": "execute_result"
    }
   ],
   "source": [
    "arxiv_df.head(3)"
   ]
  },
  {
   "cell_type": "code",
   "execution_count": 8,
   "id": "33d1473b-3857-44a1-8ad7-7c815a70f2d6",
   "metadata": {},
   "outputs": [
    {
     "data": {
      "text/plain": [
       "Index(['id', 'submitter', 'authors', 'title', 'comments', 'journal-ref', 'doi',\n",
       "       'report-no', 'categories', 'license', 'versions', 'update_date',\n",
       "       'authors_parsed', 'created', 'year', 'month', 'Computer Science',\n",
       "       'Economics', 'Electrical Engineering and Systems Science', 'Junk',\n",
       "       'Mathematics', 'Physics', 'Quantitative Biology',\n",
       "       'Quantitative Finance', 'Statistics'],\n",
       "      dtype='object')"
      ]
     },
     "execution_count": 8,
     "metadata": {},
     "output_type": "execute_result"
    }
   ],
   "source": [
    "arxiv_df.columns"
   ]
  },
  {
   "cell_type": "markdown",
   "id": "92ccad25-c297-4a1e-bc47-c30b49851f04",
   "metadata": {},
   "source": [
    "## Save as compressed CSV"
   ]
  },
  {
   "cell_type": "code",
   "execution_count": null,
   "id": "77d606b5-f662-420a-8e3a-35e77fda299e",
   "metadata": {},
   "outputs": [],
   "source": [
    "import zipfile as zf\n",
    "\n",
    "with zf.ZipFile('data/arxiv_metadata.zip', 'w') as ziparchive:\n",
    "    ziparchive.writestr('arxiv_metadata.csv', arxiv_df.to_csv())"
   ]
  },
  {
   "cell_type": "code",
   "execution_count": null,
   "id": "82f94dd6-1ef2-4c19-bec4-ed82568711f9",
   "metadata": {},
   "outputs": [],
   "source": []
  }
 ],
 "metadata": {
  "kernelspec": {
   "display_name": "Python 3 (ipykernel)",
   "language": "python",
   "name": "python3"
  },
  "language_info": {
   "codemirror_mode": {
    "name": "ipython",
    "version": 3
   },
   "file_extension": ".py",
   "mimetype": "text/x-python",
   "name": "python",
   "nbconvert_exporter": "python",
   "pygments_lexer": "ipython3",
   "version": "3.12.2"
  }
 },
 "nbformat": 4,
 "nbformat_minor": 5
}
