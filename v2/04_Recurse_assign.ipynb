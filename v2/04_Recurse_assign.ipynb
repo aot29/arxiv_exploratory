{
 "cells": [
  {
   "cell_type": "markdown",
   "id": "c7dfe898-7a60-4f86-bda4-08a82da6fe3e",
   "metadata": {},
   "source": [
    "## Recursively assign topics to the data\n",
    "\n",
    "1. Load the trained LDA model for the whole dataset\n",
    "2. Load the trained LDA models for each topic\n",
    "3. Load the test dataset\n",
    "4. Tokenize\n",
    "5. Assign topics to all entries in the test dataset\n",
    "6. Assign subtopics to each subtopic\n",
    "7. Save the assigned topics to a CSV file\n",
    "\n",
    "see: https://campus.datacamp.com/courses/fraud-detection-in-python/fraud-detection-using-text?ex=11"
   ]
  }
 ],
 "metadata": {
  "kernelspec": {
   "display_name": "Python 3 (ipykernel)",
   "language": "python",
   "name": "python3"
  },
  "language_info": {
   "codemirror_mode": {
    "name": "ipython",
    "version": 3
   },
   "file_extension": ".py",
   "mimetype": "text/x-python",
   "name": "python",
   "nbconvert_exporter": "python",
   "pygments_lexer": "ipython3",
   "version": "3.12.2"
  }
 },
 "nbformat": 4,
 "nbformat_minor": 5
}
