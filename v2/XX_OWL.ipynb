{
 "cells": [
  {
   "cell_type": "markdown",
   "id": "ef006a09-72e8-4183-bc71-9e363f64ca97",
   "metadata": {},
   "source": [
    "# Save topic model as an ontology\n",
    "* Open the trained model\n",
    "* Create necessary classes and properties\n",
    "\n",
    "see: https://owlready2.readthedocs.io/en/latest/index.html"
   ]
  },
  {
   "cell_type": "code",
   "execution_count": 1,
   "id": "8d837aa3-7cd3-4284-821a-47358a20199a",
   "metadata": {},
   "outputs": [],
   "source": [
    "import pickle\n",
    "from owlready2 import *"
   ]
  },
  {
   "cell_type": "markdown",
   "id": "1eba471e-8e66-4953-b7a9-2bafc56e4789",
   "metadata": {},
   "source": [
    "## Load the trained model\n",
    "The model was trained in notebook 01_Train_model"
   ]
  },
  {
   "cell_type": "code",
   "execution_count": 2,
   "id": "d418f1b6-0a18-4944-8782-ee3b6d907044",
   "metadata": {},
   "outputs": [],
   "source": [
    "with open('../models/lda_nlp_train.pickle', 'rb') as handle:\n",
    "    ldamodel = pickle.load(handle)"
   ]
  },
  {
   "cell_type": "markdown",
   "id": "e95806a8-19c6-456f-a14f-601b12e212a3",
   "metadata": {},
   "source": [
    "## Convert topics to OWL classes "
   ]
  },
  {
   "cell_type": "code",
   "execution_count": 3,
   "id": "5c3ce850-4f2d-4f29-b651-10beea500dc4",
   "metadata": {},
   "outputs": [],
   "source": [
    "# get all topics in the model\n",
    "topics = ldamodel.show_topics(formatted=False)\n",
    "\n",
    "# create a new empty ontology\n",
    "iri = \"http://fan.zib.de/aot29/topic\"\n",
    "ontology = get_ontology(f\"{iri}.owl\")\n",
    "\n",
    "#################\n",
    "#   datatypes   #\n",
    "#################\n",
    "\n",
    "class WordProbability:\n",
    "    def __init__(self, word, probability):\n",
    "        self.word = word\n",
    "        self.probability = probability\n",
    "\n",
    "def wp_parser(s):\n",
    "    splits = s.split(',')\n",
    "    word = splits[0].strip()\n",
    "    probability = float(splits[1].strip())\n",
    "    return(WordProbability(word, probability))\n",
    "    \n",
    "def wp_unparser(x):\n",
    "    return (f\"('{x.word}', {x.probability})\")    \n",
    "\n",
    "declare_datatype(WordProbability, f\"{iri}#WordProbability\", wp_parser, wp_unparser)\n",
    "\n",
    "with ontology:\n",
    "\n",
    "    #################\n",
    "    #    classes    #\n",
    "    #################\n",
    "    \n",
    "    class Topic(Thing):\n",
    "        pass\n",
    "\n",
    "    class has_parent(ObjectProperty):\n",
    "        domain = [Topic]\n",
    "        range = [Topic]\n",
    "\n",
    "    class topic_id(DataProperty, FunctionalProperty):\n",
    "        domain = [Topic]\n",
    "        range = [int]\n",
    "\n",
    "    class label(DataProperty, FunctionalProperty):\n",
    "        domain = [Topic]\n",
    "        range = [str]\n",
    "\n",
    "    class word_probabilities(DataProperty):\n",
    "        domain = [Topic]\n",
    "        range = [WordProbability]\n",
    "    \n",
    "    #################\n",
    "    #   instances   #\n",
    "    #################\n",
    "    \n",
    "    # the base topic instance for all topics is NLP\n",
    "    base_topic = Topic(\"NLP\")\n",
    "    \n",
    "    for topic in topics:\n",
    "        topic_id = topic[0]\n",
    "        name = f\"Topic-{topic_id}\"\n",
    "        label = str([topic[1][i][0] for i in range(0, 3)])  # use the first 3 words as the label\n",
    "        word_probabilities = str(topic[1])\n",
    "        new_topic = Topic(name, has_parent=[base_topic], topic_id=topic_id, label=label, word_probabilities=[word_probabilities])\n",
    "    "
   ]
  },
  {
   "cell_type": "code",
   "execution_count": 4,
   "id": "4aad30c6-de42-44c6-b3cd-cf09645cbb5c",
   "metadata": {},
   "outputs": [],
   "source": [
    "ontology.save(file='../data/topics.owl', format='rdfxml')"
   ]
  },
  {
   "cell_type": "code",
   "execution_count": null,
   "id": "2f537bbe-a5cd-463e-8554-558d3a84a922",
   "metadata": {},
   "outputs": [],
   "source": []
  }
 ],
 "metadata": {
  "kernelspec": {
   "display_name": "Python 3 (ipykernel)",
   "language": "python",
   "name": "python3"
  },
  "language_info": {
   "codemirror_mode": {
    "name": "ipython",
    "version": 3
   },
   "file_extension": ".py",
   "mimetype": "text/x-python",
   "name": "python",
   "nbconvert_exporter": "python",
   "pygments_lexer": "ipython3",
   "version": "3.12.2"
  }
 },
 "nbformat": 4,
 "nbformat_minor": 5
}
