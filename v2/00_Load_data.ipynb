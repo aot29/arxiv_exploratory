{
 "cells": [
  {
   "cell_type": "markdown",
   "id": "848c4c35-d848-4587-be23-a22f642c4c5a",
   "metadata": {},
   "source": [
    "# Load and clean the data\n",
    "\n",
    "* Load the metadata prepared in `../00_load_metadata.ipynb`\n",
    "* Keep only papers on natural language processing: original category 'cs.CL' (Computation and Language)\n",
    "* Load abstracts prepared in `../00_load_abstracts.ipynb`, merge with metadata dataframe\n",
    "* Check that all entries have an abstract\n",
    "* Keep only research papers (research papers are papers that are not review papers)."
   ]
  },
  {
   "cell_type": "code",
   "execution_count": 1,
   "id": "1f4dbed2-647d-436d-b08a-6e07b31674f1",
   "metadata": {},
   "outputs": [],
   "source": [
    "import pandas as pd\n",
    "from sklearn.model_selection import train_test_split\n"
   ]
  },
  {
   "cell_type": "code",
   "execution_count": 2,
   "id": "45a8c852-a313-4882-a469-316a9c1cf18f",
   "metadata": {},
   "outputs": [
    {
     "name": "stderr",
     "output_type": "stream",
     "text": [
      "<timed exec>:2: DtypeWarning: Columns (1) have mixed types. Specify dtype option on import or set low_memory=False.\n"
     ]
    },
    {
     "name": "stdout",
     "output_type": "stream",
     "text": [
      "CPU times: user 10.7 s, sys: 1.46 s, total: 12.1 s\n",
      "Wall time: 13.2 s\n"
     ]
    }
   ],
   "source": [
    "%%time\n",
    "\n",
    "# Load the metadata downloaded from archive\n",
    "arxiv_metadata = pd.read_csv('../data/arxiv_metadata.csv.zip', index_col=0)"
   ]
  },
  {
   "cell_type": "code",
   "execution_count": 3,
   "id": "daf09b7c-c571-46c7-9cd3-8cb5084e4f95",
   "metadata": {},
   "outputs": [],
   "source": [
    "# Keep only papers on natural language processing: original category 'cs.CL' (Computation and Language)\n",
    "nlp_idx = ['cs.CL' in subject for subject in arxiv_metadata['categories']]\n",
    "arxiv_nlp = arxiv_metadata[nlp_idx]"
   ]
  },
  {
   "cell_type": "code",
   "execution_count": 4,
   "id": "eda3d476-44e7-4222-98c8-805878cf9ff2",
   "metadata": {},
   "outputs": [
    {
     "name": "stdout",
     "output_type": "stream",
     "text": [
      "CPU times: user 11.4 s, sys: 1.27 s, total: 12.7 s\n",
      "Wall time: 14 s\n"
     ]
    },
    {
     "name": "stderr",
     "output_type": "stream",
     "text": [
      "<timed exec>:2: DtypeWarning: Columns (1) have mixed types. Specify dtype option on import or set low_memory=False.\n"
     ]
    }
   ],
   "source": [
    "%%time\n",
    "\n",
    "# load abstracts extracted data in notebook 00_load_abstracts\n",
    "arxiv_abstracts = pd.read_csv('../data/arxiv_abstracts.csv.zip', index_col=0)"
   ]
  },
  {
   "cell_type": "code",
   "execution_count": 5,
   "id": "1250eba1-791b-49c3-a4b1-1f26c8e65ca4",
   "metadata": {},
   "outputs": [],
   "source": [
    "# merge with metadata dataframe\n",
    "arxiv_abstracts_nlp = arxiv_abstracts[arxiv_abstracts.id.isin(arxiv_nlp.id)]\n",
    "arxiv_nlp_merged = pd.merge(arxiv_nlp, arxiv_abstracts_nlp, on='id')"
   ]
  },
  {
   "cell_type": "code",
   "execution_count": 6,
   "id": "bafa63b5-b863-4da1-8bb4-43a4e61bd174",
   "metadata": {},
   "outputs": [],
   "source": [
    "# check that all entries have an abstract\n",
    "idx = arxiv_nlp_merged['abstract'].isna()\n",
    "arxiv_nlp_merged = arxiv_nlp_merged[~idx]"
   ]
  },
  {
   "cell_type": "code",
   "execution_count": 14,
   "id": "188e72d4-187d-4c7f-83f2-6d2a446ff074",
   "metadata": {},
   "outputs": [],
   "source": [
    "# Keep only research papers (research papers are papers that are not review papers).\n",
    "research_paper_idx = pd.Series(['systematic literature review' not in abstract.lower() for abstract in arxiv_nlp_merged.abstract])\n",
    "arxiv_nlp_reviews = arxiv_nlp_merged[~research_paper_idx] \n",
    "arxiv_nlp_merged = arxiv_nlp_merged[research_paper_idx]"
   ]
  },
  {
   "cell_type": "code",
   "execution_count": 15,
   "id": "78628d4b-547f-4d3a-9064-5c71e7c309a2",
   "metadata": {},
   "outputs": [
    {
     "name": "stdout",
     "output_type": "stream",
     "text": [
      "There are 16 review papers on NLP with an abstract in the dataset.\n",
      "There are 54551 research papers on NLP with an abstract in the dataset.\n"
     ]
    }
   ],
   "source": [
    "print(f\"There are {len(arxiv_nlp_reviews)} review papers on NLP with an abstract in the dataset.\")\n",
    "print(f\"There are {len(arxiv_nlp_merged)} research papers on NLP with an abstract in the dataset.\")"
   ]
  },
  {
   "cell_type": "markdown",
   "id": "83040961-9e53-43a1-bacd-8433ec07d630",
   "metadata": {},
   "source": [
    "### List of review papers"
   ]
  },
  {
   "cell_type": "code",
   "execution_count": 17,
   "id": "7aab94f6-19b6-493f-ae49-314809130451",
   "metadata": {},
   "outputs": [
    {
     "data": {
      "text/html": [
       "<div>\n",
       "<style scoped>\n",
       "    .dataframe tbody tr th:only-of-type {\n",
       "        vertical-align: middle;\n",
       "    }\n",
       "\n",
       "    .dataframe tbody tr th {\n",
       "        vertical-align: top;\n",
       "    }\n",
       "\n",
       "    .dataframe thead th {\n",
       "        text-align: right;\n",
       "    }\n",
       "</style>\n",
       "<table border=\"1\" class=\"dataframe\">\n",
       "  <thead>\n",
       "    <tr style=\"text-align: right;\">\n",
       "      <th></th>\n",
       "      <th>id</th>\n",
       "      <th>title</th>\n",
       "      <th>authors</th>\n",
       "    </tr>\n",
       "  </thead>\n",
       "  <tbody>\n",
       "    <tr>\n",
       "      <th>28917</th>\n",
       "      <td>2110.03073</td>\n",
       "      <td>DRAFT-What you always wanted to know but could...</td>\n",
       "      <td>Mauricio Verano Merino, Jurgen Vinju, and Mark...</td>\n",
       "    </tr>\n",
       "    <tr>\n",
       "      <th>31350</th>\n",
       "      <td>2202.03086</td>\n",
       "      <td>Machine Translation from Signed to Spoken Lang...</td>\n",
       "      <td>Mathieu De Coster, Dimitar Shterionov, Mieke V...</td>\n",
       "    </tr>\n",
       "    <tr>\n",
       "      <th>31651</th>\n",
       "      <td>2202.12826</td>\n",
       "      <td>A Systematic Literature Review about Idea Mini...</td>\n",
       "      <td>Workneh Y. Ayele and Gustaf Juell-Skielse</td>\n",
       "    </tr>\n",
       "    <tr>\n",
       "      <th>35554</th>\n",
       "      <td>2208.01712</td>\n",
       "      <td>No Pattern, No Recognition: a Survey about Rep...</td>\n",
       "      <td>Mar\\'ilia Costa Rosendo Silva, Felipe Alves Si...</td>\n",
       "    </tr>\n",
       "    <tr>\n",
       "      <th>41841</th>\n",
       "      <td>2304.02768</td>\n",
       "      <td>Application of Transformers based methods in E...</td>\n",
       "      <td>Vitor Alcantara Batista, Alexandre Gon\\c{c}alv...</td>\n",
       "    </tr>\n",
       "    <tr>\n",
       "      <th>42230</th>\n",
       "      <td>2304.11065</td>\n",
       "      <td>Conversational Process Modeling: Can Generativ...</td>\n",
       "      <td>Nataliia Klievtsova, Janik-Vasily Benzin, Timo...</td>\n",
       "    </tr>\n",
       "    <tr>\n",
       "      <th>45548</th>\n",
       "      <td>2306.09079</td>\n",
       "      <td>Web of Things and Trends in Agriculture: A Sys...</td>\n",
       "      <td>Muhammad Shoaib Farooq, Shamyla Riaz, Atif Alvi</td>\n",
       "    </tr>\n",
       "    <tr>\n",
       "      <th>45883</th>\n",
       "      <td>2306.14905</td>\n",
       "      <td>PRISMA-DFLLM: An Extension of PRISMA for Syste...</td>\n",
       "      <td>Teo Susnjak</td>\n",
       "    </tr>\n",
       "    <tr>\n",
       "      <th>46394</th>\n",
       "      <td>2307.06483</td>\n",
       "      <td>Misclassification in Automated Content Analysi...</td>\n",
       "      <td>Nathan TeBlunthuis, Valerie Hase, Chung-Hong Chan</td>\n",
       "    </tr>\n",
       "    <tr>\n",
       "      <th>47613</th>\n",
       "      <td>2308.1242</td>\n",
       "      <td>Evolution of ESG-focused DLT Research: An NLP ...</td>\n",
       "      <td>Walter Hernandez, Kamil Tylinski, Alastair Moo...</td>\n",
       "    </tr>\n",
       "    <tr>\n",
       "      <th>51285</th>\n",
       "      <td>2311.05754</td>\n",
       "      <td>Deep Natural Language Feature Learning for Int...</td>\n",
       "      <td>Felipe Urrutia, Cristian Buc, Valentin Barriere</td>\n",
       "    </tr>\n",
       "    <tr>\n",
       "      <th>51674</th>\n",
       "      <td>2311.09367</td>\n",
       "      <td>A Survey on Online User Aggression: Content De...</td>\n",
       "      <td>Swapnil Mane, Suman Kundu, Rajesh Sharma</td>\n",
       "    </tr>\n",
       "    <tr>\n",
       "      <th>51856</th>\n",
       "      <td>2311.10777</td>\n",
       "      <td>A Systematic Review of Aspect-based Sentiment ...</td>\n",
       "      <td>Yan Cathy Hua, Paul Denny, Katerina Taskova, J...</td>\n",
       "    </tr>\n",
       "    <tr>\n",
       "      <th>51962</th>\n",
       "      <td>2311.12474</td>\n",
       "      <td>CSMeD: Bridging the Dataset Gap in Automated C...</td>\n",
       "      <td>Wojciech Kusa, Oscar E. Mendoza, Matthias Samw...</td>\n",
       "    </tr>\n",
       "    <tr>\n",
       "      <th>52426</th>\n",
       "      <td>2312.02431</td>\n",
       "      <td>Visually Grounded Language Learning: a review ...</td>\n",
       "      <td>Alessandro Suglia and Ioannis Konstas and Oliv...</td>\n",
       "    </tr>\n",
       "    <tr>\n",
       "      <th>52447</th>\n",
       "      <td>2312.02901</td>\n",
       "      <td>Concept Drift Adaptation in Text Stream Mining...</td>\n",
       "      <td>Cristiano Mesquita Garcia and Ramon Simoes Abi...</td>\n",
       "    </tr>\n",
       "  </tbody>\n",
       "</table>\n",
       "</div>"
      ],
      "text/plain": [
       "               id                                              title  \\\n",
       "28917  2110.03073  DRAFT-What you always wanted to know but could...   \n",
       "31350  2202.03086  Machine Translation from Signed to Spoken Lang...   \n",
       "31651  2202.12826  A Systematic Literature Review about Idea Mini...   \n",
       "35554  2208.01712  No Pattern, No Recognition: a Survey about Rep...   \n",
       "41841  2304.02768  Application of Transformers based methods in E...   \n",
       "42230  2304.11065  Conversational Process Modeling: Can Generativ...   \n",
       "45548  2306.09079  Web of Things and Trends in Agriculture: A Sys...   \n",
       "45883  2306.14905  PRISMA-DFLLM: An Extension of PRISMA for Syste...   \n",
       "46394  2307.06483  Misclassification in Automated Content Analysi...   \n",
       "47613   2308.1242  Evolution of ESG-focused DLT Research: An NLP ...   \n",
       "51285  2311.05754  Deep Natural Language Feature Learning for Int...   \n",
       "51674  2311.09367  A Survey on Online User Aggression: Content De...   \n",
       "51856  2311.10777  A Systematic Review of Aspect-based Sentiment ...   \n",
       "51962  2311.12474  CSMeD: Bridging the Dataset Gap in Automated C...   \n",
       "52426  2312.02431  Visually Grounded Language Learning: a review ...   \n",
       "52447  2312.02901  Concept Drift Adaptation in Text Stream Mining...   \n",
       "\n",
       "                                                 authors  \n",
       "28917  Mauricio Verano Merino, Jurgen Vinju, and Mark...  \n",
       "31350  Mathieu De Coster, Dimitar Shterionov, Mieke V...  \n",
       "31651          Workneh Y. Ayele and Gustaf Juell-Skielse  \n",
       "35554  Mar\\'ilia Costa Rosendo Silva, Felipe Alves Si...  \n",
       "41841  Vitor Alcantara Batista, Alexandre Gon\\c{c}alv...  \n",
       "42230  Nataliia Klievtsova, Janik-Vasily Benzin, Timo...  \n",
       "45548    Muhammad Shoaib Farooq, Shamyla Riaz, Atif Alvi  \n",
       "45883                                        Teo Susnjak  \n",
       "46394  Nathan TeBlunthuis, Valerie Hase, Chung-Hong Chan  \n",
       "47613  Walter Hernandez, Kamil Tylinski, Alastair Moo...  \n",
       "51285    Felipe Urrutia, Cristian Buc, Valentin Barriere  \n",
       "51674           Swapnil Mane, Suman Kundu, Rajesh Sharma  \n",
       "51856  Yan Cathy Hua, Paul Denny, Katerina Taskova, J...  \n",
       "51962  Wojciech Kusa, Oscar E. Mendoza, Matthias Samw...  \n",
       "52426  Alessandro Suglia and Ioannis Konstas and Oliv...  \n",
       "52447  Cristiano Mesquita Garcia and Ramon Simoes Abi...  "
      ]
     },
     "execution_count": 17,
     "metadata": {},
     "output_type": "execute_result"
    }
   ],
   "source": [
    "arxiv_nlp_reviews[['id', 'title', 'authors']]"
   ]
  },
  {
   "cell_type": "markdown",
   "id": "fee0d033-2a4b-426d-9ae3-312516f2a951",
   "metadata": {},
   "source": [
    "## Split the data into train / test datasets"
   ]
  },
  {
   "cell_type": "code",
   "execution_count": 9,
   "id": "ded9e9b8-fc72-477b-b5e0-a5f15ee600f3",
   "metadata": {},
   "outputs": [
    {
     "name": "stdout",
     "output_type": "stream",
     "text": [
      "The train dataset has 27275 rows, the test dataset 27276 rows\n"
     ]
    }
   ],
   "source": [
    "\n",
    "arxiv_nlp_train, arxiv_nlp_test = train_test_split(arxiv_nlp_merged, test_size=0.5)\n",
    "print(f\"The train dataset has {arxiv_nlp_train.shape[0]} rows, the test dataset {arxiv_nlp_test.shape[0]} rows\")"
   ]
  },
  {
   "cell_type": "markdown",
   "id": "762e023b-f356-4f42-afc6-fb59d26537a9",
   "metadata": {},
   "source": [
    "## Save"
   ]
  },
  {
   "cell_type": "code",
   "execution_count": 10,
   "id": "55162e94-e1f1-4d16-a6c1-28b99d1c2e79",
   "metadata": {},
   "outputs": [],
   "source": [
    "import zipfile as zf\n",
    "\n",
    "with zf.ZipFile('../data/arxiv_nlp.csv.zip', 'w') as ziparchive:\n",
    "    ziparchive.writestr('arxiv_nlp.csv', arxiv_nlp_merged.to_csv())\n",
    "\n",
    "with zf.ZipFile('../data/arxiv_nlp_test.csv.zip', 'w') as ziparchive:\n",
    "    ziparchive.writestr('arxiv_nlp_test.csv', arxiv_nlp_test.to_csv())\n",
    "\n",
    "with zf.ZipFile('../data/arxiv_nlp_train.csv.zip', 'w') as ziparchive:\n",
    "    ziparchive.writestr('arxiv_nlp_train.csv', arxiv_nlp_train.to_csv())\n"
   ]
  },
  {
   "cell_type": "code",
   "execution_count": null,
   "id": "3b259dca-26b9-474b-93c4-fed1e675a488",
   "metadata": {},
   "outputs": [],
   "source": []
  }
 ],
 "metadata": {
  "kernelspec": {
   "display_name": "Python 3 (ipykernel)",
   "language": "python",
   "name": "python3"
  },
  "language_info": {
   "codemirror_mode": {
    "name": "ipython",
    "version": 3
   },
   "file_extension": ".py",
   "mimetype": "text/x-python",
   "name": "python",
   "nbconvert_exporter": "python",
   "pygments_lexer": "ipython3",
   "version": "3.12.2"
  }
 },
 "nbformat": 4,
 "nbformat_minor": 5
}
